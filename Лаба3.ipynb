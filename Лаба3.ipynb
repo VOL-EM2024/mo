{
  "nbformat": 4,
  "nbformat_minor": 0,
  "metadata": {
    "colab": {
      "provenance": [],
      "authorship_tag": "ABX9TyMvlVBqy0jSXVDfX80nnoqW",
      "include_colab_link": true
    },
    "kernelspec": {
      "name": "python3",
      "display_name": "Python 3"
    },
    "language_info": {
      "name": "python"
    }
  },
  "cells": [
    {
      "cell_type": "markdown",
      "metadata": {
        "id": "view-in-github",
        "colab_type": "text"
      },
      "source": [
        "<a href=\"https://colab.research.google.com/github/VOL-EM2024/mo/blob/main/%D0%9B%D0%B0%D0%B1%D0%B03.ipynb\" target=\"_parent\"><img src=\"https://colab.research.google.com/assets/colab-badge.svg\" alt=\"Open In Colab\"/></a>"
      ]
    },
    {
      "cell_type": "code",
      "source": [
        "import zipfile\n",
        "import json\n",
        "import pandas as pd\n",
        "from tqdm import tqdm"
      ],
      "metadata": {
        "id": "EQl5Jt9Ze_Px"
      },
      "execution_count": 71,
      "outputs": []
    },
    {
      "cell_type": "code",
      "source": [
        "!pip install pymorphy2\n",
        "!pip install pymorphy3"
      ],
      "metadata": {
        "colab": {
          "base_uri": "https://localhost:8080/"
        },
        "id": "R3FS8tlDWTvn",
        "outputId": "15f7c140-ff00-4957-c12a-22f384408e5a"
      },
      "execution_count": 72,
      "outputs": [
        {
          "output_type": "stream",
          "name": "stdout",
          "text": [
            "Requirement already satisfied: pymorphy2 in /usr/local/lib/python3.10/dist-packages (0.9.1)\n",
            "Requirement already satisfied: dawg-python>=0.7.1 in /usr/local/lib/python3.10/dist-packages (from pymorphy2) (0.7.2)\n",
            "Requirement already satisfied: pymorphy2-dicts-ru<3.0,>=2.4 in /usr/local/lib/python3.10/dist-packages (from pymorphy2) (2.4.417127.4579844)\n",
            "Requirement already satisfied: docopt>=0.6 in /usr/local/lib/python3.10/dist-packages (from pymorphy2) (0.6.2)\n",
            "Requirement already satisfied: pymorphy3 in /usr/local/lib/python3.10/dist-packages (2.0.1)\n",
            "Requirement already satisfied: dawg-python>=0.7.1 in /usr/local/lib/python3.10/dist-packages (from pymorphy3) (0.7.2)\n",
            "Requirement already satisfied: pymorphy3-dicts-ru in /usr/local/lib/python3.10/dist-packages (from pymorphy3) (2.4.417150.4580142)\n"
          ]
        }
      ]
    },
    {
      "cell_type": "code",
      "execution_count": 73,
      "metadata": {
        "id": "9XPPkvNNALB6"
      },
      "outputs": [],
      "source": [
        "import pymorphy3\n",
        "import plotly.graph_objs as go"
      ]
    },
    {
      "cell_type": "code",
      "source": [
        "import numpy as np\n",
        "import re\n",
        "import nltk\n",
        "from nltk.corpus import stopwords\n",
        "from nltk.tokenize import word_tokenize\n",
        "import pymorphy2\n",
        "from sklearn.feature_extraction.text import CountVectorizer\n",
        "from sklearn.feature_extraction.text import TfidfVectorizer\n",
        "import matplotlib.pyplot as plt\n",
        "from wordcloud import WordCloud\n",
        "nltk.download('wordnet')\n",
        "nltk.download('stopwords')\n",
        "nltk.download('punkt')"
      ],
      "metadata": {
        "colab": {
          "base_uri": "https://localhost:8080/"
        },
        "id": "-qiplaT1MXkL",
        "outputId": "8ef90420-5982-40ab-da10-7bb2bb8af66c"
      },
      "execution_count": 74,
      "outputs": [
        {
          "output_type": "stream",
          "name": "stderr",
          "text": [
            "[nltk_data] Downloading package wordnet to /root/nltk_data...\n",
            "[nltk_data]   Package wordnet is already up-to-date!\n",
            "[nltk_data] Downloading package stopwords to /root/nltk_data...\n",
            "[nltk_data]   Package stopwords is already up-to-date!\n",
            "[nltk_data] Downloading package punkt to /root/nltk_data...\n",
            "[nltk_data]   Package punkt is already up-to-date!\n"
          ]
        },
        {
          "output_type": "execute_result",
          "data": {
            "text/plain": [
              "True"
            ]
          },
          "metadata": {},
          "execution_count": 74
        }
      ]
    },
    {
      "cell_type": "code",
      "source": [
        "df = pd.read_csv(\"/content/russian_jokes.csv\")"
      ],
      "metadata": {
        "id": "7U9X8J97M2kr"
      },
      "execution_count": 75,
      "outputs": []
    },
    {
      "cell_type": "code",
      "source": [
        "df.info()"
      ],
      "metadata": {
        "colab": {
          "base_uri": "https://localhost:8080/"
        },
        "id": "mzv8EKRMM6jz",
        "outputId": "bc8692c6-3a4b-4ecd-8470-9a3df7ad4e57"
      },
      "execution_count": 76,
      "outputs": [
        {
          "output_type": "stream",
          "name": "stdout",
          "text": [
            "<class 'pandas.core.frame.DataFrame'>\n",
            "RangeIndex: 63927 entries, 0 to 63926\n",
            "Data columns (total 8 columns):\n",
            " #   Column          Non-Null Count  Dtype \n",
            "---  ------          --------------  ----- \n",
            " 0   text            61685 non-null  object\n",
            " 1   comments_count  63927 non-null  int64 \n",
            " 2   likes_count     63927 non-null  int64 \n",
            " 3   reposts_count   63927 non-null  int64 \n",
            " 4   views_count     63927 non-null  int64 \n",
            " 5   date            63927 non-null  object\n",
            " 6   unique_key      63927 non-null  object\n",
            " 7   group_source    63927 non-null  object\n",
            "dtypes: int64(4), object(4)\n",
            "memory usage: 3.9+ MB\n"
          ]
        }
      ]
    },
    {
      "cell_type": "code",
      "source": [
        "df.drop(['comments_count', 'likes_count', 'reposts_count', 'views_count', 'date'], axis=1, inplace=True)"
      ],
      "metadata": {
        "id": "5ieHVodVM-Ui"
      },
      "execution_count": 77,
      "outputs": []
    },
    {
      "cell_type": "code",
      "source": [
        "df.dropna()"
      ],
      "metadata": {
        "colab": {
          "base_uri": "https://localhost:8080/",
          "height": 423
        },
        "id": "gtgvSOFfND9S",
        "outputId": "8cfc6e91-09b2-48f2-855b-e42ca229fa56"
      },
      "execution_count": 78,
      "outputs": [
        {
          "output_type": "execute_result",
          "data": {
            "text/plain": [
              "                                                    text  \\\n",
              "0      Директор отчитывает главбуха-еврея: \\n- Яков С...   \n",
              "1      — Изя, как вы думаете, объявления в газетах да...   \n",
              "2      Метро. На единственное свободное место садится...   \n",
              "3      Тюлька и килька вышли замуж за евреев. Теперь ...   \n",
              "4      Судился еврей с армянином. В итоге судье дали ...   \n",
              "...                                                  ...   \n",
              "63922  Просыпается мужик с дичайшего бодуна. Лежал, л...   \n",
              "63923        -Вы кто по гороскопу?\\n-Я рыба!\\n-А я пиво!   \n",
              "63924  — Как узнать снеговик женщина или мужчина? \\n—...   \n",
              "63925       — А у вас хлеб свежий?\\n— Нет, прошлогодний!   \n",
              "63926         — У вас анекдоты свежие? \\n— Прошлогодние!   \n",
              "\n",
              "                         unique_key               group_source  \n",
              "0      m3Cvn1OcrSBlJ_gABgIoRQBcyH0V  https://vk.com/jewishpugs  \n",
              "1      GPIii1u2kEabZEbnHqLTAyZA37ES  https://vk.com/jewishpugs  \n",
              "2      GJLahnmtLvVcc8x41sdV-lACQNPy  https://vk.com/jewishpugs  \n",
              "3      lBev3CChZteVPLaD1GHpYawoK5a4  https://vk.com/jewishpugs  \n",
              "4      I0rV0HbWhAkGHsnPNnBaONSUkKeX  https://vk.com/jewishpugs  \n",
              "...                             ...                        ...  \n",
              "63922  vDjdEcFiG8YrKcjeXaSvjUijhwMb      https://vk.com/baneks  \n",
              "63923  ehQYA9rZywBq_iLUFL0q7Ko4lv3c      https://vk.com/baneks  \n",
              "63924  8fwnP1V5aLBdRMjPFe59pH7EfdWc      https://vk.com/baneks  \n",
              "63925  cr-Y3pWxUJfKP4KnQ7Jl823354aC      https://vk.com/baneks  \n",
              "63926  ucDChfTSn_qC9TgO9TB3iinp8euo      https://vk.com/baneks  \n",
              "\n",
              "[61685 rows x 3 columns]"
            ],
            "text/html": [
              "\n",
              "  <div id=\"df-04af2eab-812c-403e-8b64-f84ee94b3a92\" class=\"colab-df-container\">\n",
              "    <div>\n",
              "<style scoped>\n",
              "    .dataframe tbody tr th:only-of-type {\n",
              "        vertical-align: middle;\n",
              "    }\n",
              "\n",
              "    .dataframe tbody tr th {\n",
              "        vertical-align: top;\n",
              "    }\n",
              "\n",
              "    .dataframe thead th {\n",
              "        text-align: right;\n",
              "    }\n",
              "</style>\n",
              "<table border=\"1\" class=\"dataframe\">\n",
              "  <thead>\n",
              "    <tr style=\"text-align: right;\">\n",
              "      <th></th>\n",
              "      <th>text</th>\n",
              "      <th>unique_key</th>\n",
              "      <th>group_source</th>\n",
              "    </tr>\n",
              "  </thead>\n",
              "  <tbody>\n",
              "    <tr>\n",
              "      <th>0</th>\n",
              "      <td>Директор отчитывает главбуха-еврея: \\n- Яков С...</td>\n",
              "      <td>m3Cvn1OcrSBlJ_gABgIoRQBcyH0V</td>\n",
              "      <td>https://vk.com/jewishpugs</td>\n",
              "    </tr>\n",
              "    <tr>\n",
              "      <th>1</th>\n",
              "      <td>— Изя, как вы думаете, объявления в газетах да...</td>\n",
              "      <td>GPIii1u2kEabZEbnHqLTAyZA37ES</td>\n",
              "      <td>https://vk.com/jewishpugs</td>\n",
              "    </tr>\n",
              "    <tr>\n",
              "      <th>2</th>\n",
              "      <td>Метро. На единственное свободное место садится...</td>\n",
              "      <td>GJLahnmtLvVcc8x41sdV-lACQNPy</td>\n",
              "      <td>https://vk.com/jewishpugs</td>\n",
              "    </tr>\n",
              "    <tr>\n",
              "      <th>3</th>\n",
              "      <td>Тюлька и килька вышли замуж за евреев. Теперь ...</td>\n",
              "      <td>lBev3CChZteVPLaD1GHpYawoK5a4</td>\n",
              "      <td>https://vk.com/jewishpugs</td>\n",
              "    </tr>\n",
              "    <tr>\n",
              "      <th>4</th>\n",
              "      <td>Судился еврей с армянином. В итоге судье дали ...</td>\n",
              "      <td>I0rV0HbWhAkGHsnPNnBaONSUkKeX</td>\n",
              "      <td>https://vk.com/jewishpugs</td>\n",
              "    </tr>\n",
              "    <tr>\n",
              "      <th>...</th>\n",
              "      <td>...</td>\n",
              "      <td>...</td>\n",
              "      <td>...</td>\n",
              "    </tr>\n",
              "    <tr>\n",
              "      <th>63922</th>\n",
              "      <td>Просыпается мужик с дичайшего бодуна. Лежал, л...</td>\n",
              "      <td>vDjdEcFiG8YrKcjeXaSvjUijhwMb</td>\n",
              "      <td>https://vk.com/baneks</td>\n",
              "    </tr>\n",
              "    <tr>\n",
              "      <th>63923</th>\n",
              "      <td>-Вы кто по гороскопу?\\n-Я рыба!\\n-А я пиво!</td>\n",
              "      <td>ehQYA9rZywBq_iLUFL0q7Ko4lv3c</td>\n",
              "      <td>https://vk.com/baneks</td>\n",
              "    </tr>\n",
              "    <tr>\n",
              "      <th>63924</th>\n",
              "      <td>— Как узнать снеговик женщина или мужчина? \\n—...</td>\n",
              "      <td>8fwnP1V5aLBdRMjPFe59pH7EfdWc</td>\n",
              "      <td>https://vk.com/baneks</td>\n",
              "    </tr>\n",
              "    <tr>\n",
              "      <th>63925</th>\n",
              "      <td>— А у вас хлеб свежий?\\n— Нет, прошлогодний!</td>\n",
              "      <td>cr-Y3pWxUJfKP4KnQ7Jl823354aC</td>\n",
              "      <td>https://vk.com/baneks</td>\n",
              "    </tr>\n",
              "    <tr>\n",
              "      <th>63926</th>\n",
              "      <td>— У вас анекдоты свежие? \\n— Прошлогодние!</td>\n",
              "      <td>ucDChfTSn_qC9TgO9TB3iinp8euo</td>\n",
              "      <td>https://vk.com/baneks</td>\n",
              "    </tr>\n",
              "  </tbody>\n",
              "</table>\n",
              "<p>61685 rows × 3 columns</p>\n",
              "</div>\n",
              "    <div class=\"colab-df-buttons\">\n",
              "\n",
              "  <div class=\"colab-df-container\">\n",
              "    <button class=\"colab-df-convert\" onclick=\"convertToInteractive('df-04af2eab-812c-403e-8b64-f84ee94b3a92')\"\n",
              "            title=\"Convert this dataframe to an interactive table.\"\n",
              "            style=\"display:none;\">\n",
              "\n",
              "  <svg xmlns=\"http://www.w3.org/2000/svg\" height=\"24px\" viewBox=\"0 -960 960 960\">\n",
              "    <path d=\"M120-120v-720h720v720H120Zm60-500h600v-160H180v160Zm220 220h160v-160H400v160Zm0 220h160v-160H400v160ZM180-400h160v-160H180v160Zm440 0h160v-160H620v160ZM180-180h160v-160H180v160Zm440 0h160v-160H620v160Z\"/>\n",
              "  </svg>\n",
              "    </button>\n",
              "\n",
              "  <style>\n",
              "    .colab-df-container {\n",
              "      display:flex;\n",
              "      gap: 12px;\n",
              "    }\n",
              "\n",
              "    .colab-df-convert {\n",
              "      background-color: #E8F0FE;\n",
              "      border: none;\n",
              "      border-radius: 50%;\n",
              "      cursor: pointer;\n",
              "      display: none;\n",
              "      fill: #1967D2;\n",
              "      height: 32px;\n",
              "      padding: 0 0 0 0;\n",
              "      width: 32px;\n",
              "    }\n",
              "\n",
              "    .colab-df-convert:hover {\n",
              "      background-color: #E2EBFA;\n",
              "      box-shadow: 0px 1px 2px rgba(60, 64, 67, 0.3), 0px 1px 3px 1px rgba(60, 64, 67, 0.15);\n",
              "      fill: #174EA6;\n",
              "    }\n",
              "\n",
              "    .colab-df-buttons div {\n",
              "      margin-bottom: 4px;\n",
              "    }\n",
              "\n",
              "    [theme=dark] .colab-df-convert {\n",
              "      background-color: #3B4455;\n",
              "      fill: #D2E3FC;\n",
              "    }\n",
              "\n",
              "    [theme=dark] .colab-df-convert:hover {\n",
              "      background-color: #434B5C;\n",
              "      box-shadow: 0px 1px 3px 1px rgba(0, 0, 0, 0.15);\n",
              "      filter: drop-shadow(0px 1px 2px rgba(0, 0, 0, 0.3));\n",
              "      fill: #FFFFFF;\n",
              "    }\n",
              "  </style>\n",
              "\n",
              "    <script>\n",
              "      const buttonEl =\n",
              "        document.querySelector('#df-04af2eab-812c-403e-8b64-f84ee94b3a92 button.colab-df-convert');\n",
              "      buttonEl.style.display =\n",
              "        google.colab.kernel.accessAllowed ? 'block' : 'none';\n",
              "\n",
              "      async function convertToInteractive(key) {\n",
              "        const element = document.querySelector('#df-04af2eab-812c-403e-8b64-f84ee94b3a92');\n",
              "        const dataTable =\n",
              "          await google.colab.kernel.invokeFunction('convertToInteractive',\n",
              "                                                    [key], {});\n",
              "        if (!dataTable) return;\n",
              "\n",
              "        const docLinkHtml = 'Like what you see? Visit the ' +\n",
              "          '<a target=\"_blank\" href=https://colab.research.google.com/notebooks/data_table.ipynb>data table notebook</a>'\n",
              "          + ' to learn more about interactive tables.';\n",
              "        element.innerHTML = '';\n",
              "        dataTable['output_type'] = 'display_data';\n",
              "        await google.colab.output.renderOutput(dataTable, element);\n",
              "        const docLink = document.createElement('div');\n",
              "        docLink.innerHTML = docLinkHtml;\n",
              "        element.appendChild(docLink);\n",
              "      }\n",
              "    </script>\n",
              "  </div>\n",
              "\n",
              "\n",
              "<div id=\"df-5213dbf4-774a-4839-8b1b-08d99742e071\">\n",
              "  <button class=\"colab-df-quickchart\" onclick=\"quickchart('df-5213dbf4-774a-4839-8b1b-08d99742e071')\"\n",
              "            title=\"Suggest charts\"\n",
              "            style=\"display:none;\">\n",
              "\n",
              "<svg xmlns=\"http://www.w3.org/2000/svg\" height=\"24px\"viewBox=\"0 0 24 24\"\n",
              "     width=\"24px\">\n",
              "    <g>\n",
              "        <path d=\"M19 3H5c-1.1 0-2 .9-2 2v14c0 1.1.9 2 2 2h14c1.1 0 2-.9 2-2V5c0-1.1-.9-2-2-2zM9 17H7v-7h2v7zm4 0h-2V7h2v10zm4 0h-2v-4h2v4z\"/>\n",
              "    </g>\n",
              "</svg>\n",
              "  </button>\n",
              "\n",
              "<style>\n",
              "  .colab-df-quickchart {\n",
              "      --bg-color: #E8F0FE;\n",
              "      --fill-color: #1967D2;\n",
              "      --hover-bg-color: #E2EBFA;\n",
              "      --hover-fill-color: #174EA6;\n",
              "      --disabled-fill-color: #AAA;\n",
              "      --disabled-bg-color: #DDD;\n",
              "  }\n",
              "\n",
              "  [theme=dark] .colab-df-quickchart {\n",
              "      --bg-color: #3B4455;\n",
              "      --fill-color: #D2E3FC;\n",
              "      --hover-bg-color: #434B5C;\n",
              "      --hover-fill-color: #FFFFFF;\n",
              "      --disabled-bg-color: #3B4455;\n",
              "      --disabled-fill-color: #666;\n",
              "  }\n",
              "\n",
              "  .colab-df-quickchart {\n",
              "    background-color: var(--bg-color);\n",
              "    border: none;\n",
              "    border-radius: 50%;\n",
              "    cursor: pointer;\n",
              "    display: none;\n",
              "    fill: var(--fill-color);\n",
              "    height: 32px;\n",
              "    padding: 0;\n",
              "    width: 32px;\n",
              "  }\n",
              "\n",
              "  .colab-df-quickchart:hover {\n",
              "    background-color: var(--hover-bg-color);\n",
              "    box-shadow: 0 1px 2px rgba(60, 64, 67, 0.3), 0 1px 3px 1px rgba(60, 64, 67, 0.15);\n",
              "    fill: var(--button-hover-fill-color);\n",
              "  }\n",
              "\n",
              "  .colab-df-quickchart-complete:disabled,\n",
              "  .colab-df-quickchart-complete:disabled:hover {\n",
              "    background-color: var(--disabled-bg-color);\n",
              "    fill: var(--disabled-fill-color);\n",
              "    box-shadow: none;\n",
              "  }\n",
              "\n",
              "  .colab-df-spinner {\n",
              "    border: 2px solid var(--fill-color);\n",
              "    border-color: transparent;\n",
              "    border-bottom-color: var(--fill-color);\n",
              "    animation:\n",
              "      spin 1s steps(1) infinite;\n",
              "  }\n",
              "\n",
              "  @keyframes spin {\n",
              "    0% {\n",
              "      border-color: transparent;\n",
              "      border-bottom-color: var(--fill-color);\n",
              "      border-left-color: var(--fill-color);\n",
              "    }\n",
              "    20% {\n",
              "      border-color: transparent;\n",
              "      border-left-color: var(--fill-color);\n",
              "      border-top-color: var(--fill-color);\n",
              "    }\n",
              "    30% {\n",
              "      border-color: transparent;\n",
              "      border-left-color: var(--fill-color);\n",
              "      border-top-color: var(--fill-color);\n",
              "      border-right-color: var(--fill-color);\n",
              "    }\n",
              "    40% {\n",
              "      border-color: transparent;\n",
              "      border-right-color: var(--fill-color);\n",
              "      border-top-color: var(--fill-color);\n",
              "    }\n",
              "    60% {\n",
              "      border-color: transparent;\n",
              "      border-right-color: var(--fill-color);\n",
              "    }\n",
              "    80% {\n",
              "      border-color: transparent;\n",
              "      border-right-color: var(--fill-color);\n",
              "      border-bottom-color: var(--fill-color);\n",
              "    }\n",
              "    90% {\n",
              "      border-color: transparent;\n",
              "      border-bottom-color: var(--fill-color);\n",
              "    }\n",
              "  }\n",
              "</style>\n",
              "\n",
              "  <script>\n",
              "    async function quickchart(key) {\n",
              "      const quickchartButtonEl =\n",
              "        document.querySelector('#' + key + ' button');\n",
              "      quickchartButtonEl.disabled = true;  // To prevent multiple clicks.\n",
              "      quickchartButtonEl.classList.add('colab-df-spinner');\n",
              "      try {\n",
              "        const charts = await google.colab.kernel.invokeFunction(\n",
              "            'suggestCharts', [key], {});\n",
              "      } catch (error) {\n",
              "        console.error('Error during call to suggestCharts:', error);\n",
              "      }\n",
              "      quickchartButtonEl.classList.remove('colab-df-spinner');\n",
              "      quickchartButtonEl.classList.add('colab-df-quickchart-complete');\n",
              "    }\n",
              "    (() => {\n",
              "      let quickchartButtonEl =\n",
              "        document.querySelector('#df-5213dbf4-774a-4839-8b1b-08d99742e071 button');\n",
              "      quickchartButtonEl.style.display =\n",
              "        google.colab.kernel.accessAllowed ? 'block' : 'none';\n",
              "    })();\n",
              "  </script>\n",
              "</div>\n",
              "    </div>\n",
              "  </div>\n"
            ],
            "application/vnd.google.colaboratory.intrinsic+json": {
              "type": "dataframe",
              "summary": "{\n  \"name\": \"df\",\n  \"rows\": 61685,\n  \"fields\": [\n    {\n      \"column\": \"text\",\n      \"properties\": {\n        \"dtype\": \"string\",\n        \"num_unique_values\": 55316,\n        \"samples\": [\n          \"\\u0414\\u0432\\u0430 \\u0433\\u0440\\u0443\\u0437\\u0438\\u043d\\u0430 \\u043f\\u043e\\u0448\\u043b\\u0438 \\u0432 \\u043a\\u043e\\u043d\\u0434\\u0438\\u0442\\u0435\\u0440\\u0441\\u043a\\u0443\\u044e.\\n\\u041e\\u0434\\u0438\\u043d \\u0437\\u0430\\u0445\\u043e\\u0434\\u0438\\u0442, \\u0435\\u0433\\u043e \\u0443\\u0433\\u043e\\u0449\\u0430\\u044e\\u0442 \\u043a\\u043e\\u043d\\u0444\\u0435\\u0442\\u0430\\u043c\\u0438, \\u0448\\u043e\\u043a\\u043e\\u043b\\u0430\\u0434\\u043e\\u043c, \\u0447\\u0430\\u044e \\u043d\\u0430\\u043b\\u0438\\u043b\\u0438, a \\u043f\\u043e\\u0442\\u043e\\u043c \\u043a\\u043e\\u043d\\u0434\\u0438\\u0442\\u0435\\u0440 \\u0441\\u043f\\u0440\\u0430\\u0448\\u0438\\u0432\\u0430\\u0435\\u0442: \\n-\\u041a\\u0430\\u0440\\u0430\\u043c\\u0435\\u043b\\u043b\\u043e \\u0434\\u0435\\u043b\\u0430\\u0442\\u044c \\u0431\\u0443\\u0434\\u0435\\u043c? \\n- \\u041d\\u0443 \\u0441\\u043b\\u044e\\u0448\\u0438, \\u0434\\u0430\\u0432\\u0430\\u0439 \\u0434\\u0435\\u043b\\u0430\\u0442\\u044c. \\n\\u041a\\u043e\\u043d\\u0434\\u0438\\u0442\\u0435\\u0440 \\u0437\\u0430\\u0433\\u0438\\u0431\\u0430\\u0435\\u0442 \\u0435\\u0433\\u043e \\u0438 \\u0432 \\u0436\\u043e\\u043f\\u0443... \\n\\u0417\\u0430\\u0445\\u043e\\u0434\\u0438\\u0442 \\u0434\\u0440\\u0443\\u0433\\u043e\\u0439 \\u0433\\u0440\\u0443\\u0437\\u0438\\u043d, \\u0435\\u0433\\u043e \\u0442\\u043e\\u0436\\u0435 \\u0443\\u0433\\u043e\\u0449\\u0430\\u044e\\u0442, \\u0448\\u043e\\u043a\\u043e\\u043b\\u0430\\u0434\\u043e\\u043c \\u043a\\u043e\\u0440\\u043c\\u044f\\u0442, \\u0447\\u0430\\u0435\\u043c \\u043f\\u043e\\u044f\\u0442, a \\u043f\\u043e\\u0442\\u043e\\u043c \\u0441\\u043f\\u0440\\u0430\\u0448\\u0438\\u0432\\u0430\\u044e\\u0442: \\n- H\\u0443 \\u0447\\u0442\\u043e? \\u041a\\u0430\\u0440\\u0430\\u043c\\u0435\\u043b\\u043b\\u043e \\u0431\\u0443\\u0434\\u0435\\u043c \\u0434\\u0435\\u043b\\u0430\\u0442\\u044c? \\n\\u0413\\u0440\\u0443\\u0437\\u0438\\u043d \\u0434\\u0443\\u043c\\u0430\\u0435\\u0442, \\u0447\\u0442\\u043e \\u044d\\u0442\\u043e \\u0442\\u0430\\u043a\\u043e\\u0435? \\n- H\\u0443 \\u0434\\u0430\\u0432\\u0430\\u0439. \\n\\u0421 \\u043d\\u0438\\u043c \\u043f\\u0440\\u043e\\u0434\\u0435\\u043b\\u044b\\u0432\\u0430\\u044e\\u0442 \\u0442\\u043e\\u0436\\u0435 \\u0441a\\u043c\\u043e\\u0435. \\n\\u0412\\u044b\\u0445\\u043e\\u0434\\u044f\\u0442 \\u043e\\u043d\\u0438 \\u0438\\u0437 \\u043a\\u043e\\u043d\\u0434\\u0438\\u0442\\u0435\\u0440\\u0441\\u043a\\u043e\\u0439, \\u0438\\u0434\\u0443\\u0442 \\u0438 \\u043c\\u043e\\u043b\\u0447\\u0430\\u0442. \\n\\u0412\\u0434\\u0440\\u0443\\u0433 \\u043e\\u0434\\u0438\\u043d \\u0441\\u043f\\u0440\\u0430\\u0448\\u0438\\u0432\\u0430\\u0435\\u0442: \\n- \\u0421\\u043b\\u0443\\u0448\\u0438, \\u0442\\u044d\\u0431\\u044d \\u043a\\u0430\\u0440\\u0430\\u043c\\u0435\\u043b\\u043b\\u043e \\u0434\\u0435\\u043ba\\u043b\\u0438? \\n- \\u041d\\u044d\\u0442. \\n- \\u0421\\u0442\\u0440\\u0430\\u043d\\u043d\\u043e, \\u043c\\u043d\\u0435 \\u0442\\u043e\\u0436\\u0435 \\u043d\\u044d\\u0442.\",\n          \"\\u041f\\u043e\\u043f\\u0435\\u0440\\u0435\\u043a \\u0443\\u043b\\u0438\\u0446\\u044b \\u043b\\u0435\\u0436\\u0438\\u0442 \\u0431\\u0440\\u0435\\u0432\\u043d\\u043e. \\u041f\\u043e\\u0434\\u044a\\u0435\\u0437\\u0436\\u0430\\u044e\\u0442 \\u043d\\u0430 \\u043f\\u043e\\u0432\\u043e\\u0437\\u043a\\u0435 \\u0434\\u0432\\u0430 \\u0435\\u0432\\u0440\\u0435\\u044f \\u0438 \\u043f\\u0440\\u0438\\u043d\\u0438\\u043c\\u0430\\u044e\\u0442\\u0441\\u044f \\u043e\\u0431\\u0441\\u0443\\u0436\\u0434\\u0430\\u0442\\u044c, \\u0447\\u0442\\u043e \\u0442\\u0443\\u0442 \\u043c\\u043e\\u0436\\u043d\\u043e \\u0441\\u0434\\u0435\\u043b\\u0430\\u0442\\u044c. \\u041f\\u043e\\u044f\\u0432\\u043b\\u044f\\u0435\\u0442\\u0441\\u044f \\u0435\\u0449\\u0435 \\u043e\\u0434\\u043d\\u0430 \\u043f\\u043e\\u0432\\u043e\\u0437\\u043a\\u0430, \\u043d\\u0430 \\u043d\\u0435\\u0439 \\u0441\\u0438\\u0434\\u0438\\u0442 \\u043f\\u043b\\u0435\\u0447\\u0438\\u0441\\u0442\\u044b\\u0439 \\u043a\\u0440\\u0435\\u0441\\u0442\\u044c\\u044f\\u043d\\u0438\\u043d. \\u041e\\u043d \\u0441\\u043e\\u0441\\u043a\\u0430\\u043a\\u0438\\u0432\\u0430\\u0435\\u0442 \\u0441 \\u043f\\u043e\\u0432\\u043e\\u0437\\u043a\\u0438, \\u0445\\u0432\\u0430\\u0442\\u0430\\u0435\\u0442 \\u0431\\u0440\\u0435\\u0432\\u043d\\u043e \\u0438 \\u043e\\u0442\\u0442\\u0430\\u0441\\u043a\\u0438\\u0432\\u0430\\u0435\\u0442 \\u0435\\u0433\\u043e \\u0432 \\u0441\\u0442\\u043e\\u0440\\u043e\\u043d\\u0443.\\n\\u042f\\u043d\\u043a\\u0435\\u043b\\u044c, \\u043f\\u043e\\u0432\\u0435\\u0440\\u043d\\u0443\\u0432\\u0448\\u0438\\u0441\\u044c \\u043a \\u0428\\u043b\\u043e\\u0439\\u043c\\u0435 \\u0441 \\u043f\\u0440\\u0435\\u0437\\u0440\\u0435\\u043d\\u0438\\u0435\\u043c:\\n\\u2014 \\u0421\\u0438\\u043b\\u0430 \\u0435\\u0441\\u0442\\u044c, \\u0443\\u043c\\u0430 \\u043d\\u0435 \\u043d\\u0430\\u0434\\u043e!\",\n          \"\\u0414\\u0422\\u041f! \\u041c\\u0435\\u0440\\u0441\\u0435\\u0434\\u0435\\u0441 \\u0438 \\u0436\\u0438\\u0433\\u0443\\u043b\\u0438. \\u0418\\u0437 \\u043c\\u0435\\u0440\\u0441\\u0430 \\u0432\\u044b\\u0445\\u043e\\u0434\\u0438\\u0442 \\\"\\u0430\\u043c\\u0431\\u0430\\u043b\\\" \\u043f\\u043e\\u0434 2 \\u043c\\u0435\\u0442\\u0440\\u0430 \\u0432 \\u0448\\u0438\\u0440\\u0438\\u043d\\u0443, \\u043f\\u043e\\u0434\\u0445\\u043e\\u0434\\u0438\\u0442 \\u043a \\u0436\\u0438\\u0433\\u0443\\u043b\\u044f\\u043c. \\u041e\\u0442\\u043a\\u0440\\u044b\\u0432\\u0430\\u0435\\u0442\\u0441\\u044f \\u043e\\u043a\\u043e\\u0448\\u043a\\u043e: \\n- \\u0421\\u043a\\u043e\\u043b\\u044c\\u043a\\u043e \\u044f \\u0442\\u0435\\u0431\\u0435 \\u0434\\u043e\\u043b\\u0436\\u0435\\u043d? \\n- \\u0420\\u0435\\u043c\\u043e\\u043d\\u0442 \\u0432\\u044b\\u0439\\u0434\\u0435\\u0442 \\u043d\\u0430 20 000 \\u0431\\u0430\\u043a\\u0441\\u043e\\u0432! \\n\\u0412\\u043e\\u0434\\u0438\\u0442\\u0435\\u043b\\u044c \\u0436\\u0438\\u0433\\u0443\\u043b\\u0438 \\u043f\\u0440\\u043e\\u0432\\u043e\\u0434\\u0438\\u0442 \\u043a\\u0430\\u043a\\u0438\\u0435 - \\u0442\\u043e \\u043c\\u0430\\u043d\\u0438\\u043f\\u0443\\u043b\\u044f\\u0446\\u0438\\u0438 \\u0432 \\u0441\\u0430\\u043b\\u043e\\u043d\\u0435. \\u0421\\u043b\\u044b\\u0448\\u0438\\u0442\\u0441\\u044f \\u0437\\u0432\\u0443\\u043a \\u0440\\u0430\\u0431\\u043e\\u0442\\u0430\\u044e\\u0449\\u0435\\u0439 \\u043f\\u0435\\u0447\\u0430\\u0442\\u043d\\u043e\\u0439 \\u043c\\u0430\\u0448\\u0438\\u043d\\u043a\\u0438. \\n- \\u0414\\u0435\\u0440\\u0436\\u0438! \\n- \\u041e\\u0445 \\u043d\\u0438\\u0444\\u0438\\u0433\\u0430 \\u0441\\u0435\\u0431\\u0435! \\u0410 \\u043a\\u0430\\u043a \\u0442\\u0430\\u043a? \\n- \\u0414\\u0430 \\u0432\\u043e\\u0442, \\u043f\\u0440\\u0438\\u043e\\u0431\\u0440\\u0435\\u043b \\u0441\\u0435\\u0431\\u0435 \\u0431\\u0430\\u043d\\u043a\\u043e\\u043c\\u0430\\u0442 \\u0432 \\u0441\\u0430\\u043b\\u043e\\u043d! \\n\\u0421\\u043b\\u044b\\u0448\\u0438\\u0442\\u0441\\u044f \\u0437\\u0432\\u043e\\u043d\\u043e\\u043a \\u043c\\u0438\\u043a\\u0440\\u043e\\u0432\\u043e\\u043b\\u043d\\u043e\\u0432\\u043a\\u0438. \\n- \\u0410 \\u044d\\u0442\\u043e \\u0447\\u0442\\u043e? \\n- \\u041c\\u0438\\u043a\\u0440\\u043e\\u0432\\u043e\\u043b\\u043d\\u043e\\u0432\\u043a\\u0430! \\u041e\\u0431\\u0435\\u0434 \\u0432\\u0435\\u0434\\u044c \\u0443\\u0436\\u0435! \\n\\u0417\\u0432\\u0443\\u043a \\u043c\\u0435\\u0445\\u0430\\u043d\\u0438\\u0437\\u043c\\u043e\\u0432. \\u0421\\u0430\\u043b\\u043e\\u043d \\u0442\\u0440\\u0430\\u043d\\u0441\\u0444\\u043e\\u0440\\u043c\\u0438\\u0440\\u0443\\u0435\\u0442\\u0441\\u044f \\u0432 \\u0431\\u043e\\u043b\\u044c\\u0448\\u043e\\u0439 \\u0434\\u0438\\u0432\\u0430\\u043d, \\u0438\\u0437 \\u043f\\u0430\\u043d\\u0435\\u043b\\u0438 \\u043f\\u0440\\u0438\\u0431\\u043e\\u0440\\u043e\\u0432 \\\"\\u0432\\u044b\\u0445\\u043e\\u0434\\u0438\\u0442\\\" \\u043f\\u043b\\u0430\\u0437\\u043c\\u0435\\u043d\\u043d\\u044b\\u0439 \\u0442\\u0435\\u043b\\u0435\\u0432\\u0438\\u0437\\u043e\\u0440. \\n\\u0412\\u043e\\u0434\\u0438\\u0442\\u0435\\u043b\\u044c \\u043c\\u0435\\u0440\\u0441\\u0435\\u0434\\u0435\\u0441\\u0430 \\u0432 \\u043f\\u043e\\u043b\\u043d\\u043e\\u043c \\u0448\\u043e\\u043a\\u0435, \\u043c\\u043e\\u043b, \\u0432\\u043e\\u0442 \\u044d\\u0442\\u043e \\u043d\\u0430\\u0432\\u043e\\u0440\\u043e\\u0442\\u044b! \\u0421\\u0435\\u043b \\u0432 \\u043c\\u0435\\u0440\\u0441 \\u0438 \\u0441\\u0440\\u0430\\u0437\\u0443 \\u043d\\u0430 \\u0421\\u0422\\u041e \\u043f\\u043e\\u0435\\u0445\\u0430\\u043b, \\u0447\\u0442\\u043e \\u0441\\u0435\\u0431\\u0435 \\u0442\\u0430\\u043a\\u0438\\u0435 \\u043f\\u0440\\u0438\\u043c\\u043e\\u0447\\u043a\\u0438 \\u043f\\u043e\\u0441\\u0442\\u0430\\u0432\\u0438\\u0442\\u044c. \\u0427\\u0435\\u0440\\u0435\\u0437 2 \\u0434\\u043d\\u044f \\u0435\\u0434\\u0435\\u0442 \\u0434\\u043e\\u0432\\u043e\\u043b\\u044c\\u043d\\u044b\\u0439, \\u043f\\u043e\\u0442\\u0440\\u0430\\u0442\\u0438\\u043b\\u0441\\u044f \\u043d\\u0430 \\u043f\\u0440\\u0438\\u043c\\u043e\\u0447\\u043a\\u0438. \\u0412\\u0438\\u0434\\u0438\\u0442 - \\u0441\\u043d\\u043e\\u0432\\u0430 \\u0442\\u043e\\u0442 \\u0436\\u0438\\u0433\\u0443\\u043b\\u0435\\u043d\\u043e\\u043a \\u0441\\u0442\\u043e\\u0438\\u0442 \\u043d\\u0430 \\u043f\\u0430\\u0440\\u043a\\u043e\\u0432\\u043a\\u0435. \\u041f\\u043e\\u0434\\u044a\\u0435\\u0445\\u0430\\u043b \\u043a \\u043d\\u0435\\u043c\\u0443 \\u043f\\u043e\\u0445\\u0432\\u0430\\u0441\\u0442\\u0430\\u0442\\u044c\\u0441\\u044f, \\u0441\\u0442\\u0443\\u0447\\u0438\\u0442\\u0441\\u044f \\u0432 \\u043e\\u043a\\u043e\\u0448\\u043a\\u043e: \\n- \\u042d\\u0439, \\u0441\\u043b\\u044b\\u0448\\u044c! \\u042f \\u0442\\u043e\\u0436\\u0435 \\u0441\\u0435\\u0431\\u0435 \\u0442\\u0430\\u0447\\u043a\\u0443 \\u043e\\u0431\\u043e\\u0440\\u0443\\u0434\\u043e\\u0432\\u0430\\u043b \\u043a\\u0430\\u043a \\u0443 \\u0442\\u0435\\u0431\\u044f! \\n\\u041e\\u0442\\u043a\\u0440\\u044b\\u0432\\u0430\\u0435\\u0442\\u0441\\u044f \\u043e\\u043a\\u043e\\u0448\\u043a\\u043e: \\n- \\u0411\\u043b\\u044f\\u0442\\u044c, \\u0434\\u0430 \\u043c\\u043d\\u0435 \\u043f\\u043e\\u0445\\u0443\\u0439 \\u043d\\u0430 \\u0442\\u0435\\u0431\\u044f, \\u0431\\u043b\\u044f\\u0442\\u044c, \\u0441\\u043b\\u0443\\u0448\\u0430\\u0439, \\u043a\\u0430\\u043a\\u0430\\u044f \\u0443 \\u0442\\u0435\\u0431\\u044f \\u0442\\u0430\\u043c \\u0442\\u0430\\u0447\\u043a\\u0430, \\u0431\\u043b\\u044f\\u0442\\u044c, \\u043a\\u0432\\u0430\\u0440\\u0442\\u0438\\u0440\\u044b, \\u0441\\u0440\\u0430\\u0447\\u043a\\u0438 \\u0442\\u0430\\u043c \\u0431\\u043b\\u044f\\u0442\\u044c, \\u044f\\u0445\\u0442\\u044b, \\u0432\\u0441\\u0451, \\u043c\\u043d\\u0435 \\u043f\\u043e\\u0445\\u0443\\u0439, \\u0445\\u043e\\u0442\\u044c \\u0442\\u0430\\u043c \\\"\\u0411\\u044d\\u043d\\u0442\\u043b\\u0438\\\", \\u0445\\u043e\\u0442\\u044c \\u0431\\u043b\\u044f\\u0442\\u044c \\u043d\\u0430\\u0445\\u0443\\u0439 \\\"\\u041c\\u0430\\u0439\\u0431\\u0430\\u0445\\\", \\u0445\\u043e\\u0442\\u044c \\\"\\u0420\\u043e\\u043b\\u043b\\u0441-\\u0420\\u043e\\u0439\\u0441\\\", \\u0445\\u043e\\u0442\\u044c \\\"\\u0411\\u0443\\u0433\\u0430\\u0442\\u0442\\u0438\\\" \\u0431\\u043b\\u044f\\u0442\\u044c, \\u0445\\u043e\\u0442\\u044c \\u0441\\u0442\\u043e\\u043c\\u0435\\u0442\\u0440\\u043e\\u0432\\u0430\\u044f \\u044f\\u0445\\u0442\\u0430, \\u043c\\u043d\\u0435 \\u043d\\u0430 \\u044d\\u0442\\u043e \\u043d\\u0430\\u0441\\u0440\\u0430\\u0442\\u044c, \\u043f\\u043e\\u043d\\u0438\\u043c\\u0430\\u0435\\u0448\\u044c? \\u0421\\u043a\\u043e\\u043b\\u044c\\u043a\\u043e \\u0442\\u044b \\u0442\\u0430\\u043c, \\u043a\\u043e\\u0433\\u043e \\u0435\\u0431\\u0435\\u0448\\u044c, \\u043a\\u0430\\u043a\\u0438\\u0445 \\u0431\\u0430\\u0431, \\u043a\\u0430\\u043a\\u0438\\u0445 \\u0437\\u043d\\u0430\\u0447\\u0438\\u0442 \\u0432\\u043e\\u0442 \\u044d\\u0442\\u0438\\u0445 \\u0441\\u0430\\u043c\\u043e\\u043a \\u0448\\u0438\\u043a\\u0430\\u0440\\u043d\\u044b\\u0445 \\u0438\\u043b\\u0438 \\u0430\\u0442\\u043b\\u0430\\u0441\\u043d\\u044b\\u0445, \\u0431\\u043b\\u044f\\u0442\\u044c \\u0432 \\u043a\\u043e\\u0441\\u043c\\u043e\\u0441 \\u0442\\u044b \\u043b\\u0435\\u0442\\u0438\\u0448\\u044c, \\u043c\\u043d\\u0435 \\u043d\\u0430 \\u044d\\u0442\\u043e \\u043d\\u0430\\u0441\\u0440\\u0430\\u0442\\u044c, \\u043f\\u043e\\u043d\\u0438\\u043c\\u0430\\u0435\\u0448\\u044c? \\u042f, \\u0431\\u043b\\u044f\\u0442\\u044c, \\u0432 \\u0441\\u0432\\u043e\\u0435\\u043c \\u043f\\u043e\\u0437\\u043d\\u0430\\u043d\\u0438\\u0438 \\u043d\\u0430\\u0441\\u0442\\u043e\\u043b\\u044c\\u043a\\u043e \\u043f\\u0440\\u0435\\u0438\\u0441\\u043f\\u043e\\u043b\\u043d\\u0438\\u043b\\u0441\\u044f, \\u0447\\u0442\\u043e \\u044f \\u043a\\u0430\\u043a \\u0431\\u0443\\u0434\\u0442\\u043e \\u0431\\u044b \\u0443\\u0436\\u0435 \\u0441\\u0442\\u043e \\u0442\\u0440\\u0438\\u043b\\u043b\\u0438\\u043e\\u043d\\u043e\\u0432 \\u043c\\u0438\\u043b\\u043b\\u0438\\u0430\\u0440\\u0434\\u043e\\u0432 \\u043b\\u0435\\u0442, \\u0431\\u043b\\u044f\\u0442\\u044c, \\u043f\\u0440\\u043e\\u0436\\u0438\\u0432\\u0430\\u044e \\u043d\\u0430 \\u0442\\u0440\\u0438\\u043b\\u043b\\u0438\\u043e\\u043d\\u0430\\u0445 \\u0438 \\u0442\\u0440\\u0438\\u043b\\u043b\\u0438\\u043e\\u043d\\u0430\\u0445 \\u0442\\u0430\\u043a\\u0438\\u0445 \\u0436\\u0435 \\u043f\\u043b\\u0430\\u043d\\u0435\\u0442, \\u043a\\u0430\\u043a \\u044d\\u0442\\u0430 \\u0417\\u0435\\u043c\\u043b\\u044f, \\u043c\\u043d\\u0435 \\u044d\\u0442\\u043e\\u0442 \\u043c\\u0438\\u0440 \\u0430\\u0431\\u0441\\u043e\\u043b\\u044e\\u0442\\u043d\\u043e \\u043f\\u043e\\u043d\\u044f\\u0442\\u0435\\u043d, \\u0438 \\u044f \\u0437\\u0434\\u0435\\u0441\\u044c \\u0438\\u0449\\u0443 \\u0442\\u043e\\u043b\\u044c\\u043a\\u043e \\u043e\\u0434\\u043d\\u043e\\u0433\\u043e, \\u0431\\u043b\\u044f\\u0442\\u044c, - \\u043f\\u043e\\u043a\\u043e\\u044f, \\u0443\\u043c\\u0438\\u0440\\u043e\\u0442\\u0432\\u043e\\u0440\\u0435\\u043d\\u0438\\u044f \\u0438 \\u0432\\u043e\\u0442 \\u044d\\u0442\\u043e\\u0439 \\u0433\\u0430\\u0440\\u043c\\u043e\\u043d\\u0438\\u0438, \\u043e\\u0442 \\u0441\\u043b\\u0438\\u044f\\u043d\\u0438\\u044f \\u0441 \\u0431\\u0435\\u0441\\u043a\\u043e\\u043d\\u0435\\u0447\\u043d\\u043e \\u0432\\u0435\\u0447\\u043d\\u044b\\u043c, \\u043e\\u0442 \\u0441\\u043e\\u0437\\u0435\\u0440\\u0446\\u0430\\u043d\\u0438\\u044f \\u0432\\u0435\\u043b\\u0438\\u043a\\u043e\\u0433\\u043e \\u0444\\u0440\\u0430\\u043a\\u0442\\u0430\\u043b\\u044c\\u043d\\u043e\\u0433\\u043e \\u043f\\u043e\\u0434\\u043e\\u0431\\u0438\\u044f \\u0438 \\u043e\\u0442 \\u0432\\u043e\\u0442 \\u044d\\u0442\\u043e\\u0433\\u043e \\u0437\\u0430\\u043c\\u0435\\u0447\\u0430\\u0442\\u0435\\u043b\\u044c\\u043d\\u043e\\u0433\\u043e \\u0432\\u0441\\u0435\\u0435\\u0434\\u0438\\u043d\\u0441\\u0442\\u0432\\u0430 \\u0441\\u0443\\u0449\\u0435\\u0441\\u0442\\u0432\\u0430, \\u0431\\u0435\\u0441\\u043a\\u043e\\u043d\\u0435\\u0447\\u043d\\u043e \\u0432\\u0435\\u0447\\u043d\\u043e\\u0433\\u043e, \\u043a\\u0443\\u0434\\u0430 \\u043d\\u0438 \\u043f\\u043e\\u0441\\u043c\\u043e\\u0442\\u0440\\u0438, \\u0445\\u043e\\u0442\\u044c \\u0432\\u0433\\u043b\\u0443\\u0431\\u044c - \\u0431\\u0435\\u0441\\u043a\\u043e\\u043d\\u0435\\u0447\\u043d\\u043e \\u043c\\u0430\\u043b\\u043e\\u0435, \\u0445\\u043e\\u0442\\u044c \\u0432\\u0432\\u044b\\u0441\\u044c - \\u0431\\u0435\\u0441\\u043a\\u043e\\u043d\\u0435\\u0447\\u043d\\u043e\\u0435 \\u0431\\u043e\\u043b\\u044c\\u0448\\u043e\\u0435, \\u043f\\u043e\\u043d\\u0438\\u043c\\u0430\\u0435\\u0448\\u044c? \\u0410 \\u0442\\u044b \\u043c\\u043d\\u0435 \\u043e\\u043f\\u044f\\u0442\\u044c \\u0441\\u043e \\u0441\\u0432\\u043e\\u0438\\u043c \\u0432\\u043e\\u0442 \\u044d\\u0442\\u0438\\u043c \\u0431\\u043b\\u044f\\u0442\\u044c, \\u0438\\u0434\\u0438 \\u0441\\u0443\\u0435\\u0442\\u0438\\u0441\\u044c \\u0434\\u0430\\u043b\\u044c\\u0448\\u0435, \\u044d\\u0442\\u043e \\u0442\\u0432\\u043e\\u0451 \\u0440\\u0430\\u0441\\u043f\\u0440\\u0435\\u0434\\u0435\\u043b\\u0435\\u043d\\u0438\\u0435, \\u044d\\u0442\\u043e \\u0442\\u0432\\u043e\\u0439 \\u043f\\u0443\\u0442\\u044c \\u0438 \\u0442\\u0432\\u043e\\u0439 \\u0433\\u043e\\u0440\\u0438\\u0437\\u043e\\u043d\\u0442 \\u043f\\u043e\\u0437\\u043d\\u0430\\u043d\\u0438\\u044f \\u0438 \\u043e\\u0449\\u0443\\u0449\\u0435\\u043d\\u0438\\u044f \\u0442\\u0432\\u043e\\u0435\\u0439 \\u043f\\u0440\\u0438\\u0440\\u043e\\u0434\\u044b, \\u043e\\u043d \\u043d\\u0435\\u0441\\u043e\\u0438\\u0437\\u043c\\u0435\\u0440\\u0438\\u043c\\u043e \\u043c\\u0435\\u043b\\u043e\\u043a \\u043f\\u043e \\u0441\\u0440\\u0430\\u0432\\u043d\\u0435\\u043d\\u0438\\u044e \\u0441 \\u043c\\u043e\\u0438\\u043c, \\u043f\\u043e\\u043d\\u0438\\u043c\\u0430\\u0435\\u0448\\u044c? \\u042f \\u043a\\u0430\\u043a \\u0431\\u0443\\u0434\\u0442\\u043e \\u0431\\u044b \\u0443\\u0436\\u0435 \\u0434\\u0430\\u0432\\u043d\\u043e \\u0433\\u043b\\u0443\\u0431\\u043e\\u043a\\u0438\\u0439 \\u0441\\u0442\\u0430\\u0440\\u0435\\u0446, \\u0431\\u0435\\u0441\\u0441\\u043c\\u0435\\u0440\\u0442\\u043d\\u044b\\u0439, \\u043d\\u0443 \\u0438\\u043b\\u0438 \\u0442\\u0430\\u043c \\u0443\\u0436\\u0435 \\u043f\\u043e\\u0447\\u0442\\u0438 \\u0431\\u0435\\u0441\\u0441\\u043c\\u0435\\u0440\\u0442\\u043d\\u044b\\u0439, \\u043a\\u043e\\u0442\\u043e\\u0440\\u044b\\u0439 \\u043d\\u0430 \\u044d\\u0442\\u043e\\u0439 \\u043f\\u043b\\u0430\\u043d\\u0435\\u0442\\u0435 \\u043e\\u0442 \\u0435\\u0451 \\u0441\\u0430\\u043c\\u043e\\u0433\\u043e \\u0437\\u0430\\u0440\\u043e\\u0436\\u0434\\u0435\\u043d\\u0438\\u044f, \\u0435\\u0449\\u0451 \\u043a\\u043e\\u0433\\u0434\\u0430 \\u0442\\u043e\\u043b\\u044c\\u043a\\u043e \\u0421\\u043e\\u043b\\u043d\\u0446\\u0435 \\u0442\\u043e\\u043b\\u044c\\u043a\\u043e-\\u0442\\u043e\\u043b\\u044c\\u043a\\u043e \\u0441\\u0444\\u043e\\u0440\\u043c\\u0438\\u0440\\u043e\\u0432\\u0430\\u043b\\u043e\\u0441\\u044c \\u043a\\u0430\\u043a \\u0437\\u0432\\u0435\\u0437\\u0434\\u0430, \\u0438 \\u0432\\u043e\\u0442 \\u044d\\u0442\\u043e \\u0433\\u0430\\u0437\\u043e\\u043f\\u044b\\u043b\\u0435\\u0432\\u043e\\u0435 \\u043e\\u0431\\u043b\\u0430\\u043a\\u043e, \\u0432\\u043e\\u0442, \\u043f\\u043e\\u0441\\u043b\\u0435 \\u0432\\u0437\\u0440\\u044b\\u0432\\u0430, \\u0421\\u043e\\u043b\\u043d\\u0446\\u0430, \\u043a\\u043e\\u0433\\u0434\\u0430 \\u043e\\u043d\\u043e \\u0432\\u0441\\u043f\\u044b\\u0445\\u043d\\u0443\\u043b\\u043e, \\u043a\\u0430\\u043a \\u0437\\u0432\\u0435\\u0437\\u0434\\u0430, \\u043d\\u0430\\u0447\\u0430\\u043b\\u043e \\u0444\\u043e\\u0440\\u043c\\u0438\\u0440\\u043e\\u0432\\u0430\\u0442\\u044c \\u0432\\u043e\\u0442 \\u044d\\u0442\\u0438 \\u043a\\u043e\\u0430\\u0446\\u0435\\u0440\\u0432\\u0430\\u0442\\u044b, \\u043f\\u043b\\u0430\\u043d\\u0435\\u0442\\u044b, \\u043f\\u043e\\u043d\\u0438\\u043c\\u0430\\u0435\\u0448\\u044c, \\u044f \\u043d\\u0430 \\u044d\\u0442\\u043e\\u0439 \\u0417\\u0435\\u043c\\u043b\\u0435 \\u0443\\u0436\\u0435 \\u043a\\u0430\\u043a \\u0431\\u0443\\u0434\\u0442\\u043e \\u043f\\u043e\\u0447\\u0442\\u0438 \\u043f\\u044f\\u0442\\u044c \\u043c\\u0438\\u043b\\u043b\\u0438\\u0430\\u0440\\u0434\\u043e\\u0432 \\u043b\\u0435\\u0442 \\u0431\\u043b\\u044f\\u0442\\u044c \\u0436\\u0438\\u0432\\u0443 \\u0438 \\u0437\\u043d\\u0430\\u044e \\u0435\\u0451 \\u0432\\u0434\\u043e\\u043b\\u044c \\u0438 \\u043f\\u043e\\u043f\\u0435\\u0440\\u0451\\u043a \\u044d\\u0442\\u043e\\u0442 \\u0432\\u0435\\u0441\\u044c \\u043c\\u0438\\u0440, \\u0430 \\u0442\\u044b \\u043c\\u043d\\u0435 \\u043a\\u0430\\u043a\\u0438\\u0435-\\u0442\\u043e... \\u043c\\u043d\\u0435 \\u043f\\u043e\\u0445\\u0443\\u0439 \\u043d\\u0430 \\u0442\\u0432\\u043e\\u0438 \\u0442\\u0430\\u0447\\u043a\\u0438, \\u043d\\u0430 \\u0442\\u0432\\u043e\\u0438 \\u0431\\u043b\\u044f\\u0442\\u044c \\u043d\\u0430\\u0445\\u0443\\u0439 \\u044f\\u0445\\u0442\\u044b, \\u043d\\u0430 \\u0442\\u0432\\u043e\\u0438 \\u043a\\u0432\\u0430\\u0440\\u0442\\u0438\\u0440\\u044b, \\u0442\\u0430\\u043c, \\u043d\\u0430 \\u0442\\u0432\\u043e\\u0451 \\u0431\\u043b\\u0430\\u0433\\u043e. \\u042f \\u0431\\u044b\\u043b \\u043d\\u0430 \\u044d\\u0442\\u043e\\u0439 \\u043f\\u043b\\u0430\\u043d\\u0435\\u0442\\u0435 \\u0431\\u0435\\u0441\\u043a\\u043e\\u043d\\u0435\\u0447\\u043d\\u044b\\u043c \\u043c\\u043d\\u043e\\u0436\\u0435\\u0441\\u0442\\u0432\\u043e\\u043c, \\u0438 \\u043a\\u0440\\u0443\\u0447\\u0435 \\u0426\\u0435\\u0437\\u0430\\u0440\\u044f, \\u0438 \\u043a\\u0440\\u0443\\u0447\\u0435 \\u0413\\u0438\\u0442\\u043b\\u0435\\u0440\\u0430, \\u0438 \\u043a\\u0440\\u0443\\u0447\\u0435 \\u0432\\u0441\\u0435\\u0445 \\u0432\\u0435\\u043b\\u0438\\u043a\\u0438\\u0445, \\u043f\\u043e\\u043d\\u0438\\u043c\\u0430\\u0435\\u0448\\u044c, \\u0431\\u044b\\u043b, \\u0430 \\u0433\\u0434\\u0435-\\u0442\\u043e \\u0431\\u044b\\u043b \\u043a\\u043e\\u043d\\u0447\\u0435\\u043d\\u044b\\u043c \\u0433\\u043e\\u0432\\u043d\\u043e\\u043c, \\u0435\\u0449\\u0451 \\u0445\\u0443\\u0436\\u0435, \\u0447\\u0435\\u043c \\u0437\\u0434\\u0435\\u0441\\u044c. \\u042f \\u043c\\u043d\\u043e\\u0436\\u0435\\u0441\\u0442\\u0432\\u043e \\u044d\\u0442\\u0438\\u0445 \\u0441\\u043e\\u0441\\u0442\\u043e\\u044f\\u043d\\u0438\\u0439 \\u0447\\u0443\\u0432\\u0441\\u0442\\u0432\\u0443\\u044e. \\u0413\\u0434\\u0435-\\u0442\\u043e \\u044f \\u0431\\u044b\\u043b \\u0431\\u043e\\u043b\\u044c\\u0448\\u0435 \\u043f\\u043e\\u0434\\u043e\\u0431\\u0435\\u043d \\u0440\\u0430\\u0441\\u0442\\u0435\\u043d\\u0438\\u044e, \\u0433\\u0434\\u0435-\\u0442\\u043e \\u044f \\u0431\\u043e\\u043b\\u044c\\u0448\\u0435 \\u0431\\u044b\\u043b \\u043f\\u043e\\u0434\\u043e\\u0431\\u0435\\u043d \\u043f\\u0442\\u0438\\u0446\\u0435, \\u0442\\u0430\\u043c, \\u0447\\u0435\\u0440\\u0432\\u044e, \\u0433\\u0434\\u0435-\\u0442\\u043e \\u0431\\u044b\\u043b \\u043f\\u0440\\u043e\\u0441\\u0442\\u043e \\u0441\\u0433\\u0443\\u0441\\u0442\\u043e\\u043a \\u043a\\u0430\\u043c\\u043d\\u044f, \\u044d\\u0442\\u043e \\u0432\\u0441\\u0451 \\u0435\\u0441\\u0442\\u044c \\u0434\\u0443\\u0448\\u0430, \\u043f\\u043e\\u043d\\u0438\\u043c\\u0430\\u0435\\u0448\\u044c? \\u041e\\u043d\\u0430 \\u0438\\u043c\\u0435\\u0435\\u0442 \\u0433\\u0440\\u0430\\u043d\\u0438 \\u043f\\u043e\\u0434\\u043e\\u0431\\u0438\\u044f \\u0441\\u043e\\u0432\\u0435\\u0440\\u0448\\u0435\\u043d\\u043d\\u043e \\u043c\\u043d\\u043e\\u0433\\u043e\\u043e\\u0431\\u0440\\u0430\\u0437\\u043d\\u044b\\u0435, \\u0431\\u0435\\u0441\\u043a\\u043e\\u043d\\u0435\\u0447\\u043d\\u043e\\u0435 \\u043c\\u043d\\u043e\\u0436\\u0435\\u0441\\u0442\\u0432\\u043e. \\u041d\\u043e \\u0442\\u0435\\u0431\\u0435 \\u044d\\u0442\\u043e\\u0433\\u043e \\u043d\\u0435 \\u043f\\u043e\\u043d\\u044f\\u0442\\u044c, \\u043f\\u043e\\u044d\\u0442\\u043e\\u043c\\u0443 \\u0442\\u044b \\u0435\\u0437\\u0436\\u0430\\u0439 \\u0441\\u0435\\u0431\\u0435 \\u0431\\u043b\\u044f\\u0442\\u044c, \\u043c\\u044b \\u0432 \\u044d\\u0442\\u043e\\u043c \\u043c\\u0438\\u0440\\u0435 \\u043a\\u0430\\u043a \\u0431\\u044b \\u0436\\u0438\\u0432\\u0435\\u043c \\u0440\\u0430\\u0437\\u043d\\u044b\\u043c\\u0438 \\u043e\\u0449\\u0443\\u0449\\u0435\\u043d\\u0438\\u044f\\u043c\\u0438 \\u0438 \\u0440\\u0430\\u0437\\u043d\\u044b\\u043c\\u0438 \\u0441\\u0442\\u0440\\u0435\\u043c\\u043b\\u0435\\u043d\\u0438\\u044f\\u043c\\u0438, \\u0441\\u043e\\u043e\\u0442\\u0432\\u0435\\u0442\\u0441\\u0442\\u0432\\u0435\\u043d\\u043d\\u043e, \\u0440\\u0430\\u0437\\u043d\\u043e\\u0435 \\u043d\\u0430\\u0448\\u0435 \\u0438 \\u043c\\u0435\\u0441\\u0442\\u043e, \\u0440\\u0430\\u0437\\u043d\\u043e\\u0435 \\u0438 \\u043d\\u0430\\u0448\\u0435 \\u0440\\u0430\\u0441\\u043f\\u0440\\u0435\\u0434\\u0435\\u043b\\u0435\\u043d\\u0438\\u0435. \\u0422\\u0435\\u0431\\u0435 \\u044f \\u0436\\u0435\\u043b\\u0430\\u044e \\u0432\\u0441\\u0435 \\u0441\\u0430\\u043c\\u044b\\u0435 \\u043a\\u0440\\u0443\\u0442\\u044b\\u0435 \\u0442\\u0430\\u0447\\u043a\\u0438 \\u0447\\u0442\\u043e\\u0431 \\u0431\\u044b\\u043b\\u0438 \\u0443 \\u0442\\u0435\\u0431\\u044f, \\u0438 \\u0432\\u0441\\u0435 \\u0441\\u0430\\u043c\\u044b\\u0435 \\u043b\\u0443\\u0447\\u0448\\u0435 \\u0441\\u0430\\u043c\\u043a\\u0438 \\u0447\\u0442\\u043e\\u0431\\u044b \\u0440\\u0430\\u0437\\u0434\\u0432\\u0438\\u0433\\u0430\\u043b\\u0438 \\u043d\\u043e\\u0433\\u0438 \\u043f\\u0435\\u0440\\u0435\\u0434 \\u0442\\u043e\\u0431\\u043e\\u0439, \\u0447\\u0442\\u043e\\u0431\\u044b \\u0440\\u0430\\u0437\\u0434\\u0432\\u0438\\u0433\\u0430\\u043b\\u0438 \\u043f\\u0435\\u0440\\u0435\\u0434 \\u0442\\u043e\\u0431\\u043e\\u0439 \\u0449\\u0435\\u043b\\u0438, \\u043d\\u0430 \\u0448\\u0438\\u0432\\u043e\\u0440\\u043e\\u0442-\\u043d\\u0430\\u0432\\u044b\\u0432\\u043e\\u0440\\u043e\\u0442, \\u0431\\u043b\\u044f\\u0442\\u044c, \\u043f\\u0435\\u0440\\u0435\\u0434 \\u0442\\u043e\\u0431\\u043e\\u0439, \\u043a\\u0430\\u043a \\u043a\\u043e\\u0432\\u0451\\u0440, \\u044d\\u0442\\u043e \\u0441\\u0430\\u043c\\u043e\\u0435, \\u0440\\u0430\\u0441\\u043a\\u0440\\u044b\\u0432\\u0430\\u043b\\u0438, \\u0440\\u0430\\u0441\\u0442\\u043b\\u0435\\u0432\\u0430\\u043b\\u0438, \\u0440\\u0430\\u0441\\u0442\\u043b\\u0430\\u043b\\u0438, \\u0438 \\u0442\\u044b \\u0438\\u0445 \\u0447\\u0442\\u043e\\u0431\\u044b \\u0435\\u0431\\u0430\\u043b \\u0434\\u043e \\u043f\\u043e\\u0441\\u0438\\u043d\\u0435\\u043d\\u0438\\u044f, \\u0434\\u043e\\u043a\\u0440\\u0430\\u0441\\u043d\\u0430, \\u0432\\u043e\\u043d, \\u043a\\u0430\\u043a \\u0421\\u043e\\u043b\\u043d\\u0446\\u0435 \\u0437\\u0430\\u043a\\u0430\\u0442\\u043d\\u043e\\u0435, \\u0438 \\u0447\\u0442\\u043e\\u0431 \\u043d\\u0430 \\u043b\\u0443\\u0447\\u0448\\u0438\\u0445 \\u044f\\u0445\\u0442\\u0430\\u0445, \\u0438 \\u043d\\u0430 \\u0441\\u0430\\u043c\\u043e\\u043b\\u0451\\u0442\\u0430\\u0445 \\u043b\\u0435\\u0442\\u0430\\u043b, \\u0438 \\u043a\\u043e\\u043d\\u0447\\u0430\\u043b \\u043f\\u0440\\u044f\\u043c\\u043e \\u0441 \\u0438\\u043b\\u043b\\u044e\\u043c\\u0438\\u043d\\u0430\\u0442\\u043e\\u0440\\u0430, \\u0438 \\u0434\\u0435\\u043b\\u0430\\u043b \\u0432\\u0441\\u0451, \\u0447\\u0442\\u043e \\u0442\\u043e\\u043b\\u044c\\u043a\\u043e \\u0432 \\u0433\\u043e\\u043b\\u043e\\u0432\\u0443 \\u043c\\u043e\\u0433\\u043b\\u043e \\u043f\\u0440\\u0438\\u0439\\u0442\\u0438 \\u0438 \\u043d\\u0435 \\u043f\\u0440\\u0438\\u0439\\u0442\\u0438, \\u0435\\u0441\\u043b\\u0438 \\u043c\\u0430\\u043b\\u043e \\u0438\\u0434\\u0435\\u0439, \\u043e\\u0431\\u0440\\u0430\\u0449\\u0430\\u0439\\u0441\\u044f \\u043a\\u043e \\u043c\\u043d\\u0435, \\u044f \\u0442\\u0435\\u0431\\u0435 \\u043d\\u0430 \\u043a\\u0430\\u0436\\u0434\\u0443\\u044e \\u0442\\u0432\\u043e\\u044e \\u0438\\u0434\\u0435\\u044e \\u043f\\u0440\\u0435\\u0434\\u043b\\u043e\\u0436\\u0443 \\u0441\\u043e\\u0442\\u043d\\u044e \\u0442\\u0440\\u0438\\u043b\\u043b\\u0438\\u043e\\u043d\\u043e\\u0432, \\u043a\\u0430\\u043a \\u0432\\u0441\\u0451 \\u0434\\u0435\\u043b\\u0430\\u0442\\u044c. \\u041d\\u0443 \\u0430 \\u044f \\u0432\\u0441\\u0451, \\u044f \\u0438\\u0434\\u0443 \\u043a\\u0430\\u043a \\u0433\\u043b\\u0443\\u0431\\u043e\\u043a\\u0438\\u0439 \\u0441\\u0442\\u0430\\u0440\\u0435\\u0446, \\u0443\\u0437\\u0440\\u0435\\u0432\\u0448\\u0438\\u0439 \\u0432\\u0435\\u0447\\u043d\\u043e\\u0435, \\u043f\\u0440\\u0438\\u043a\\u043e\\u0441\\u043d\\u0443\\u0432\\u0448\\u0438\\u0439\\u0441\\u044f \\u043a \\u0411\\u043e\\u0436\\u0435\\u0441\\u0442\\u0432\\u0435\\u043d\\u043d\\u043e\\u043c\\u0443, \\u0441\\u0430\\u043c \\u0441\\u0442\\u0430\\u043b \\u0431\\u043e\\u0433\\u043e\\u043f\\u043e\\u0434\\u043e\\u0431\\u0435\\u043d \\u0438 \\u0443\\u0441\\u0442\\u0440\\u0435\\u043c\\u043b\\u0435\\u043d \\u0432 \\u044d\\u0442\\u043e \\u0431\\u0435\\u0441\\u043a\\u043e\\u043d\\u0435\\u0447\\u043d\\u043e\\u0435, \\u0438 \\u043a\\u043e\\u0442\\u043e\\u0440\\u044b\\u0439 \\u0432 \\u0443\\u043c\\u0438\\u0440\\u043e\\u0442\\u0432\\u043e\\u0440\\u0435\\u043d\\u0438\\u0438, \\u043f\\u043e\\u043a\\u043e\\u0435, \\u0433\\u0430\\u0440\\u043c\\u043e\\u043d\\u0438\\u0438, \\u0431\\u043b\\u0430\\u0433\\u043e\\u0434\\u0430\\u0442\\u0438, \\u0432 \\u044d\\u0442\\u043e\\u043c \\u0441\\u043e\\u043a\\u0440\\u043e\\u0432\\u0435\\u043d\\u043d\\u043e\\u043c \\u0431\\u043b\\u0430\\u0436\\u0435\\u043d\\u0441\\u0442\\u0432\\u0435 \\u043f\\u0440\\u0435\\u0431\\u044b\\u0432\\u0430\\u0435\\u0442, \\u0432\\u043e\\u0432\\u043b\\u0435\\u0447\\u0435\\u043d\\u043d\\u044b\\u0439 \\u0432\\u043e \\u0432\\u0441\\u0451 \\u0438 \\u0432\\u043e \\u0432\\u0441\\u044f, \\u043f\\u043e\\u043d\\u0438\\u043c\\u0430\\u0435\\u0448\\u044c, \\u0432\\u043e\\u0442 \\u0438 \\u0432\\u0441\\u0451, \\u0432 \\u044d\\u0442\\u043e\\u043c \\u043d\\u0430\\u0448\\u0430 \\u0440\\u0430\\u0437\\u043d\\u0438\\u0446\\u0430. \\u0422\\u0430\\u043a \\u0447\\u0442\\u043e \\u044f \\u0438\\u0434\\u0443 \\u043b\\u044e\\u0431\\u043e\\u0432\\u0430\\u0442\\u044c\\u0441\\u044f \\u043c\\u0438\\u0440\\u043e\\u0437\\u0434\\u0430\\u043d\\u0438\\u0435\\u043c, \\u0430 \\u0442\\u044b \\u0438\\u0434\\u0451\\u0448\\u044c \\u043f\\u0440\\u0435\\u0438\\u0441\\u043f\\u043e\\u043b\\u043d\\u044f\\u0442\\u044c\\u0441\\u044f \\u0432 \\u0413\\u0420\\u0410\\u041d\\u042f\\u0425 \\u043a\\u0430\\u043a\\u0438\\u0445-\\u0442\\u043e, \\u0432\\u043e\\u0442 \\u0438 \\u0432\\u0441\\u044f \\u0440\\u0430\\u0437\\u043d\\u0438\\u0446\\u0430, \\u043f\\u043e\\u043d\\u0438\\u043c\\u0430\\u0435\\u0448\\u044c, \\u0442\\u044b \\u043d\\u0435 \\u0437\\u0440\\u0438\\u0448\\u044c \\u044d\\u0442\\u043e \\u0432\\u0435\\u0447\\u043d\\u043e\\u0435 \\u0431\\u0435\\u0441\\u043a\\u043e\\u043d\\u0435\\u0447\\u043d\\u043e\\u0435, \\u043e\\u043d\\u043e \\u0442\\u0435\\u0431\\u0435 \\u043d\\u0435 \\u043d\\u0443\\u0436\\u043d\\u043e. \\u041d\\u0443 \\u0437\\u0430\\u0442\\u043e \\u0442\\u044b, \\u0442\\u0430\\u043a \\u0441\\u043a\\u0430\\u0437\\u0430\\u0442\\u044c, \\u0431\\u043e\\u043b\\u0435\\u0435 \\u0430\\u043a\\u0442\\u0438\\u0432\\u0435\\u043d, \\u043a\\u0430\\u043a \\u0432\\u043e\\u0442 \\u044d\\u0442\\u043e\\u0442 \\u0434\\u044f\\u0442\\u0435\\u043b \\u0434\\u043e\\u043b\\u0431\\u044f\\u0449\\u0438\\u0439, \\u0438\\u043b\\u0438 \\u043c\\u0443\\u0440\\u0430\\u0432\\u0435\\u0439, \\u043a\\u043e\\u0442\\u043e\\u0440\\u044b\\u0439 \\u043e\\u0447\\u0435\\u043d\\u044c \\u0430\\u043a\\u0442\\u0438\\u0432\\u0435\\u043d \\u0432 \\u0441\\u0432\\u043e\\u0435\\u0439 \\u0441\\u0442\\u0435\\u0437\\u0435, \\u043f\\u043e\\u044d\\u0442\\u043e\\u043c\\u0443 \\u0434\\u0430\\u0432\\u0430\\u0439, \\u043d\\u0430\\u0448\\u0438 \\u043f\\u0443\\u0442\\u0438 \\u0437\\u0434\\u0435\\u0441\\u044c, \\u043a\\u043e\\u043d\\u0435\\u0447\\u043d\\u043e, \\u0438\\u043c\\u0435\\u044e\\u0442 \\u0433\\u0440\\u0430\\u043d\\u0438 \\u043f\\u043e\\u0434\\u043e\\u0431\\u0438\\u044f, \\u043f\\u043e\\u0442\\u043e\\u043c\\u0443 \\u0447\\u0442\\u043e \\u0432\\u0441\\u0451 \\u0435\\u0434\\u0438\\u043d\\u043e, \\u043d\\u043e \\u044f-\\u0442\\u043e \\u0442\\u0435\\u0431\\u044f \\u043f\\u0440\\u0435\\u043a\\u0440\\u0430\\u0441\\u043d\\u043e \\u043f\\u043e\\u043d\\u0438\\u043c\\u0430\\u044e, \\u0430 \\u0432\\u043e\\u0442 \\u0442\\u044b \\u043c\\u0435\\u043d\\u044f - \\u0432\\u0440\\u044f\\u0434 \\u043b\\u0438, \\u043f\\u043e\\u0442\\u043e\\u043c\\u0443 \\u0447\\u0442\\u043e \\u044f \\u043a\\u0430\\u043a \\u0431\\u044b \\u0442\\u0435\\u0431\\u044f \\u0432 \\u0441\\u0435\\u0431\\u0435 \\u0441\\u043e\\u0434\\u0435\\u0440\\u0436\\u0443, \\u0432\\u0441\\u044e \\u0442\\u0432\\u043e\\u044e \\u043f\\u0440\\u0438\\u0440\\u043e\\u0434\\u0443, \\u043e\\u043d\\u0430 \\u0441\\u043e\\u0441\\u0442\\u0430\\u0432\\u043b\\u044f\\u0435\\u0442 \\u043e\\u0434\\u043d\\u0443 \\u043c\\u0430\\u043b\\u0435\\u043d\\u044c\\u043a\\u0443\\u044e \\u0442\\u0430\\u043c \\u043f\\u0435\\u0441\\u0447\\u0438\\u043d\\u043e\\u0447\\u043a\\u0443, \\u043e\\u0442 \\u0442\\u043e\\u0433\\u043e \\u0447\\u0442\\u043e \\u0435\\u0441\\u0442\\u044c \\u0432\\u043e \\u043c\\u043d\\u0435, \\u0432\\u043e\\u0442 \\u0438 \\u0432\\u0441\\u0451, \\u043f\\u043e\\u044d\\u0442\\u043e\\u043c\\u0443 \\u0434\\u0430\\u0432\\u0430\\u0439, \\u0441\\u0442\\u0443\\u043f\\u0430\\u0439, \\u0435\\u0437\\u0436\\u0430\\u0439, \\u0430 \\u044f \\u043f\\u043e\\u0448\\u0435\\u043b \\u043d\\u0430\\u0441\\u043b\\u0430\\u0436\\u0434\\u0430\\u0442\\u044c\\u0441\\u044f \\u043d\\u0430\\u0445\\u0443\\u0439 \\u0431\\u043b\\u044f\\u0442\\u044c \\u043f\\u0440\\u0435\\u043a\\u0440\\u0430\\u0441\\u043d\\u044b\\u043c \\u043e\\u0441\\u0435\\u043d\\u043d\\u0438\\u043c \\u0437\\u0430\\u043a\\u0430\\u0442\\u043e\\u043c \\u043d\\u0430 \\u0431\\u0435\\u0440\\u0435\\u0433\\u0443 \\u0442\\u0435\\u043f\\u043b\\u043e\\u0439 \\u044e\\u0436\\u043d\\u043e\\u0439 \\u0440\\u0435\\u043a\\u0438. \\u0412\\u0441\\u0451, \\u043f\\u0438\\u0437\\u0434\\u0443\\u0439-\\u0431\\u043e\\u0440\\u043e\\u0437\\u0434\\u0443\\u0439, \\u0438 \\u044f \\u043f\\u043e\\u043f\\u0438\\u0437\\u0434\\u0438\\u043b, \\u043d\\u0430\\u0445\\u0443\\u0439.\"\n        ],\n        \"semantic_type\": \"\",\n        \"description\": \"\"\n      }\n    },\n    {\n      \"column\": \"unique_key\",\n      \"properties\": {\n        \"dtype\": \"string\",\n        \"num_unique_values\": 61685,\n        \"samples\": [\n          \"FzHYU5VHEemKiSWbqBuP1ziP2ytV\",\n          \"7TWYaI8ycU_RIhuf7KZHWUBBmAQi\",\n          \"YSsCw1kUr93oWztDw1WekmiobGUe\"\n        ],\n        \"semantic_type\": \"\",\n        \"description\": \"\"\n      }\n    },\n    {\n      \"column\": \"group_source\",\n      \"properties\": {\n        \"dtype\": \"category\",\n        \"num_unique_values\": 4,\n        \"samples\": [\n          \"https://vk.com/anekdotikategoriib\",\n          \"https://vk.com/baneks\",\n          \"https://vk.com/jewishpugs\"\n        ],\n        \"semantic_type\": \"\",\n        \"description\": \"\"\n      }\n    }\n  ]\n}"
            }
          },
          "metadata": {},
          "execution_count": 78
        }
      ]
    },
    {
      "cell_type": "code",
      "source": [
        "df.head()"
      ],
      "metadata": {
        "colab": {
          "base_uri": "https://localhost:8080/",
          "height": 206
        },
        "id": "CogvVLBDh_Uh",
        "outputId": "c7e375f8-5acb-4d4a-a85f-94632490ef59"
      },
      "execution_count": 79,
      "outputs": [
        {
          "output_type": "execute_result",
          "data": {
            "text/plain": [
              "                                                text  \\\n",
              "0  Директор отчитывает главбуха-еврея: \\n- Яков С...   \n",
              "1  — Изя, как вы думаете, объявления в газетах да...   \n",
              "2  Метро. На единственное свободное место садится...   \n",
              "3  Тюлька и килька вышли замуж за евреев. Теперь ...   \n",
              "4  Судился еврей с армянином. В итоге судье дали ...   \n",
              "\n",
              "                     unique_key               group_source  \n",
              "0  m3Cvn1OcrSBlJ_gABgIoRQBcyH0V  https://vk.com/jewishpugs  \n",
              "1  GPIii1u2kEabZEbnHqLTAyZA37ES  https://vk.com/jewishpugs  \n",
              "2  GJLahnmtLvVcc8x41sdV-lACQNPy  https://vk.com/jewishpugs  \n",
              "3  lBev3CChZteVPLaD1GHpYawoK5a4  https://vk.com/jewishpugs  \n",
              "4  I0rV0HbWhAkGHsnPNnBaONSUkKeX  https://vk.com/jewishpugs  "
            ],
            "text/html": [
              "\n",
              "  <div id=\"df-1deaabcc-d0f7-4e83-b78f-54b885342caa\" class=\"colab-df-container\">\n",
              "    <div>\n",
              "<style scoped>\n",
              "    .dataframe tbody tr th:only-of-type {\n",
              "        vertical-align: middle;\n",
              "    }\n",
              "\n",
              "    .dataframe tbody tr th {\n",
              "        vertical-align: top;\n",
              "    }\n",
              "\n",
              "    .dataframe thead th {\n",
              "        text-align: right;\n",
              "    }\n",
              "</style>\n",
              "<table border=\"1\" class=\"dataframe\">\n",
              "  <thead>\n",
              "    <tr style=\"text-align: right;\">\n",
              "      <th></th>\n",
              "      <th>text</th>\n",
              "      <th>unique_key</th>\n",
              "      <th>group_source</th>\n",
              "    </tr>\n",
              "  </thead>\n",
              "  <tbody>\n",
              "    <tr>\n",
              "      <th>0</th>\n",
              "      <td>Директор отчитывает главбуха-еврея: \\n- Яков С...</td>\n",
              "      <td>m3Cvn1OcrSBlJ_gABgIoRQBcyH0V</td>\n",
              "      <td>https://vk.com/jewishpugs</td>\n",
              "    </tr>\n",
              "    <tr>\n",
              "      <th>1</th>\n",
              "      <td>— Изя, как вы думаете, объявления в газетах да...</td>\n",
              "      <td>GPIii1u2kEabZEbnHqLTAyZA37ES</td>\n",
              "      <td>https://vk.com/jewishpugs</td>\n",
              "    </tr>\n",
              "    <tr>\n",
              "      <th>2</th>\n",
              "      <td>Метро. На единственное свободное место садится...</td>\n",
              "      <td>GJLahnmtLvVcc8x41sdV-lACQNPy</td>\n",
              "      <td>https://vk.com/jewishpugs</td>\n",
              "    </tr>\n",
              "    <tr>\n",
              "      <th>3</th>\n",
              "      <td>Тюлька и килька вышли замуж за евреев. Теперь ...</td>\n",
              "      <td>lBev3CChZteVPLaD1GHpYawoK5a4</td>\n",
              "      <td>https://vk.com/jewishpugs</td>\n",
              "    </tr>\n",
              "    <tr>\n",
              "      <th>4</th>\n",
              "      <td>Судился еврей с армянином. В итоге судье дали ...</td>\n",
              "      <td>I0rV0HbWhAkGHsnPNnBaONSUkKeX</td>\n",
              "      <td>https://vk.com/jewishpugs</td>\n",
              "    </tr>\n",
              "  </tbody>\n",
              "</table>\n",
              "</div>\n",
              "    <div class=\"colab-df-buttons\">\n",
              "\n",
              "  <div class=\"colab-df-container\">\n",
              "    <button class=\"colab-df-convert\" onclick=\"convertToInteractive('df-1deaabcc-d0f7-4e83-b78f-54b885342caa')\"\n",
              "            title=\"Convert this dataframe to an interactive table.\"\n",
              "            style=\"display:none;\">\n",
              "\n",
              "  <svg xmlns=\"http://www.w3.org/2000/svg\" height=\"24px\" viewBox=\"0 -960 960 960\">\n",
              "    <path d=\"M120-120v-720h720v720H120Zm60-500h600v-160H180v160Zm220 220h160v-160H400v160Zm0 220h160v-160H400v160ZM180-400h160v-160H180v160Zm440 0h160v-160H620v160ZM180-180h160v-160H180v160Zm440 0h160v-160H620v160Z\"/>\n",
              "  </svg>\n",
              "    </button>\n",
              "\n",
              "  <style>\n",
              "    .colab-df-container {\n",
              "      display:flex;\n",
              "      gap: 12px;\n",
              "    }\n",
              "\n",
              "    .colab-df-convert {\n",
              "      background-color: #E8F0FE;\n",
              "      border: none;\n",
              "      border-radius: 50%;\n",
              "      cursor: pointer;\n",
              "      display: none;\n",
              "      fill: #1967D2;\n",
              "      height: 32px;\n",
              "      padding: 0 0 0 0;\n",
              "      width: 32px;\n",
              "    }\n",
              "\n",
              "    .colab-df-convert:hover {\n",
              "      background-color: #E2EBFA;\n",
              "      box-shadow: 0px 1px 2px rgba(60, 64, 67, 0.3), 0px 1px 3px 1px rgba(60, 64, 67, 0.15);\n",
              "      fill: #174EA6;\n",
              "    }\n",
              "\n",
              "    .colab-df-buttons div {\n",
              "      margin-bottom: 4px;\n",
              "    }\n",
              "\n",
              "    [theme=dark] .colab-df-convert {\n",
              "      background-color: #3B4455;\n",
              "      fill: #D2E3FC;\n",
              "    }\n",
              "\n",
              "    [theme=dark] .colab-df-convert:hover {\n",
              "      background-color: #434B5C;\n",
              "      box-shadow: 0px 1px 3px 1px rgba(0, 0, 0, 0.15);\n",
              "      filter: drop-shadow(0px 1px 2px rgba(0, 0, 0, 0.3));\n",
              "      fill: #FFFFFF;\n",
              "    }\n",
              "  </style>\n",
              "\n",
              "    <script>\n",
              "      const buttonEl =\n",
              "        document.querySelector('#df-1deaabcc-d0f7-4e83-b78f-54b885342caa button.colab-df-convert');\n",
              "      buttonEl.style.display =\n",
              "        google.colab.kernel.accessAllowed ? 'block' : 'none';\n",
              "\n",
              "      async function convertToInteractive(key) {\n",
              "        const element = document.querySelector('#df-1deaabcc-d0f7-4e83-b78f-54b885342caa');\n",
              "        const dataTable =\n",
              "          await google.colab.kernel.invokeFunction('convertToInteractive',\n",
              "                                                    [key], {});\n",
              "        if (!dataTable) return;\n",
              "\n",
              "        const docLinkHtml = 'Like what you see? Visit the ' +\n",
              "          '<a target=\"_blank\" href=https://colab.research.google.com/notebooks/data_table.ipynb>data table notebook</a>'\n",
              "          + ' to learn more about interactive tables.';\n",
              "        element.innerHTML = '';\n",
              "        dataTable['output_type'] = 'display_data';\n",
              "        await google.colab.output.renderOutput(dataTable, element);\n",
              "        const docLink = document.createElement('div');\n",
              "        docLink.innerHTML = docLinkHtml;\n",
              "        element.appendChild(docLink);\n",
              "      }\n",
              "    </script>\n",
              "  </div>\n",
              "\n",
              "\n",
              "<div id=\"df-6bf42c6f-3b82-4f21-82d3-77438df279cf\">\n",
              "  <button class=\"colab-df-quickchart\" onclick=\"quickchart('df-6bf42c6f-3b82-4f21-82d3-77438df279cf')\"\n",
              "            title=\"Suggest charts\"\n",
              "            style=\"display:none;\">\n",
              "\n",
              "<svg xmlns=\"http://www.w3.org/2000/svg\" height=\"24px\"viewBox=\"0 0 24 24\"\n",
              "     width=\"24px\">\n",
              "    <g>\n",
              "        <path d=\"M19 3H5c-1.1 0-2 .9-2 2v14c0 1.1.9 2 2 2h14c1.1 0 2-.9 2-2V5c0-1.1-.9-2-2-2zM9 17H7v-7h2v7zm4 0h-2V7h2v10zm4 0h-2v-4h2v4z\"/>\n",
              "    </g>\n",
              "</svg>\n",
              "  </button>\n",
              "\n",
              "<style>\n",
              "  .colab-df-quickchart {\n",
              "      --bg-color: #E8F0FE;\n",
              "      --fill-color: #1967D2;\n",
              "      --hover-bg-color: #E2EBFA;\n",
              "      --hover-fill-color: #174EA6;\n",
              "      --disabled-fill-color: #AAA;\n",
              "      --disabled-bg-color: #DDD;\n",
              "  }\n",
              "\n",
              "  [theme=dark] .colab-df-quickchart {\n",
              "      --bg-color: #3B4455;\n",
              "      --fill-color: #D2E3FC;\n",
              "      --hover-bg-color: #434B5C;\n",
              "      --hover-fill-color: #FFFFFF;\n",
              "      --disabled-bg-color: #3B4455;\n",
              "      --disabled-fill-color: #666;\n",
              "  }\n",
              "\n",
              "  .colab-df-quickchart {\n",
              "    background-color: var(--bg-color);\n",
              "    border: none;\n",
              "    border-radius: 50%;\n",
              "    cursor: pointer;\n",
              "    display: none;\n",
              "    fill: var(--fill-color);\n",
              "    height: 32px;\n",
              "    padding: 0;\n",
              "    width: 32px;\n",
              "  }\n",
              "\n",
              "  .colab-df-quickchart:hover {\n",
              "    background-color: var(--hover-bg-color);\n",
              "    box-shadow: 0 1px 2px rgba(60, 64, 67, 0.3), 0 1px 3px 1px rgba(60, 64, 67, 0.15);\n",
              "    fill: var(--button-hover-fill-color);\n",
              "  }\n",
              "\n",
              "  .colab-df-quickchart-complete:disabled,\n",
              "  .colab-df-quickchart-complete:disabled:hover {\n",
              "    background-color: var(--disabled-bg-color);\n",
              "    fill: var(--disabled-fill-color);\n",
              "    box-shadow: none;\n",
              "  }\n",
              "\n",
              "  .colab-df-spinner {\n",
              "    border: 2px solid var(--fill-color);\n",
              "    border-color: transparent;\n",
              "    border-bottom-color: var(--fill-color);\n",
              "    animation:\n",
              "      spin 1s steps(1) infinite;\n",
              "  }\n",
              "\n",
              "  @keyframes spin {\n",
              "    0% {\n",
              "      border-color: transparent;\n",
              "      border-bottom-color: var(--fill-color);\n",
              "      border-left-color: var(--fill-color);\n",
              "    }\n",
              "    20% {\n",
              "      border-color: transparent;\n",
              "      border-left-color: var(--fill-color);\n",
              "      border-top-color: var(--fill-color);\n",
              "    }\n",
              "    30% {\n",
              "      border-color: transparent;\n",
              "      border-left-color: var(--fill-color);\n",
              "      border-top-color: var(--fill-color);\n",
              "      border-right-color: var(--fill-color);\n",
              "    }\n",
              "    40% {\n",
              "      border-color: transparent;\n",
              "      border-right-color: var(--fill-color);\n",
              "      border-top-color: var(--fill-color);\n",
              "    }\n",
              "    60% {\n",
              "      border-color: transparent;\n",
              "      border-right-color: var(--fill-color);\n",
              "    }\n",
              "    80% {\n",
              "      border-color: transparent;\n",
              "      border-right-color: var(--fill-color);\n",
              "      border-bottom-color: var(--fill-color);\n",
              "    }\n",
              "    90% {\n",
              "      border-color: transparent;\n",
              "      border-bottom-color: var(--fill-color);\n",
              "    }\n",
              "  }\n",
              "</style>\n",
              "\n",
              "  <script>\n",
              "    async function quickchart(key) {\n",
              "      const quickchartButtonEl =\n",
              "        document.querySelector('#' + key + ' button');\n",
              "      quickchartButtonEl.disabled = true;  // To prevent multiple clicks.\n",
              "      quickchartButtonEl.classList.add('colab-df-spinner');\n",
              "      try {\n",
              "        const charts = await google.colab.kernel.invokeFunction(\n",
              "            'suggestCharts', [key], {});\n",
              "      } catch (error) {\n",
              "        console.error('Error during call to suggestCharts:', error);\n",
              "      }\n",
              "      quickchartButtonEl.classList.remove('colab-df-spinner');\n",
              "      quickchartButtonEl.classList.add('colab-df-quickchart-complete');\n",
              "    }\n",
              "    (() => {\n",
              "      let quickchartButtonEl =\n",
              "        document.querySelector('#df-6bf42c6f-3b82-4f21-82d3-77438df279cf button');\n",
              "      quickchartButtonEl.style.display =\n",
              "        google.colab.kernel.accessAllowed ? 'block' : 'none';\n",
              "    })();\n",
              "  </script>\n",
              "</div>\n",
              "    </div>\n",
              "  </div>\n"
            ],
            "application/vnd.google.colaboratory.intrinsic+json": {
              "type": "dataframe",
              "variable_name": "df",
              "summary": "{\n  \"name\": \"df\",\n  \"rows\": 63927,\n  \"fields\": [\n    {\n      \"column\": \"text\",\n      \"properties\": {\n        \"dtype\": \"string\",\n        \"num_unique_values\": 55316,\n        \"samples\": [\n          \"\\u0414\\u0432\\u0430 \\u0433\\u0440\\u0443\\u0437\\u0438\\u043d\\u0430 \\u043f\\u043e\\u0448\\u043b\\u0438 \\u0432 \\u043a\\u043e\\u043d\\u0434\\u0438\\u0442\\u0435\\u0440\\u0441\\u043a\\u0443\\u044e.\\n\\u041e\\u0434\\u0438\\u043d \\u0437\\u0430\\u0445\\u043e\\u0434\\u0438\\u0442, \\u0435\\u0433\\u043e \\u0443\\u0433\\u043e\\u0449\\u0430\\u044e\\u0442 \\u043a\\u043e\\u043d\\u0444\\u0435\\u0442\\u0430\\u043c\\u0438, \\u0448\\u043e\\u043a\\u043e\\u043b\\u0430\\u0434\\u043e\\u043c, \\u0447\\u0430\\u044e \\u043d\\u0430\\u043b\\u0438\\u043b\\u0438, a \\u043f\\u043e\\u0442\\u043e\\u043c \\u043a\\u043e\\u043d\\u0434\\u0438\\u0442\\u0435\\u0440 \\u0441\\u043f\\u0440\\u0430\\u0448\\u0438\\u0432\\u0430\\u0435\\u0442: \\n-\\u041a\\u0430\\u0440\\u0430\\u043c\\u0435\\u043b\\u043b\\u043e \\u0434\\u0435\\u043b\\u0430\\u0442\\u044c \\u0431\\u0443\\u0434\\u0435\\u043c? \\n- \\u041d\\u0443 \\u0441\\u043b\\u044e\\u0448\\u0438, \\u0434\\u0430\\u0432\\u0430\\u0439 \\u0434\\u0435\\u043b\\u0430\\u0442\\u044c. \\n\\u041a\\u043e\\u043d\\u0434\\u0438\\u0442\\u0435\\u0440 \\u0437\\u0430\\u0433\\u0438\\u0431\\u0430\\u0435\\u0442 \\u0435\\u0433\\u043e \\u0438 \\u0432 \\u0436\\u043e\\u043f\\u0443... \\n\\u0417\\u0430\\u0445\\u043e\\u0434\\u0438\\u0442 \\u0434\\u0440\\u0443\\u0433\\u043e\\u0439 \\u0433\\u0440\\u0443\\u0437\\u0438\\u043d, \\u0435\\u0433\\u043e \\u0442\\u043e\\u0436\\u0435 \\u0443\\u0433\\u043e\\u0449\\u0430\\u044e\\u0442, \\u0448\\u043e\\u043a\\u043e\\u043b\\u0430\\u0434\\u043e\\u043c \\u043a\\u043e\\u0440\\u043c\\u044f\\u0442, \\u0447\\u0430\\u0435\\u043c \\u043f\\u043e\\u044f\\u0442, a \\u043f\\u043e\\u0442\\u043e\\u043c \\u0441\\u043f\\u0440\\u0430\\u0448\\u0438\\u0432\\u0430\\u044e\\u0442: \\n- H\\u0443 \\u0447\\u0442\\u043e? \\u041a\\u0430\\u0440\\u0430\\u043c\\u0435\\u043b\\u043b\\u043e \\u0431\\u0443\\u0434\\u0435\\u043c \\u0434\\u0435\\u043b\\u0430\\u0442\\u044c? \\n\\u0413\\u0440\\u0443\\u0437\\u0438\\u043d \\u0434\\u0443\\u043c\\u0430\\u0435\\u0442, \\u0447\\u0442\\u043e \\u044d\\u0442\\u043e \\u0442\\u0430\\u043a\\u043e\\u0435? \\n- H\\u0443 \\u0434\\u0430\\u0432\\u0430\\u0439. \\n\\u0421 \\u043d\\u0438\\u043c \\u043f\\u0440\\u043e\\u0434\\u0435\\u043b\\u044b\\u0432\\u0430\\u044e\\u0442 \\u0442\\u043e\\u0436\\u0435 \\u0441a\\u043c\\u043e\\u0435. \\n\\u0412\\u044b\\u0445\\u043e\\u0434\\u044f\\u0442 \\u043e\\u043d\\u0438 \\u0438\\u0437 \\u043a\\u043e\\u043d\\u0434\\u0438\\u0442\\u0435\\u0440\\u0441\\u043a\\u043e\\u0439, \\u0438\\u0434\\u0443\\u0442 \\u0438 \\u043c\\u043e\\u043b\\u0447\\u0430\\u0442. \\n\\u0412\\u0434\\u0440\\u0443\\u0433 \\u043e\\u0434\\u0438\\u043d \\u0441\\u043f\\u0440\\u0430\\u0448\\u0438\\u0432\\u0430\\u0435\\u0442: \\n- \\u0421\\u043b\\u0443\\u0448\\u0438, \\u0442\\u044d\\u0431\\u044d \\u043a\\u0430\\u0440\\u0430\\u043c\\u0435\\u043b\\u043b\\u043e \\u0434\\u0435\\u043ba\\u043b\\u0438? \\n- \\u041d\\u044d\\u0442. \\n- \\u0421\\u0442\\u0440\\u0430\\u043d\\u043d\\u043e, \\u043c\\u043d\\u0435 \\u0442\\u043e\\u0436\\u0435 \\u043d\\u044d\\u0442.\",\n          \"\\u041f\\u043e\\u043f\\u0435\\u0440\\u0435\\u043a \\u0443\\u043b\\u0438\\u0446\\u044b \\u043b\\u0435\\u0436\\u0438\\u0442 \\u0431\\u0440\\u0435\\u0432\\u043d\\u043e. \\u041f\\u043e\\u0434\\u044a\\u0435\\u0437\\u0436\\u0430\\u044e\\u0442 \\u043d\\u0430 \\u043f\\u043e\\u0432\\u043e\\u0437\\u043a\\u0435 \\u0434\\u0432\\u0430 \\u0435\\u0432\\u0440\\u0435\\u044f \\u0438 \\u043f\\u0440\\u0438\\u043d\\u0438\\u043c\\u0430\\u044e\\u0442\\u0441\\u044f \\u043e\\u0431\\u0441\\u0443\\u0436\\u0434\\u0430\\u0442\\u044c, \\u0447\\u0442\\u043e \\u0442\\u0443\\u0442 \\u043c\\u043e\\u0436\\u043d\\u043e \\u0441\\u0434\\u0435\\u043b\\u0430\\u0442\\u044c. \\u041f\\u043e\\u044f\\u0432\\u043b\\u044f\\u0435\\u0442\\u0441\\u044f \\u0435\\u0449\\u0435 \\u043e\\u0434\\u043d\\u0430 \\u043f\\u043e\\u0432\\u043e\\u0437\\u043a\\u0430, \\u043d\\u0430 \\u043d\\u0435\\u0439 \\u0441\\u0438\\u0434\\u0438\\u0442 \\u043f\\u043b\\u0435\\u0447\\u0438\\u0441\\u0442\\u044b\\u0439 \\u043a\\u0440\\u0435\\u0441\\u0442\\u044c\\u044f\\u043d\\u0438\\u043d. \\u041e\\u043d \\u0441\\u043e\\u0441\\u043a\\u0430\\u043a\\u0438\\u0432\\u0430\\u0435\\u0442 \\u0441 \\u043f\\u043e\\u0432\\u043e\\u0437\\u043a\\u0438, \\u0445\\u0432\\u0430\\u0442\\u0430\\u0435\\u0442 \\u0431\\u0440\\u0435\\u0432\\u043d\\u043e \\u0438 \\u043e\\u0442\\u0442\\u0430\\u0441\\u043a\\u0438\\u0432\\u0430\\u0435\\u0442 \\u0435\\u0433\\u043e \\u0432 \\u0441\\u0442\\u043e\\u0440\\u043e\\u043d\\u0443.\\n\\u042f\\u043d\\u043a\\u0435\\u043b\\u044c, \\u043f\\u043e\\u0432\\u0435\\u0440\\u043d\\u0443\\u0432\\u0448\\u0438\\u0441\\u044c \\u043a \\u0428\\u043b\\u043e\\u0439\\u043c\\u0435 \\u0441 \\u043f\\u0440\\u0435\\u0437\\u0440\\u0435\\u043d\\u0438\\u0435\\u043c:\\n\\u2014 \\u0421\\u0438\\u043b\\u0430 \\u0435\\u0441\\u0442\\u044c, \\u0443\\u043c\\u0430 \\u043d\\u0435 \\u043d\\u0430\\u0434\\u043e!\",\n          \"\\u0414\\u0422\\u041f! \\u041c\\u0435\\u0440\\u0441\\u0435\\u0434\\u0435\\u0441 \\u0438 \\u0436\\u0438\\u0433\\u0443\\u043b\\u0438. \\u0418\\u0437 \\u043c\\u0435\\u0440\\u0441\\u0430 \\u0432\\u044b\\u0445\\u043e\\u0434\\u0438\\u0442 \\\"\\u0430\\u043c\\u0431\\u0430\\u043b\\\" \\u043f\\u043e\\u0434 2 \\u043c\\u0435\\u0442\\u0440\\u0430 \\u0432 \\u0448\\u0438\\u0440\\u0438\\u043d\\u0443, \\u043f\\u043e\\u0434\\u0445\\u043e\\u0434\\u0438\\u0442 \\u043a \\u0436\\u0438\\u0433\\u0443\\u043b\\u044f\\u043c. \\u041e\\u0442\\u043a\\u0440\\u044b\\u0432\\u0430\\u0435\\u0442\\u0441\\u044f \\u043e\\u043a\\u043e\\u0448\\u043a\\u043e: \\n- \\u0421\\u043a\\u043e\\u043b\\u044c\\u043a\\u043e \\u044f \\u0442\\u0435\\u0431\\u0435 \\u0434\\u043e\\u043b\\u0436\\u0435\\u043d? \\n- \\u0420\\u0435\\u043c\\u043e\\u043d\\u0442 \\u0432\\u044b\\u0439\\u0434\\u0435\\u0442 \\u043d\\u0430 20 000 \\u0431\\u0430\\u043a\\u0441\\u043e\\u0432! \\n\\u0412\\u043e\\u0434\\u0438\\u0442\\u0435\\u043b\\u044c \\u0436\\u0438\\u0433\\u0443\\u043b\\u0438 \\u043f\\u0440\\u043e\\u0432\\u043e\\u0434\\u0438\\u0442 \\u043a\\u0430\\u043a\\u0438\\u0435 - \\u0442\\u043e \\u043c\\u0430\\u043d\\u0438\\u043f\\u0443\\u043b\\u044f\\u0446\\u0438\\u0438 \\u0432 \\u0441\\u0430\\u043b\\u043e\\u043d\\u0435. \\u0421\\u043b\\u044b\\u0448\\u0438\\u0442\\u0441\\u044f \\u0437\\u0432\\u0443\\u043a \\u0440\\u0430\\u0431\\u043e\\u0442\\u0430\\u044e\\u0449\\u0435\\u0439 \\u043f\\u0435\\u0447\\u0430\\u0442\\u043d\\u043e\\u0439 \\u043c\\u0430\\u0448\\u0438\\u043d\\u043a\\u0438. \\n- \\u0414\\u0435\\u0440\\u0436\\u0438! \\n- \\u041e\\u0445 \\u043d\\u0438\\u0444\\u0438\\u0433\\u0430 \\u0441\\u0435\\u0431\\u0435! \\u0410 \\u043a\\u0430\\u043a \\u0442\\u0430\\u043a? \\n- \\u0414\\u0430 \\u0432\\u043e\\u0442, \\u043f\\u0440\\u0438\\u043e\\u0431\\u0440\\u0435\\u043b \\u0441\\u0435\\u0431\\u0435 \\u0431\\u0430\\u043d\\u043a\\u043e\\u043c\\u0430\\u0442 \\u0432 \\u0441\\u0430\\u043b\\u043e\\u043d! \\n\\u0421\\u043b\\u044b\\u0448\\u0438\\u0442\\u0441\\u044f \\u0437\\u0432\\u043e\\u043d\\u043e\\u043a \\u043c\\u0438\\u043a\\u0440\\u043e\\u0432\\u043e\\u043b\\u043d\\u043e\\u0432\\u043a\\u0438. \\n- \\u0410 \\u044d\\u0442\\u043e \\u0447\\u0442\\u043e? \\n- \\u041c\\u0438\\u043a\\u0440\\u043e\\u0432\\u043e\\u043b\\u043d\\u043e\\u0432\\u043a\\u0430! \\u041e\\u0431\\u0435\\u0434 \\u0432\\u0435\\u0434\\u044c \\u0443\\u0436\\u0435! \\n\\u0417\\u0432\\u0443\\u043a \\u043c\\u0435\\u0445\\u0430\\u043d\\u0438\\u0437\\u043c\\u043e\\u0432. \\u0421\\u0430\\u043b\\u043e\\u043d \\u0442\\u0440\\u0430\\u043d\\u0441\\u0444\\u043e\\u0440\\u043c\\u0438\\u0440\\u0443\\u0435\\u0442\\u0441\\u044f \\u0432 \\u0431\\u043e\\u043b\\u044c\\u0448\\u043e\\u0439 \\u0434\\u0438\\u0432\\u0430\\u043d, \\u0438\\u0437 \\u043f\\u0430\\u043d\\u0435\\u043b\\u0438 \\u043f\\u0440\\u0438\\u0431\\u043e\\u0440\\u043e\\u0432 \\\"\\u0432\\u044b\\u0445\\u043e\\u0434\\u0438\\u0442\\\" \\u043f\\u043b\\u0430\\u0437\\u043c\\u0435\\u043d\\u043d\\u044b\\u0439 \\u0442\\u0435\\u043b\\u0435\\u0432\\u0438\\u0437\\u043e\\u0440. \\n\\u0412\\u043e\\u0434\\u0438\\u0442\\u0435\\u043b\\u044c \\u043c\\u0435\\u0440\\u0441\\u0435\\u0434\\u0435\\u0441\\u0430 \\u0432 \\u043f\\u043e\\u043b\\u043d\\u043e\\u043c \\u0448\\u043e\\u043a\\u0435, \\u043c\\u043e\\u043b, \\u0432\\u043e\\u0442 \\u044d\\u0442\\u043e \\u043d\\u0430\\u0432\\u043e\\u0440\\u043e\\u0442\\u044b! \\u0421\\u0435\\u043b \\u0432 \\u043c\\u0435\\u0440\\u0441 \\u0438 \\u0441\\u0440\\u0430\\u0437\\u0443 \\u043d\\u0430 \\u0421\\u0422\\u041e \\u043f\\u043e\\u0435\\u0445\\u0430\\u043b, \\u0447\\u0442\\u043e \\u0441\\u0435\\u0431\\u0435 \\u0442\\u0430\\u043a\\u0438\\u0435 \\u043f\\u0440\\u0438\\u043c\\u043e\\u0447\\u043a\\u0438 \\u043f\\u043e\\u0441\\u0442\\u0430\\u0432\\u0438\\u0442\\u044c. \\u0427\\u0435\\u0440\\u0435\\u0437 2 \\u0434\\u043d\\u044f \\u0435\\u0434\\u0435\\u0442 \\u0434\\u043e\\u0432\\u043e\\u043b\\u044c\\u043d\\u044b\\u0439, \\u043f\\u043e\\u0442\\u0440\\u0430\\u0442\\u0438\\u043b\\u0441\\u044f \\u043d\\u0430 \\u043f\\u0440\\u0438\\u043c\\u043e\\u0447\\u043a\\u0438. \\u0412\\u0438\\u0434\\u0438\\u0442 - \\u0441\\u043d\\u043e\\u0432\\u0430 \\u0442\\u043e\\u0442 \\u0436\\u0438\\u0433\\u0443\\u043b\\u0435\\u043d\\u043e\\u043a \\u0441\\u0442\\u043e\\u0438\\u0442 \\u043d\\u0430 \\u043f\\u0430\\u0440\\u043a\\u043e\\u0432\\u043a\\u0435. \\u041f\\u043e\\u0434\\u044a\\u0435\\u0445\\u0430\\u043b \\u043a \\u043d\\u0435\\u043c\\u0443 \\u043f\\u043e\\u0445\\u0432\\u0430\\u0441\\u0442\\u0430\\u0442\\u044c\\u0441\\u044f, \\u0441\\u0442\\u0443\\u0447\\u0438\\u0442\\u0441\\u044f \\u0432 \\u043e\\u043a\\u043e\\u0448\\u043a\\u043e: \\n- \\u042d\\u0439, \\u0441\\u043b\\u044b\\u0448\\u044c! \\u042f \\u0442\\u043e\\u0436\\u0435 \\u0441\\u0435\\u0431\\u0435 \\u0442\\u0430\\u0447\\u043a\\u0443 \\u043e\\u0431\\u043e\\u0440\\u0443\\u0434\\u043e\\u0432\\u0430\\u043b \\u043a\\u0430\\u043a \\u0443 \\u0442\\u0435\\u0431\\u044f! \\n\\u041e\\u0442\\u043a\\u0440\\u044b\\u0432\\u0430\\u0435\\u0442\\u0441\\u044f \\u043e\\u043a\\u043e\\u0448\\u043a\\u043e: \\n- \\u0411\\u043b\\u044f\\u0442\\u044c, \\u0434\\u0430 \\u043c\\u043d\\u0435 \\u043f\\u043e\\u0445\\u0443\\u0439 \\u043d\\u0430 \\u0442\\u0435\\u0431\\u044f, \\u0431\\u043b\\u044f\\u0442\\u044c, \\u0441\\u043b\\u0443\\u0448\\u0430\\u0439, \\u043a\\u0430\\u043a\\u0430\\u044f \\u0443 \\u0442\\u0435\\u0431\\u044f \\u0442\\u0430\\u043c \\u0442\\u0430\\u0447\\u043a\\u0430, \\u0431\\u043b\\u044f\\u0442\\u044c, \\u043a\\u0432\\u0430\\u0440\\u0442\\u0438\\u0440\\u044b, \\u0441\\u0440\\u0430\\u0447\\u043a\\u0438 \\u0442\\u0430\\u043c \\u0431\\u043b\\u044f\\u0442\\u044c, \\u044f\\u0445\\u0442\\u044b, \\u0432\\u0441\\u0451, \\u043c\\u043d\\u0435 \\u043f\\u043e\\u0445\\u0443\\u0439, \\u0445\\u043e\\u0442\\u044c \\u0442\\u0430\\u043c \\\"\\u0411\\u044d\\u043d\\u0442\\u043b\\u0438\\\", \\u0445\\u043e\\u0442\\u044c \\u0431\\u043b\\u044f\\u0442\\u044c \\u043d\\u0430\\u0445\\u0443\\u0439 \\\"\\u041c\\u0430\\u0439\\u0431\\u0430\\u0445\\\", \\u0445\\u043e\\u0442\\u044c \\\"\\u0420\\u043e\\u043b\\u043b\\u0441-\\u0420\\u043e\\u0439\\u0441\\\", \\u0445\\u043e\\u0442\\u044c \\\"\\u0411\\u0443\\u0433\\u0430\\u0442\\u0442\\u0438\\\" \\u0431\\u043b\\u044f\\u0442\\u044c, \\u0445\\u043e\\u0442\\u044c \\u0441\\u0442\\u043e\\u043c\\u0435\\u0442\\u0440\\u043e\\u0432\\u0430\\u044f \\u044f\\u0445\\u0442\\u0430, \\u043c\\u043d\\u0435 \\u043d\\u0430 \\u044d\\u0442\\u043e \\u043d\\u0430\\u0441\\u0440\\u0430\\u0442\\u044c, \\u043f\\u043e\\u043d\\u0438\\u043c\\u0430\\u0435\\u0448\\u044c? \\u0421\\u043a\\u043e\\u043b\\u044c\\u043a\\u043e \\u0442\\u044b \\u0442\\u0430\\u043c, \\u043a\\u043e\\u0433\\u043e \\u0435\\u0431\\u0435\\u0448\\u044c, \\u043a\\u0430\\u043a\\u0438\\u0445 \\u0431\\u0430\\u0431, \\u043a\\u0430\\u043a\\u0438\\u0445 \\u0437\\u043d\\u0430\\u0447\\u0438\\u0442 \\u0432\\u043e\\u0442 \\u044d\\u0442\\u0438\\u0445 \\u0441\\u0430\\u043c\\u043e\\u043a \\u0448\\u0438\\u043a\\u0430\\u0440\\u043d\\u044b\\u0445 \\u0438\\u043b\\u0438 \\u0430\\u0442\\u043b\\u0430\\u0441\\u043d\\u044b\\u0445, \\u0431\\u043b\\u044f\\u0442\\u044c \\u0432 \\u043a\\u043e\\u0441\\u043c\\u043e\\u0441 \\u0442\\u044b \\u043b\\u0435\\u0442\\u0438\\u0448\\u044c, \\u043c\\u043d\\u0435 \\u043d\\u0430 \\u044d\\u0442\\u043e \\u043d\\u0430\\u0441\\u0440\\u0430\\u0442\\u044c, \\u043f\\u043e\\u043d\\u0438\\u043c\\u0430\\u0435\\u0448\\u044c? \\u042f, \\u0431\\u043b\\u044f\\u0442\\u044c, \\u0432 \\u0441\\u0432\\u043e\\u0435\\u043c \\u043f\\u043e\\u0437\\u043d\\u0430\\u043d\\u0438\\u0438 \\u043d\\u0430\\u0441\\u0442\\u043e\\u043b\\u044c\\u043a\\u043e \\u043f\\u0440\\u0435\\u0438\\u0441\\u043f\\u043e\\u043b\\u043d\\u0438\\u043b\\u0441\\u044f, \\u0447\\u0442\\u043e \\u044f \\u043a\\u0430\\u043a \\u0431\\u0443\\u0434\\u0442\\u043e \\u0431\\u044b \\u0443\\u0436\\u0435 \\u0441\\u0442\\u043e \\u0442\\u0440\\u0438\\u043b\\u043b\\u0438\\u043e\\u043d\\u043e\\u0432 \\u043c\\u0438\\u043b\\u043b\\u0438\\u0430\\u0440\\u0434\\u043e\\u0432 \\u043b\\u0435\\u0442, \\u0431\\u043b\\u044f\\u0442\\u044c, \\u043f\\u0440\\u043e\\u0436\\u0438\\u0432\\u0430\\u044e \\u043d\\u0430 \\u0442\\u0440\\u0438\\u043b\\u043b\\u0438\\u043e\\u043d\\u0430\\u0445 \\u0438 \\u0442\\u0440\\u0438\\u043b\\u043b\\u0438\\u043e\\u043d\\u0430\\u0445 \\u0442\\u0430\\u043a\\u0438\\u0445 \\u0436\\u0435 \\u043f\\u043b\\u0430\\u043d\\u0435\\u0442, \\u043a\\u0430\\u043a \\u044d\\u0442\\u0430 \\u0417\\u0435\\u043c\\u043b\\u044f, \\u043c\\u043d\\u0435 \\u044d\\u0442\\u043e\\u0442 \\u043c\\u0438\\u0440 \\u0430\\u0431\\u0441\\u043e\\u043b\\u044e\\u0442\\u043d\\u043e \\u043f\\u043e\\u043d\\u044f\\u0442\\u0435\\u043d, \\u0438 \\u044f \\u0437\\u0434\\u0435\\u0441\\u044c \\u0438\\u0449\\u0443 \\u0442\\u043e\\u043b\\u044c\\u043a\\u043e \\u043e\\u0434\\u043d\\u043e\\u0433\\u043e, \\u0431\\u043b\\u044f\\u0442\\u044c, - \\u043f\\u043e\\u043a\\u043e\\u044f, \\u0443\\u043c\\u0438\\u0440\\u043e\\u0442\\u0432\\u043e\\u0440\\u0435\\u043d\\u0438\\u044f \\u0438 \\u0432\\u043e\\u0442 \\u044d\\u0442\\u043e\\u0439 \\u0433\\u0430\\u0440\\u043c\\u043e\\u043d\\u0438\\u0438, \\u043e\\u0442 \\u0441\\u043b\\u0438\\u044f\\u043d\\u0438\\u044f \\u0441 \\u0431\\u0435\\u0441\\u043a\\u043e\\u043d\\u0435\\u0447\\u043d\\u043e \\u0432\\u0435\\u0447\\u043d\\u044b\\u043c, \\u043e\\u0442 \\u0441\\u043e\\u0437\\u0435\\u0440\\u0446\\u0430\\u043d\\u0438\\u044f \\u0432\\u0435\\u043b\\u0438\\u043a\\u043e\\u0433\\u043e \\u0444\\u0440\\u0430\\u043a\\u0442\\u0430\\u043b\\u044c\\u043d\\u043e\\u0433\\u043e \\u043f\\u043e\\u0434\\u043e\\u0431\\u0438\\u044f \\u0438 \\u043e\\u0442 \\u0432\\u043e\\u0442 \\u044d\\u0442\\u043e\\u0433\\u043e \\u0437\\u0430\\u043c\\u0435\\u0447\\u0430\\u0442\\u0435\\u043b\\u044c\\u043d\\u043e\\u0433\\u043e \\u0432\\u0441\\u0435\\u0435\\u0434\\u0438\\u043d\\u0441\\u0442\\u0432\\u0430 \\u0441\\u0443\\u0449\\u0435\\u0441\\u0442\\u0432\\u0430, \\u0431\\u0435\\u0441\\u043a\\u043e\\u043d\\u0435\\u0447\\u043d\\u043e \\u0432\\u0435\\u0447\\u043d\\u043e\\u0433\\u043e, \\u043a\\u0443\\u0434\\u0430 \\u043d\\u0438 \\u043f\\u043e\\u0441\\u043c\\u043e\\u0442\\u0440\\u0438, \\u0445\\u043e\\u0442\\u044c \\u0432\\u0433\\u043b\\u0443\\u0431\\u044c - \\u0431\\u0435\\u0441\\u043a\\u043e\\u043d\\u0435\\u0447\\u043d\\u043e \\u043c\\u0430\\u043b\\u043e\\u0435, \\u0445\\u043e\\u0442\\u044c \\u0432\\u0432\\u044b\\u0441\\u044c - \\u0431\\u0435\\u0441\\u043a\\u043e\\u043d\\u0435\\u0447\\u043d\\u043e\\u0435 \\u0431\\u043e\\u043b\\u044c\\u0448\\u043e\\u0435, \\u043f\\u043e\\u043d\\u0438\\u043c\\u0430\\u0435\\u0448\\u044c? \\u0410 \\u0442\\u044b \\u043c\\u043d\\u0435 \\u043e\\u043f\\u044f\\u0442\\u044c \\u0441\\u043e \\u0441\\u0432\\u043e\\u0438\\u043c \\u0432\\u043e\\u0442 \\u044d\\u0442\\u0438\\u043c \\u0431\\u043b\\u044f\\u0442\\u044c, \\u0438\\u0434\\u0438 \\u0441\\u0443\\u0435\\u0442\\u0438\\u0441\\u044c \\u0434\\u0430\\u043b\\u044c\\u0448\\u0435, \\u044d\\u0442\\u043e \\u0442\\u0432\\u043e\\u0451 \\u0440\\u0430\\u0441\\u043f\\u0440\\u0435\\u0434\\u0435\\u043b\\u0435\\u043d\\u0438\\u0435, \\u044d\\u0442\\u043e \\u0442\\u0432\\u043e\\u0439 \\u043f\\u0443\\u0442\\u044c \\u0438 \\u0442\\u0432\\u043e\\u0439 \\u0433\\u043e\\u0440\\u0438\\u0437\\u043e\\u043d\\u0442 \\u043f\\u043e\\u0437\\u043d\\u0430\\u043d\\u0438\\u044f \\u0438 \\u043e\\u0449\\u0443\\u0449\\u0435\\u043d\\u0438\\u044f \\u0442\\u0432\\u043e\\u0435\\u0439 \\u043f\\u0440\\u0438\\u0440\\u043e\\u0434\\u044b, \\u043e\\u043d \\u043d\\u0435\\u0441\\u043e\\u0438\\u0437\\u043c\\u0435\\u0440\\u0438\\u043c\\u043e \\u043c\\u0435\\u043b\\u043e\\u043a \\u043f\\u043e \\u0441\\u0440\\u0430\\u0432\\u043d\\u0435\\u043d\\u0438\\u044e \\u0441 \\u043c\\u043e\\u0438\\u043c, \\u043f\\u043e\\u043d\\u0438\\u043c\\u0430\\u0435\\u0448\\u044c? \\u042f \\u043a\\u0430\\u043a \\u0431\\u0443\\u0434\\u0442\\u043e \\u0431\\u044b \\u0443\\u0436\\u0435 \\u0434\\u0430\\u0432\\u043d\\u043e \\u0433\\u043b\\u0443\\u0431\\u043e\\u043a\\u0438\\u0439 \\u0441\\u0442\\u0430\\u0440\\u0435\\u0446, \\u0431\\u0435\\u0441\\u0441\\u043c\\u0435\\u0440\\u0442\\u043d\\u044b\\u0439, \\u043d\\u0443 \\u0438\\u043b\\u0438 \\u0442\\u0430\\u043c \\u0443\\u0436\\u0435 \\u043f\\u043e\\u0447\\u0442\\u0438 \\u0431\\u0435\\u0441\\u0441\\u043c\\u0435\\u0440\\u0442\\u043d\\u044b\\u0439, \\u043a\\u043e\\u0442\\u043e\\u0440\\u044b\\u0439 \\u043d\\u0430 \\u044d\\u0442\\u043e\\u0439 \\u043f\\u043b\\u0430\\u043d\\u0435\\u0442\\u0435 \\u043e\\u0442 \\u0435\\u0451 \\u0441\\u0430\\u043c\\u043e\\u0433\\u043e \\u0437\\u0430\\u0440\\u043e\\u0436\\u0434\\u0435\\u043d\\u0438\\u044f, \\u0435\\u0449\\u0451 \\u043a\\u043e\\u0433\\u0434\\u0430 \\u0442\\u043e\\u043b\\u044c\\u043a\\u043e \\u0421\\u043e\\u043b\\u043d\\u0446\\u0435 \\u0442\\u043e\\u043b\\u044c\\u043a\\u043e-\\u0442\\u043e\\u043b\\u044c\\u043a\\u043e \\u0441\\u0444\\u043e\\u0440\\u043c\\u0438\\u0440\\u043e\\u0432\\u0430\\u043b\\u043e\\u0441\\u044c \\u043a\\u0430\\u043a \\u0437\\u0432\\u0435\\u0437\\u0434\\u0430, \\u0438 \\u0432\\u043e\\u0442 \\u044d\\u0442\\u043e \\u0433\\u0430\\u0437\\u043e\\u043f\\u044b\\u043b\\u0435\\u0432\\u043e\\u0435 \\u043e\\u0431\\u043b\\u0430\\u043a\\u043e, \\u0432\\u043e\\u0442, \\u043f\\u043e\\u0441\\u043b\\u0435 \\u0432\\u0437\\u0440\\u044b\\u0432\\u0430, \\u0421\\u043e\\u043b\\u043d\\u0446\\u0430, \\u043a\\u043e\\u0433\\u0434\\u0430 \\u043e\\u043d\\u043e \\u0432\\u0441\\u043f\\u044b\\u0445\\u043d\\u0443\\u043b\\u043e, \\u043a\\u0430\\u043a \\u0437\\u0432\\u0435\\u0437\\u0434\\u0430, \\u043d\\u0430\\u0447\\u0430\\u043b\\u043e \\u0444\\u043e\\u0440\\u043c\\u0438\\u0440\\u043e\\u0432\\u0430\\u0442\\u044c \\u0432\\u043e\\u0442 \\u044d\\u0442\\u0438 \\u043a\\u043e\\u0430\\u0446\\u0435\\u0440\\u0432\\u0430\\u0442\\u044b, \\u043f\\u043b\\u0430\\u043d\\u0435\\u0442\\u044b, \\u043f\\u043e\\u043d\\u0438\\u043c\\u0430\\u0435\\u0448\\u044c, \\u044f \\u043d\\u0430 \\u044d\\u0442\\u043e\\u0439 \\u0417\\u0435\\u043c\\u043b\\u0435 \\u0443\\u0436\\u0435 \\u043a\\u0430\\u043a \\u0431\\u0443\\u0434\\u0442\\u043e \\u043f\\u043e\\u0447\\u0442\\u0438 \\u043f\\u044f\\u0442\\u044c \\u043c\\u0438\\u043b\\u043b\\u0438\\u0430\\u0440\\u0434\\u043e\\u0432 \\u043b\\u0435\\u0442 \\u0431\\u043b\\u044f\\u0442\\u044c \\u0436\\u0438\\u0432\\u0443 \\u0438 \\u0437\\u043d\\u0430\\u044e \\u0435\\u0451 \\u0432\\u0434\\u043e\\u043b\\u044c \\u0438 \\u043f\\u043e\\u043f\\u0435\\u0440\\u0451\\u043a \\u044d\\u0442\\u043e\\u0442 \\u0432\\u0435\\u0441\\u044c \\u043c\\u0438\\u0440, \\u0430 \\u0442\\u044b \\u043c\\u043d\\u0435 \\u043a\\u0430\\u043a\\u0438\\u0435-\\u0442\\u043e... \\u043c\\u043d\\u0435 \\u043f\\u043e\\u0445\\u0443\\u0439 \\u043d\\u0430 \\u0442\\u0432\\u043e\\u0438 \\u0442\\u0430\\u0447\\u043a\\u0438, \\u043d\\u0430 \\u0442\\u0432\\u043e\\u0438 \\u0431\\u043b\\u044f\\u0442\\u044c \\u043d\\u0430\\u0445\\u0443\\u0439 \\u044f\\u0445\\u0442\\u044b, \\u043d\\u0430 \\u0442\\u0432\\u043e\\u0438 \\u043a\\u0432\\u0430\\u0440\\u0442\\u0438\\u0440\\u044b, \\u0442\\u0430\\u043c, \\u043d\\u0430 \\u0442\\u0432\\u043e\\u0451 \\u0431\\u043b\\u0430\\u0433\\u043e. \\u042f \\u0431\\u044b\\u043b \\u043d\\u0430 \\u044d\\u0442\\u043e\\u0439 \\u043f\\u043b\\u0430\\u043d\\u0435\\u0442\\u0435 \\u0431\\u0435\\u0441\\u043a\\u043e\\u043d\\u0435\\u0447\\u043d\\u044b\\u043c \\u043c\\u043d\\u043e\\u0436\\u0435\\u0441\\u0442\\u0432\\u043e\\u043c, \\u0438 \\u043a\\u0440\\u0443\\u0447\\u0435 \\u0426\\u0435\\u0437\\u0430\\u0440\\u044f, \\u0438 \\u043a\\u0440\\u0443\\u0447\\u0435 \\u0413\\u0438\\u0442\\u043b\\u0435\\u0440\\u0430, \\u0438 \\u043a\\u0440\\u0443\\u0447\\u0435 \\u0432\\u0441\\u0435\\u0445 \\u0432\\u0435\\u043b\\u0438\\u043a\\u0438\\u0445, \\u043f\\u043e\\u043d\\u0438\\u043c\\u0430\\u0435\\u0448\\u044c, \\u0431\\u044b\\u043b, \\u0430 \\u0433\\u0434\\u0435-\\u0442\\u043e \\u0431\\u044b\\u043b \\u043a\\u043e\\u043d\\u0447\\u0435\\u043d\\u044b\\u043c \\u0433\\u043e\\u0432\\u043d\\u043e\\u043c, \\u0435\\u0449\\u0451 \\u0445\\u0443\\u0436\\u0435, \\u0447\\u0435\\u043c \\u0437\\u0434\\u0435\\u0441\\u044c. \\u042f \\u043c\\u043d\\u043e\\u0436\\u0435\\u0441\\u0442\\u0432\\u043e \\u044d\\u0442\\u0438\\u0445 \\u0441\\u043e\\u0441\\u0442\\u043e\\u044f\\u043d\\u0438\\u0439 \\u0447\\u0443\\u0432\\u0441\\u0442\\u0432\\u0443\\u044e. \\u0413\\u0434\\u0435-\\u0442\\u043e \\u044f \\u0431\\u044b\\u043b \\u0431\\u043e\\u043b\\u044c\\u0448\\u0435 \\u043f\\u043e\\u0434\\u043e\\u0431\\u0435\\u043d \\u0440\\u0430\\u0441\\u0442\\u0435\\u043d\\u0438\\u044e, \\u0433\\u0434\\u0435-\\u0442\\u043e \\u044f \\u0431\\u043e\\u043b\\u044c\\u0448\\u0435 \\u0431\\u044b\\u043b \\u043f\\u043e\\u0434\\u043e\\u0431\\u0435\\u043d \\u043f\\u0442\\u0438\\u0446\\u0435, \\u0442\\u0430\\u043c, \\u0447\\u0435\\u0440\\u0432\\u044e, \\u0433\\u0434\\u0435-\\u0442\\u043e \\u0431\\u044b\\u043b \\u043f\\u0440\\u043e\\u0441\\u0442\\u043e \\u0441\\u0433\\u0443\\u0441\\u0442\\u043e\\u043a \\u043a\\u0430\\u043c\\u043d\\u044f, \\u044d\\u0442\\u043e \\u0432\\u0441\\u0451 \\u0435\\u0441\\u0442\\u044c \\u0434\\u0443\\u0448\\u0430, \\u043f\\u043e\\u043d\\u0438\\u043c\\u0430\\u0435\\u0448\\u044c? \\u041e\\u043d\\u0430 \\u0438\\u043c\\u0435\\u0435\\u0442 \\u0433\\u0440\\u0430\\u043d\\u0438 \\u043f\\u043e\\u0434\\u043e\\u0431\\u0438\\u044f \\u0441\\u043e\\u0432\\u0435\\u0440\\u0448\\u0435\\u043d\\u043d\\u043e \\u043c\\u043d\\u043e\\u0433\\u043e\\u043e\\u0431\\u0440\\u0430\\u0437\\u043d\\u044b\\u0435, \\u0431\\u0435\\u0441\\u043a\\u043e\\u043d\\u0435\\u0447\\u043d\\u043e\\u0435 \\u043c\\u043d\\u043e\\u0436\\u0435\\u0441\\u0442\\u0432\\u043e. \\u041d\\u043e \\u0442\\u0435\\u0431\\u0435 \\u044d\\u0442\\u043e\\u0433\\u043e \\u043d\\u0435 \\u043f\\u043e\\u043d\\u044f\\u0442\\u044c, \\u043f\\u043e\\u044d\\u0442\\u043e\\u043c\\u0443 \\u0442\\u044b \\u0435\\u0437\\u0436\\u0430\\u0439 \\u0441\\u0435\\u0431\\u0435 \\u0431\\u043b\\u044f\\u0442\\u044c, \\u043c\\u044b \\u0432 \\u044d\\u0442\\u043e\\u043c \\u043c\\u0438\\u0440\\u0435 \\u043a\\u0430\\u043a \\u0431\\u044b \\u0436\\u0438\\u0432\\u0435\\u043c \\u0440\\u0430\\u0437\\u043d\\u044b\\u043c\\u0438 \\u043e\\u0449\\u0443\\u0449\\u0435\\u043d\\u0438\\u044f\\u043c\\u0438 \\u0438 \\u0440\\u0430\\u0437\\u043d\\u044b\\u043c\\u0438 \\u0441\\u0442\\u0440\\u0435\\u043c\\u043b\\u0435\\u043d\\u0438\\u044f\\u043c\\u0438, \\u0441\\u043e\\u043e\\u0442\\u0432\\u0435\\u0442\\u0441\\u0442\\u0432\\u0435\\u043d\\u043d\\u043e, \\u0440\\u0430\\u0437\\u043d\\u043e\\u0435 \\u043d\\u0430\\u0448\\u0435 \\u0438 \\u043c\\u0435\\u0441\\u0442\\u043e, \\u0440\\u0430\\u0437\\u043d\\u043e\\u0435 \\u0438 \\u043d\\u0430\\u0448\\u0435 \\u0440\\u0430\\u0441\\u043f\\u0440\\u0435\\u0434\\u0435\\u043b\\u0435\\u043d\\u0438\\u0435. \\u0422\\u0435\\u0431\\u0435 \\u044f \\u0436\\u0435\\u043b\\u0430\\u044e \\u0432\\u0441\\u0435 \\u0441\\u0430\\u043c\\u044b\\u0435 \\u043a\\u0440\\u0443\\u0442\\u044b\\u0435 \\u0442\\u0430\\u0447\\u043a\\u0438 \\u0447\\u0442\\u043e\\u0431 \\u0431\\u044b\\u043b\\u0438 \\u0443 \\u0442\\u0435\\u0431\\u044f, \\u0438 \\u0432\\u0441\\u0435 \\u0441\\u0430\\u043c\\u044b\\u0435 \\u043b\\u0443\\u0447\\u0448\\u0435 \\u0441\\u0430\\u043c\\u043a\\u0438 \\u0447\\u0442\\u043e\\u0431\\u044b \\u0440\\u0430\\u0437\\u0434\\u0432\\u0438\\u0433\\u0430\\u043b\\u0438 \\u043d\\u043e\\u0433\\u0438 \\u043f\\u0435\\u0440\\u0435\\u0434 \\u0442\\u043e\\u0431\\u043e\\u0439, \\u0447\\u0442\\u043e\\u0431\\u044b \\u0440\\u0430\\u0437\\u0434\\u0432\\u0438\\u0433\\u0430\\u043b\\u0438 \\u043f\\u0435\\u0440\\u0435\\u0434 \\u0442\\u043e\\u0431\\u043e\\u0439 \\u0449\\u0435\\u043b\\u0438, \\u043d\\u0430 \\u0448\\u0438\\u0432\\u043e\\u0440\\u043e\\u0442-\\u043d\\u0430\\u0432\\u044b\\u0432\\u043e\\u0440\\u043e\\u0442, \\u0431\\u043b\\u044f\\u0442\\u044c, \\u043f\\u0435\\u0440\\u0435\\u0434 \\u0442\\u043e\\u0431\\u043e\\u0439, \\u043a\\u0430\\u043a \\u043a\\u043e\\u0432\\u0451\\u0440, \\u044d\\u0442\\u043e \\u0441\\u0430\\u043c\\u043e\\u0435, \\u0440\\u0430\\u0441\\u043a\\u0440\\u044b\\u0432\\u0430\\u043b\\u0438, \\u0440\\u0430\\u0441\\u0442\\u043b\\u0435\\u0432\\u0430\\u043b\\u0438, \\u0440\\u0430\\u0441\\u0442\\u043b\\u0430\\u043b\\u0438, \\u0438 \\u0442\\u044b \\u0438\\u0445 \\u0447\\u0442\\u043e\\u0431\\u044b \\u0435\\u0431\\u0430\\u043b \\u0434\\u043e \\u043f\\u043e\\u0441\\u0438\\u043d\\u0435\\u043d\\u0438\\u044f, \\u0434\\u043e\\u043a\\u0440\\u0430\\u0441\\u043d\\u0430, \\u0432\\u043e\\u043d, \\u043a\\u0430\\u043a \\u0421\\u043e\\u043b\\u043d\\u0446\\u0435 \\u0437\\u0430\\u043a\\u0430\\u0442\\u043d\\u043e\\u0435, \\u0438 \\u0447\\u0442\\u043e\\u0431 \\u043d\\u0430 \\u043b\\u0443\\u0447\\u0448\\u0438\\u0445 \\u044f\\u0445\\u0442\\u0430\\u0445, \\u0438 \\u043d\\u0430 \\u0441\\u0430\\u043c\\u043e\\u043b\\u0451\\u0442\\u0430\\u0445 \\u043b\\u0435\\u0442\\u0430\\u043b, \\u0438 \\u043a\\u043e\\u043d\\u0447\\u0430\\u043b \\u043f\\u0440\\u044f\\u043c\\u043e \\u0441 \\u0438\\u043b\\u043b\\u044e\\u043c\\u0438\\u043d\\u0430\\u0442\\u043e\\u0440\\u0430, \\u0438 \\u0434\\u0435\\u043b\\u0430\\u043b \\u0432\\u0441\\u0451, \\u0447\\u0442\\u043e \\u0442\\u043e\\u043b\\u044c\\u043a\\u043e \\u0432 \\u0433\\u043e\\u043b\\u043e\\u0432\\u0443 \\u043c\\u043e\\u0433\\u043b\\u043e \\u043f\\u0440\\u0438\\u0439\\u0442\\u0438 \\u0438 \\u043d\\u0435 \\u043f\\u0440\\u0438\\u0439\\u0442\\u0438, \\u0435\\u0441\\u043b\\u0438 \\u043c\\u0430\\u043b\\u043e \\u0438\\u0434\\u0435\\u0439, \\u043e\\u0431\\u0440\\u0430\\u0449\\u0430\\u0439\\u0441\\u044f \\u043a\\u043e \\u043c\\u043d\\u0435, \\u044f \\u0442\\u0435\\u0431\\u0435 \\u043d\\u0430 \\u043a\\u0430\\u0436\\u0434\\u0443\\u044e \\u0442\\u0432\\u043e\\u044e \\u0438\\u0434\\u0435\\u044e \\u043f\\u0440\\u0435\\u0434\\u043b\\u043e\\u0436\\u0443 \\u0441\\u043e\\u0442\\u043d\\u044e \\u0442\\u0440\\u0438\\u043b\\u043b\\u0438\\u043e\\u043d\\u043e\\u0432, \\u043a\\u0430\\u043a \\u0432\\u0441\\u0451 \\u0434\\u0435\\u043b\\u0430\\u0442\\u044c. \\u041d\\u0443 \\u0430 \\u044f \\u0432\\u0441\\u0451, \\u044f \\u0438\\u0434\\u0443 \\u043a\\u0430\\u043a \\u0433\\u043b\\u0443\\u0431\\u043e\\u043a\\u0438\\u0439 \\u0441\\u0442\\u0430\\u0440\\u0435\\u0446, \\u0443\\u0437\\u0440\\u0435\\u0432\\u0448\\u0438\\u0439 \\u0432\\u0435\\u0447\\u043d\\u043e\\u0435, \\u043f\\u0440\\u0438\\u043a\\u043e\\u0441\\u043d\\u0443\\u0432\\u0448\\u0438\\u0439\\u0441\\u044f \\u043a \\u0411\\u043e\\u0436\\u0435\\u0441\\u0442\\u0432\\u0435\\u043d\\u043d\\u043e\\u043c\\u0443, \\u0441\\u0430\\u043c \\u0441\\u0442\\u0430\\u043b \\u0431\\u043e\\u0433\\u043e\\u043f\\u043e\\u0434\\u043e\\u0431\\u0435\\u043d \\u0438 \\u0443\\u0441\\u0442\\u0440\\u0435\\u043c\\u043b\\u0435\\u043d \\u0432 \\u044d\\u0442\\u043e \\u0431\\u0435\\u0441\\u043a\\u043e\\u043d\\u0435\\u0447\\u043d\\u043e\\u0435, \\u0438 \\u043a\\u043e\\u0442\\u043e\\u0440\\u044b\\u0439 \\u0432 \\u0443\\u043c\\u0438\\u0440\\u043e\\u0442\\u0432\\u043e\\u0440\\u0435\\u043d\\u0438\\u0438, \\u043f\\u043e\\u043a\\u043e\\u0435, \\u0433\\u0430\\u0440\\u043c\\u043e\\u043d\\u0438\\u0438, \\u0431\\u043b\\u0430\\u0433\\u043e\\u0434\\u0430\\u0442\\u0438, \\u0432 \\u044d\\u0442\\u043e\\u043c \\u0441\\u043e\\u043a\\u0440\\u043e\\u0432\\u0435\\u043d\\u043d\\u043e\\u043c \\u0431\\u043b\\u0430\\u0436\\u0435\\u043d\\u0441\\u0442\\u0432\\u0435 \\u043f\\u0440\\u0435\\u0431\\u044b\\u0432\\u0430\\u0435\\u0442, \\u0432\\u043e\\u0432\\u043b\\u0435\\u0447\\u0435\\u043d\\u043d\\u044b\\u0439 \\u0432\\u043e \\u0432\\u0441\\u0451 \\u0438 \\u0432\\u043e \\u0432\\u0441\\u044f, \\u043f\\u043e\\u043d\\u0438\\u043c\\u0430\\u0435\\u0448\\u044c, \\u0432\\u043e\\u0442 \\u0438 \\u0432\\u0441\\u0451, \\u0432 \\u044d\\u0442\\u043e\\u043c \\u043d\\u0430\\u0448\\u0430 \\u0440\\u0430\\u0437\\u043d\\u0438\\u0446\\u0430. \\u0422\\u0430\\u043a \\u0447\\u0442\\u043e \\u044f \\u0438\\u0434\\u0443 \\u043b\\u044e\\u0431\\u043e\\u0432\\u0430\\u0442\\u044c\\u0441\\u044f \\u043c\\u0438\\u0440\\u043e\\u0437\\u0434\\u0430\\u043d\\u0438\\u0435\\u043c, \\u0430 \\u0442\\u044b \\u0438\\u0434\\u0451\\u0448\\u044c \\u043f\\u0440\\u0435\\u0438\\u0441\\u043f\\u043e\\u043b\\u043d\\u044f\\u0442\\u044c\\u0441\\u044f \\u0432 \\u0413\\u0420\\u0410\\u041d\\u042f\\u0425 \\u043a\\u0430\\u043a\\u0438\\u0445-\\u0442\\u043e, \\u0432\\u043e\\u0442 \\u0438 \\u0432\\u0441\\u044f \\u0440\\u0430\\u0437\\u043d\\u0438\\u0446\\u0430, \\u043f\\u043e\\u043d\\u0438\\u043c\\u0430\\u0435\\u0448\\u044c, \\u0442\\u044b \\u043d\\u0435 \\u0437\\u0440\\u0438\\u0448\\u044c \\u044d\\u0442\\u043e \\u0432\\u0435\\u0447\\u043d\\u043e\\u0435 \\u0431\\u0435\\u0441\\u043a\\u043e\\u043d\\u0435\\u0447\\u043d\\u043e\\u0435, \\u043e\\u043d\\u043e \\u0442\\u0435\\u0431\\u0435 \\u043d\\u0435 \\u043d\\u0443\\u0436\\u043d\\u043e. \\u041d\\u0443 \\u0437\\u0430\\u0442\\u043e \\u0442\\u044b, \\u0442\\u0430\\u043a \\u0441\\u043a\\u0430\\u0437\\u0430\\u0442\\u044c, \\u0431\\u043e\\u043b\\u0435\\u0435 \\u0430\\u043a\\u0442\\u0438\\u0432\\u0435\\u043d, \\u043a\\u0430\\u043a \\u0432\\u043e\\u0442 \\u044d\\u0442\\u043e\\u0442 \\u0434\\u044f\\u0442\\u0435\\u043b \\u0434\\u043e\\u043b\\u0431\\u044f\\u0449\\u0438\\u0439, \\u0438\\u043b\\u0438 \\u043c\\u0443\\u0440\\u0430\\u0432\\u0435\\u0439, \\u043a\\u043e\\u0442\\u043e\\u0440\\u044b\\u0439 \\u043e\\u0447\\u0435\\u043d\\u044c \\u0430\\u043a\\u0442\\u0438\\u0432\\u0435\\u043d \\u0432 \\u0441\\u0432\\u043e\\u0435\\u0439 \\u0441\\u0442\\u0435\\u0437\\u0435, \\u043f\\u043e\\u044d\\u0442\\u043e\\u043c\\u0443 \\u0434\\u0430\\u0432\\u0430\\u0439, \\u043d\\u0430\\u0448\\u0438 \\u043f\\u0443\\u0442\\u0438 \\u0437\\u0434\\u0435\\u0441\\u044c, \\u043a\\u043e\\u043d\\u0435\\u0447\\u043d\\u043e, \\u0438\\u043c\\u0435\\u044e\\u0442 \\u0433\\u0440\\u0430\\u043d\\u0438 \\u043f\\u043e\\u0434\\u043e\\u0431\\u0438\\u044f, \\u043f\\u043e\\u0442\\u043e\\u043c\\u0443 \\u0447\\u0442\\u043e \\u0432\\u0441\\u0451 \\u0435\\u0434\\u0438\\u043d\\u043e, \\u043d\\u043e \\u044f-\\u0442\\u043e \\u0442\\u0435\\u0431\\u044f \\u043f\\u0440\\u0435\\u043a\\u0440\\u0430\\u0441\\u043d\\u043e \\u043f\\u043e\\u043d\\u0438\\u043c\\u0430\\u044e, \\u0430 \\u0432\\u043e\\u0442 \\u0442\\u044b \\u043c\\u0435\\u043d\\u044f - \\u0432\\u0440\\u044f\\u0434 \\u043b\\u0438, \\u043f\\u043e\\u0442\\u043e\\u043c\\u0443 \\u0447\\u0442\\u043e \\u044f \\u043a\\u0430\\u043a \\u0431\\u044b \\u0442\\u0435\\u0431\\u044f \\u0432 \\u0441\\u0435\\u0431\\u0435 \\u0441\\u043e\\u0434\\u0435\\u0440\\u0436\\u0443, \\u0432\\u0441\\u044e \\u0442\\u0432\\u043e\\u044e \\u043f\\u0440\\u0438\\u0440\\u043e\\u0434\\u0443, \\u043e\\u043d\\u0430 \\u0441\\u043e\\u0441\\u0442\\u0430\\u0432\\u043b\\u044f\\u0435\\u0442 \\u043e\\u0434\\u043d\\u0443 \\u043c\\u0430\\u043b\\u0435\\u043d\\u044c\\u043a\\u0443\\u044e \\u0442\\u0430\\u043c \\u043f\\u0435\\u0441\\u0447\\u0438\\u043d\\u043e\\u0447\\u043a\\u0443, \\u043e\\u0442 \\u0442\\u043e\\u0433\\u043e \\u0447\\u0442\\u043e \\u0435\\u0441\\u0442\\u044c \\u0432\\u043e \\u043c\\u043d\\u0435, \\u0432\\u043e\\u0442 \\u0438 \\u0432\\u0441\\u0451, \\u043f\\u043e\\u044d\\u0442\\u043e\\u043c\\u0443 \\u0434\\u0430\\u0432\\u0430\\u0439, \\u0441\\u0442\\u0443\\u043f\\u0430\\u0439, \\u0435\\u0437\\u0436\\u0430\\u0439, \\u0430 \\u044f \\u043f\\u043e\\u0448\\u0435\\u043b \\u043d\\u0430\\u0441\\u043b\\u0430\\u0436\\u0434\\u0430\\u0442\\u044c\\u0441\\u044f \\u043d\\u0430\\u0445\\u0443\\u0439 \\u0431\\u043b\\u044f\\u0442\\u044c \\u043f\\u0440\\u0435\\u043a\\u0440\\u0430\\u0441\\u043d\\u044b\\u043c \\u043e\\u0441\\u0435\\u043d\\u043d\\u0438\\u043c \\u0437\\u0430\\u043a\\u0430\\u0442\\u043e\\u043c \\u043d\\u0430 \\u0431\\u0435\\u0440\\u0435\\u0433\\u0443 \\u0442\\u0435\\u043f\\u043b\\u043e\\u0439 \\u044e\\u0436\\u043d\\u043e\\u0439 \\u0440\\u0435\\u043a\\u0438. \\u0412\\u0441\\u0451, \\u043f\\u0438\\u0437\\u0434\\u0443\\u0439-\\u0431\\u043e\\u0440\\u043e\\u0437\\u0434\\u0443\\u0439, \\u0438 \\u044f \\u043f\\u043e\\u043f\\u0438\\u0437\\u0434\\u0438\\u043b, \\u043d\\u0430\\u0445\\u0443\\u0439.\"\n        ],\n        \"semantic_type\": \"\",\n        \"description\": \"\"\n      }\n    },\n    {\n      \"column\": \"unique_key\",\n      \"properties\": {\n        \"dtype\": \"string\",\n        \"num_unique_values\": 63927,\n        \"samples\": [\n          \"0C3oVN9nB5Q1HYbGue8BNQiUjOir\",\n          \"sPb8aLnWkUs8j5VpYqqWIo1zE8Q5\",\n          \"peE-oVjKo1VogoifR15faQJ8p1JO\"\n        ],\n        \"semantic_type\": \"\",\n        \"description\": \"\"\n      }\n    },\n    {\n      \"column\": \"group_source\",\n      \"properties\": {\n        \"dtype\": \"category\",\n        \"num_unique_values\": 4,\n        \"samples\": [\n          \"https://vk.com/anekdotikategoriib\",\n          \"https://vk.com/baneks\",\n          \"https://vk.com/jewishpugs\"\n        ],\n        \"semantic_type\": \"\",\n        \"description\": \"\"\n      }\n    }\n  ]\n}"
            }
          },
          "metadata": {},
          "execution_count": 79
        }
      ]
    },
    {
      "cell_type": "code",
      "source": [
        "# убираем знаки препинания и другое, числа - код в ASCII\n",
        "def remove_punct(text):\n",
        "    table = {33: ' ', 34: ' ', 35: ' ', 36: ' ', 37: ' ', 38: ' ', 39: ' ', 40: ' ', 41: ' ', 42: ' ', 43: ' ', 44: ' ', 45: ' ',\n",
        "             46: ' ', 47: ' ', 58: ' ', 59: ' ', 60: ' ', 61: ' ', 62: ' ', 63: ' ', 64: ' ', 91: ' ', 92: ' ', 93: ' ', 94: ' ',\n",
        "             95: ' ', 96: ' ', 123: ' ', 124: ' ', 125: ' ', 126: ' '}\n",
        "    return text.translate(table)"
      ],
      "metadata": {
        "id": "hqlhFF2glLlY"
      },
      "execution_count": 80,
      "outputs": []
    },
    {
      "cell_type": "code",
      "source": [
        "# функция для очистки данных и создания нового столбца уже с очищенным текстом\n",
        "def cleaning(dataframe):\n",
        "    dataframe['Post_clean'] = dataframe['text'].map(lambda x: x.lower())\n",
        "    dataframe['Post_clean'] = dataframe['Post_clean'].map(lambda x: remove_punct(x))\n",
        "    dataframe['Post_clean'] = dataframe['Post_clean'].map(lambda x: x.split(' '))\n",
        "    dataframe['Post_clean'] = dataframe['Post_clean'].map(lambda x: [token for token in x if token not in russian_stopwords\\\n",
        "                                                                  and token != \" \" \\\n",
        "                                                                  and token.strip() not in punctuation])\n",
        "    dataframe['Post_clean'] = dataframe['Post_clean'].map(lambda x: ' '.join(x))"
      ],
      "metadata": {
        "id": "H4LzQ4HBlYkJ"
      },
      "execution_count": 83,
      "outputs": []
    },
    {
      "cell_type": "code",
      "source": [
        "cleaning(df)\n",
        "df.head()"
      ],
      "metadata": {
        "colab": {
          "base_uri": "https://localhost:8080/",
          "height": 304
        },
        "id": "GtAgCnG7lcB5",
        "outputId": "86230bd9-3c3b-4561-ad6f-3ffea087296a"
      },
      "execution_count": 82,
      "outputs": [
        {
          "output_type": "error",
          "ename": "AttributeError",
          "evalue": "'float' object has no attribute 'lower'",
          "traceback": [
            "\u001b[0;31m---------------------------------------------------------------------------\u001b[0m",
            "\u001b[0;31mAttributeError\u001b[0m                            Traceback (most recent call last)",
            "\u001b[0;32m<ipython-input-82-75667cc9c950>\u001b[0m in \u001b[0;36m<cell line: 1>\u001b[0;34m()\u001b[0m\n\u001b[0;32m----> 1\u001b[0;31m \u001b[0mcleaning\u001b[0m\u001b[0;34m(\u001b[0m\u001b[0mdf\u001b[0m\u001b[0;34m)\u001b[0m\u001b[0;34m\u001b[0m\u001b[0;34m\u001b[0m\u001b[0m\n\u001b[0m\u001b[1;32m      2\u001b[0m \u001b[0mdf\u001b[0m\u001b[0;34m.\u001b[0m\u001b[0mhead\u001b[0m\u001b[0;34m(\u001b[0m\u001b[0;34m)\u001b[0m\u001b[0;34m\u001b[0m\u001b[0;34m\u001b[0m\u001b[0m\n",
            "\u001b[0;32m<ipython-input-81-f3ed8c4dcbda>\u001b[0m in \u001b[0;36mcleaning\u001b[0;34m(dataframe)\u001b[0m\n\u001b[1;32m      1\u001b[0m \u001b[0;31m# функция для очистки данных и создания нового столбца уже с очищенным текстом\u001b[0m\u001b[0;34m\u001b[0m\u001b[0;34m\u001b[0m\u001b[0m\n\u001b[1;32m      2\u001b[0m \u001b[0;32mdef\u001b[0m \u001b[0mcleaning\u001b[0m\u001b[0;34m(\u001b[0m\u001b[0mdataframe\u001b[0m\u001b[0;34m)\u001b[0m\u001b[0;34m:\u001b[0m\u001b[0;34m\u001b[0m\u001b[0;34m\u001b[0m\u001b[0m\n\u001b[0;32m----> 3\u001b[0;31m     \u001b[0mdataframe\u001b[0m\u001b[0;34m[\u001b[0m\u001b[0;34m'Post_clean'\u001b[0m\u001b[0;34m]\u001b[0m \u001b[0;34m=\u001b[0m \u001b[0mdataframe\u001b[0m\u001b[0;34m[\u001b[0m\u001b[0;34m'text'\u001b[0m\u001b[0;34m]\u001b[0m\u001b[0;34m.\u001b[0m\u001b[0mmap\u001b[0m\u001b[0;34m(\u001b[0m\u001b[0;32mlambda\u001b[0m \u001b[0mx\u001b[0m\u001b[0;34m:\u001b[0m \u001b[0mx\u001b[0m\u001b[0;34m.\u001b[0m\u001b[0mlower\u001b[0m\u001b[0;34m(\u001b[0m\u001b[0;34m)\u001b[0m\u001b[0;34m)\u001b[0m\u001b[0;34m\u001b[0m\u001b[0;34m\u001b[0m\u001b[0m\n\u001b[0m\u001b[1;32m      4\u001b[0m     \u001b[0mdataframe\u001b[0m\u001b[0;34m[\u001b[0m\u001b[0;34m'Post_clean'\u001b[0m\u001b[0;34m]\u001b[0m \u001b[0;34m=\u001b[0m \u001b[0mdataframe\u001b[0m\u001b[0;34m[\u001b[0m\u001b[0;34m'Post_clean'\u001b[0m\u001b[0;34m]\u001b[0m\u001b[0;34m.\u001b[0m\u001b[0mmap\u001b[0m\u001b[0;34m(\u001b[0m\u001b[0;32mlambda\u001b[0m \u001b[0mx\u001b[0m\u001b[0;34m:\u001b[0m \u001b[0mremove_punct\u001b[0m\u001b[0;34m(\u001b[0m\u001b[0mx\u001b[0m\u001b[0;34m)\u001b[0m\u001b[0;34m)\u001b[0m\u001b[0;34m\u001b[0m\u001b[0;34m\u001b[0m\u001b[0m\n\u001b[1;32m      5\u001b[0m     \u001b[0mdataframe\u001b[0m\u001b[0;34m[\u001b[0m\u001b[0;34m'Post_clean'\u001b[0m\u001b[0;34m]\u001b[0m \u001b[0;34m=\u001b[0m \u001b[0mdataframe\u001b[0m\u001b[0;34m[\u001b[0m\u001b[0;34m'Post_clean'\u001b[0m\u001b[0;34m]\u001b[0m\u001b[0;34m.\u001b[0m\u001b[0mmap\u001b[0m\u001b[0;34m(\u001b[0m\u001b[0;32mlambda\u001b[0m \u001b[0mx\u001b[0m\u001b[0;34m:\u001b[0m \u001b[0mx\u001b[0m\u001b[0;34m.\u001b[0m\u001b[0msplit\u001b[0m\u001b[0;34m(\u001b[0m\u001b[0;34m' '\u001b[0m\u001b[0;34m)\u001b[0m\u001b[0;34m)\u001b[0m\u001b[0;34m\u001b[0m\u001b[0;34m\u001b[0m\u001b[0m\n",
            "\u001b[0;32m/usr/local/lib/python3.10/dist-packages/pandas/core/series.py\u001b[0m in \u001b[0;36mmap\u001b[0;34m(self, arg, na_action)\u001b[0m\n\u001b[1;32m   4395\u001b[0m         \u001b[0mdtype\u001b[0m\u001b[0;34m:\u001b[0m \u001b[0mobject\u001b[0m\u001b[0;34m\u001b[0m\u001b[0;34m\u001b[0m\u001b[0m\n\u001b[1;32m   4396\u001b[0m         \"\"\"\n\u001b[0;32m-> 4397\u001b[0;31m         \u001b[0mnew_values\u001b[0m \u001b[0;34m=\u001b[0m \u001b[0mself\u001b[0m\u001b[0;34m.\u001b[0m\u001b[0m_map_values\u001b[0m\u001b[0;34m(\u001b[0m\u001b[0marg\u001b[0m\u001b[0;34m,\u001b[0m \u001b[0mna_action\u001b[0m\u001b[0;34m=\u001b[0m\u001b[0mna_action\u001b[0m\u001b[0;34m)\u001b[0m\u001b[0;34m\u001b[0m\u001b[0;34m\u001b[0m\u001b[0m\n\u001b[0m\u001b[1;32m   4398\u001b[0m         return self._constructor(new_values, index=self.index, copy=False).__finalize__(\n\u001b[1;32m   4399\u001b[0m             \u001b[0mself\u001b[0m\u001b[0;34m,\u001b[0m \u001b[0mmethod\u001b[0m\u001b[0;34m=\u001b[0m\u001b[0;34m\"map\"\u001b[0m\u001b[0;34m\u001b[0m\u001b[0;34m\u001b[0m\u001b[0m\n",
            "\u001b[0;32m/usr/local/lib/python3.10/dist-packages/pandas/core/base.py\u001b[0m in \u001b[0;36m_map_values\u001b[0;34m(self, mapper, na_action)\u001b[0m\n\u001b[1;32m    922\u001b[0m \u001b[0;34m\u001b[0m\u001b[0m\n\u001b[1;32m    923\u001b[0m         \u001b[0;31m# mapper is a function\u001b[0m\u001b[0;34m\u001b[0m\u001b[0;34m\u001b[0m\u001b[0m\n\u001b[0;32m--> 924\u001b[0;31m         \u001b[0mnew_values\u001b[0m \u001b[0;34m=\u001b[0m \u001b[0mmap_f\u001b[0m\u001b[0;34m(\u001b[0m\u001b[0mvalues\u001b[0m\u001b[0;34m,\u001b[0m \u001b[0mmapper\u001b[0m\u001b[0;34m)\u001b[0m\u001b[0;34m\u001b[0m\u001b[0;34m\u001b[0m\u001b[0m\n\u001b[0m\u001b[1;32m    925\u001b[0m \u001b[0;34m\u001b[0m\u001b[0m\n\u001b[1;32m    926\u001b[0m         \u001b[0;32mreturn\u001b[0m \u001b[0mnew_values\u001b[0m\u001b[0;34m\u001b[0m\u001b[0;34m\u001b[0m\u001b[0m\n",
            "\u001b[0;32m/usr/local/lib/python3.10/dist-packages/pandas/_libs/lib.pyx\u001b[0m in \u001b[0;36mpandas._libs.lib.map_infer\u001b[0;34m()\u001b[0m\n",
            "\u001b[0;32m<ipython-input-81-f3ed8c4dcbda>\u001b[0m in \u001b[0;36m<lambda>\u001b[0;34m(x)\u001b[0m\n\u001b[1;32m      1\u001b[0m \u001b[0;31m# функция для очистки данных и создания нового столбца уже с очищенным текстом\u001b[0m\u001b[0;34m\u001b[0m\u001b[0;34m\u001b[0m\u001b[0m\n\u001b[1;32m      2\u001b[0m \u001b[0;32mdef\u001b[0m \u001b[0mcleaning\u001b[0m\u001b[0;34m(\u001b[0m\u001b[0mdataframe\u001b[0m\u001b[0;34m)\u001b[0m\u001b[0;34m:\u001b[0m\u001b[0;34m\u001b[0m\u001b[0;34m\u001b[0m\u001b[0m\n\u001b[0;32m----> 3\u001b[0;31m     \u001b[0mdataframe\u001b[0m\u001b[0;34m[\u001b[0m\u001b[0;34m'Post_clean'\u001b[0m\u001b[0;34m]\u001b[0m \u001b[0;34m=\u001b[0m \u001b[0mdataframe\u001b[0m\u001b[0;34m[\u001b[0m\u001b[0;34m'text'\u001b[0m\u001b[0;34m]\u001b[0m\u001b[0;34m.\u001b[0m\u001b[0mmap\u001b[0m\u001b[0;34m(\u001b[0m\u001b[0;32mlambda\u001b[0m \u001b[0mx\u001b[0m\u001b[0;34m:\u001b[0m \u001b[0mx\u001b[0m\u001b[0;34m.\u001b[0m\u001b[0mlower\u001b[0m\u001b[0;34m(\u001b[0m\u001b[0;34m)\u001b[0m\u001b[0;34m)\u001b[0m\u001b[0;34m\u001b[0m\u001b[0;34m\u001b[0m\u001b[0m\n\u001b[0m\u001b[1;32m      4\u001b[0m     \u001b[0mdataframe\u001b[0m\u001b[0;34m[\u001b[0m\u001b[0;34m'Post_clean'\u001b[0m\u001b[0;34m]\u001b[0m \u001b[0;34m=\u001b[0m \u001b[0mdataframe\u001b[0m\u001b[0;34m[\u001b[0m\u001b[0;34m'Post_clean'\u001b[0m\u001b[0;34m]\u001b[0m\u001b[0;34m.\u001b[0m\u001b[0mmap\u001b[0m\u001b[0;34m(\u001b[0m\u001b[0;32mlambda\u001b[0m \u001b[0mx\u001b[0m\u001b[0;34m:\u001b[0m \u001b[0mremove_punct\u001b[0m\u001b[0;34m(\u001b[0m\u001b[0mx\u001b[0m\u001b[0;34m)\u001b[0m\u001b[0;34m)\u001b[0m\u001b[0;34m\u001b[0m\u001b[0;34m\u001b[0m\u001b[0m\n\u001b[1;32m      5\u001b[0m     \u001b[0mdataframe\u001b[0m\u001b[0;34m[\u001b[0m\u001b[0;34m'Post_clean'\u001b[0m\u001b[0;34m]\u001b[0m \u001b[0;34m=\u001b[0m \u001b[0mdataframe\u001b[0m\u001b[0;34m[\u001b[0m\u001b[0;34m'Post_clean'\u001b[0m\u001b[0;34m]\u001b[0m\u001b[0;34m.\u001b[0m\u001b[0mmap\u001b[0m\u001b[0;34m(\u001b[0m\u001b[0;32mlambda\u001b[0m \u001b[0mx\u001b[0m\u001b[0;34m:\u001b[0m \u001b[0mx\u001b[0m\u001b[0;34m.\u001b[0m\u001b[0msplit\u001b[0m\u001b[0;34m(\u001b[0m\u001b[0;34m' '\u001b[0m\u001b[0;34m)\u001b[0m\u001b[0;34m)\u001b[0m\u001b[0;34m\u001b[0m\u001b[0;34m\u001b[0m\u001b[0m\n",
            "\u001b[0;31mAttributeError\u001b[0m: 'float' object has no attribute 'lower'"
          ]
        }
      ]
    },
    {
      "cell_type": "code",
      "source": [
        "text=df['Post_clean'] #берем столбец с текстом\n",
        "norm_text=[]\n",
        "# 1 - только буквы\n",
        "# 2 - перевод в нижний регистр\n",
        "# 3 - привести все слова в единую форму\n",
        "morph=pymorphy2.MorphAnalyzer()\n",
        "for s in tqdm(text):\n",
        "    s1 = re.sub(r'[^\\w\\s]+|[\\d]+', r'',s).strip()\n",
        "    s1 = s1.lower()\n",
        "    s1 = word_tokenize(s1) #токенизация\n",
        "    words=[]\n",
        "    for i in s1:\n",
        "        pv = morph.parse(i)\n",
        "        words.append(pv[0].normal_form)\n",
        "    sentence=' '.join(words)\n",
        "    norm_text.append(sentence)"
      ],
      "metadata": {
        "colab": {
          "base_uri": "https://localhost:8080/",
          "height": 477
        },
        "id": "oHhJrrXFmGyT",
        "outputId": "31b11f21-0573-43db-b9cf-1c579e0964e5"
      },
      "execution_count": 66,
      "outputs": [
        {
          "output_type": "error",
          "ename": "KeyError",
          "evalue": "'Post_clean'",
          "traceback": [
            "\u001b[0;31m---------------------------------------------------------------------------\u001b[0m",
            "\u001b[0;31mKeyError\u001b[0m                                  Traceback (most recent call last)",
            "\u001b[0;32m/usr/local/lib/python3.10/dist-packages/pandas/core/indexes/base.py\u001b[0m in \u001b[0;36mget_loc\u001b[0;34m(self, key)\u001b[0m\n\u001b[1;32m   3652\u001b[0m         \u001b[0;32mtry\u001b[0m\u001b[0;34m:\u001b[0m\u001b[0;34m\u001b[0m\u001b[0;34m\u001b[0m\u001b[0m\n\u001b[0;32m-> 3653\u001b[0;31m             \u001b[0;32mreturn\u001b[0m \u001b[0mself\u001b[0m\u001b[0;34m.\u001b[0m\u001b[0m_engine\u001b[0m\u001b[0;34m.\u001b[0m\u001b[0mget_loc\u001b[0m\u001b[0;34m(\u001b[0m\u001b[0mcasted_key\u001b[0m\u001b[0;34m)\u001b[0m\u001b[0;34m\u001b[0m\u001b[0;34m\u001b[0m\u001b[0m\n\u001b[0m\u001b[1;32m   3654\u001b[0m         \u001b[0;32mexcept\u001b[0m \u001b[0mKeyError\u001b[0m \u001b[0;32mas\u001b[0m \u001b[0merr\u001b[0m\u001b[0;34m:\u001b[0m\u001b[0;34m\u001b[0m\u001b[0;34m\u001b[0m\u001b[0m\n",
            "\u001b[0;32m/usr/local/lib/python3.10/dist-packages/pandas/_libs/index.pyx\u001b[0m in \u001b[0;36mpandas._libs.index.IndexEngine.get_loc\u001b[0;34m()\u001b[0m\n",
            "\u001b[0;32m/usr/local/lib/python3.10/dist-packages/pandas/_libs/index.pyx\u001b[0m in \u001b[0;36mpandas._libs.index.IndexEngine.get_loc\u001b[0;34m()\u001b[0m\n",
            "\u001b[0;32mpandas/_libs/hashtable_class_helper.pxi\u001b[0m in \u001b[0;36mpandas._libs.hashtable.PyObjectHashTable.get_item\u001b[0;34m()\u001b[0m\n",
            "\u001b[0;32mpandas/_libs/hashtable_class_helper.pxi\u001b[0m in \u001b[0;36mpandas._libs.hashtable.PyObjectHashTable.get_item\u001b[0;34m()\u001b[0m\n",
            "\u001b[0;31mKeyError\u001b[0m: 'Post_clean'",
            "\nThe above exception was the direct cause of the following exception:\n",
            "\u001b[0;31mKeyError\u001b[0m                                  Traceback (most recent call last)",
            "\u001b[0;32m<ipython-input-66-209dfcc67485>\u001b[0m in \u001b[0;36m<cell line: 1>\u001b[0;34m()\u001b[0m\n\u001b[0;32m----> 1\u001b[0;31m \u001b[0mtext\u001b[0m\u001b[0;34m=\u001b[0m\u001b[0mdf\u001b[0m\u001b[0;34m[\u001b[0m\u001b[0;34m'Post_clean'\u001b[0m\u001b[0;34m]\u001b[0m \u001b[0;31m#берем столбец с текстом\u001b[0m\u001b[0;34m\u001b[0m\u001b[0;34m\u001b[0m\u001b[0m\n\u001b[0m\u001b[1;32m      2\u001b[0m \u001b[0mnorm_text\u001b[0m\u001b[0;34m=\u001b[0m\u001b[0;34m[\u001b[0m\u001b[0;34m]\u001b[0m\u001b[0;34m\u001b[0m\u001b[0;34m\u001b[0m\u001b[0m\n\u001b[1;32m      3\u001b[0m \u001b[0;31m# 1 - только буквы\u001b[0m\u001b[0;34m\u001b[0m\u001b[0;34m\u001b[0m\u001b[0m\n\u001b[1;32m      4\u001b[0m \u001b[0;31m# 2 - перевод в нижний регистр\u001b[0m\u001b[0;34m\u001b[0m\u001b[0;34m\u001b[0m\u001b[0m\n\u001b[1;32m      5\u001b[0m \u001b[0;31m# 3 - привести все слова в единую форму\u001b[0m\u001b[0;34m\u001b[0m\u001b[0;34m\u001b[0m\u001b[0m\n",
            "\u001b[0;32m/usr/local/lib/python3.10/dist-packages/pandas/core/frame.py\u001b[0m in \u001b[0;36m__getitem__\u001b[0;34m(self, key)\u001b[0m\n\u001b[1;32m   3759\u001b[0m             \u001b[0;32mif\u001b[0m \u001b[0mself\u001b[0m\u001b[0;34m.\u001b[0m\u001b[0mcolumns\u001b[0m\u001b[0;34m.\u001b[0m\u001b[0mnlevels\u001b[0m \u001b[0;34m>\u001b[0m \u001b[0;36m1\u001b[0m\u001b[0;34m:\u001b[0m\u001b[0;34m\u001b[0m\u001b[0;34m\u001b[0m\u001b[0m\n\u001b[1;32m   3760\u001b[0m                 \u001b[0;32mreturn\u001b[0m \u001b[0mself\u001b[0m\u001b[0;34m.\u001b[0m\u001b[0m_getitem_multilevel\u001b[0m\u001b[0;34m(\u001b[0m\u001b[0mkey\u001b[0m\u001b[0;34m)\u001b[0m\u001b[0;34m\u001b[0m\u001b[0;34m\u001b[0m\u001b[0m\n\u001b[0;32m-> 3761\u001b[0;31m             \u001b[0mindexer\u001b[0m \u001b[0;34m=\u001b[0m \u001b[0mself\u001b[0m\u001b[0;34m.\u001b[0m\u001b[0mcolumns\u001b[0m\u001b[0;34m.\u001b[0m\u001b[0mget_loc\u001b[0m\u001b[0;34m(\u001b[0m\u001b[0mkey\u001b[0m\u001b[0;34m)\u001b[0m\u001b[0;34m\u001b[0m\u001b[0;34m\u001b[0m\u001b[0m\n\u001b[0m\u001b[1;32m   3762\u001b[0m             \u001b[0;32mif\u001b[0m \u001b[0mis_integer\u001b[0m\u001b[0;34m(\u001b[0m\u001b[0mindexer\u001b[0m\u001b[0;34m)\u001b[0m\u001b[0;34m:\u001b[0m\u001b[0;34m\u001b[0m\u001b[0;34m\u001b[0m\u001b[0m\n\u001b[1;32m   3763\u001b[0m                 \u001b[0mindexer\u001b[0m \u001b[0;34m=\u001b[0m \u001b[0;34m[\u001b[0m\u001b[0mindexer\u001b[0m\u001b[0;34m]\u001b[0m\u001b[0;34m\u001b[0m\u001b[0;34m\u001b[0m\u001b[0m\n",
            "\u001b[0;32m/usr/local/lib/python3.10/dist-packages/pandas/core/indexes/base.py\u001b[0m in \u001b[0;36mget_loc\u001b[0;34m(self, key)\u001b[0m\n\u001b[1;32m   3653\u001b[0m             \u001b[0;32mreturn\u001b[0m \u001b[0mself\u001b[0m\u001b[0;34m.\u001b[0m\u001b[0m_engine\u001b[0m\u001b[0;34m.\u001b[0m\u001b[0mget_loc\u001b[0m\u001b[0;34m(\u001b[0m\u001b[0mcasted_key\u001b[0m\u001b[0;34m)\u001b[0m\u001b[0;34m\u001b[0m\u001b[0;34m\u001b[0m\u001b[0m\n\u001b[1;32m   3654\u001b[0m         \u001b[0;32mexcept\u001b[0m \u001b[0mKeyError\u001b[0m \u001b[0;32mas\u001b[0m \u001b[0merr\u001b[0m\u001b[0;34m:\u001b[0m\u001b[0;34m\u001b[0m\u001b[0;34m\u001b[0m\u001b[0m\n\u001b[0;32m-> 3655\u001b[0;31m             \u001b[0;32mraise\u001b[0m \u001b[0mKeyError\u001b[0m\u001b[0;34m(\u001b[0m\u001b[0mkey\u001b[0m\u001b[0;34m)\u001b[0m \u001b[0;32mfrom\u001b[0m \u001b[0merr\u001b[0m\u001b[0;34m\u001b[0m\u001b[0;34m\u001b[0m\u001b[0m\n\u001b[0m\u001b[1;32m   3656\u001b[0m         \u001b[0;32mexcept\u001b[0m \u001b[0mTypeError\u001b[0m\u001b[0;34m:\u001b[0m\u001b[0;34m\u001b[0m\u001b[0;34m\u001b[0m\u001b[0m\n\u001b[1;32m   3657\u001b[0m             \u001b[0;31m# If we have a listlike key, _check_indexing_error will raise\u001b[0m\u001b[0;34m\u001b[0m\u001b[0;34m\u001b[0m\u001b[0m\n",
            "\u001b[0;31mKeyError\u001b[0m: 'Post_clean'"
          ]
        }
      ]
    },
    {
      "cell_type": "code",
      "source": [
        "df['title'] = df.apply(lambda row: str(row['title']) + ' ' + str(row['genre']), axis=1)"
      ],
      "metadata": {
        "id": "DrKuREJjNGqj"
      },
      "execution_count": null,
      "outputs": []
    },
    {
      "cell_type": "code",
      "source": [
        "work_df = df[[\"title\",\"genre\",\"imdb_rating\",\"plot\"]]"
      ],
      "metadata": {
        "id": "0itT2J8aNKjK"
      },
      "execution_count": null,
      "outputs": []
    },
    {
      "cell_type": "code",
      "source": [
        "work_df = work_df.sample(n=1000)\n",
        "work_df.reset_index(drop=True, inplace=True)"
      ],
      "metadata": {
        "id": "9wa_S5NzNNO6"
      },
      "execution_count": null,
      "outputs": []
    },
    {
      "cell_type": "code",
      "source": [
        "import re\n",
        "\n",
        "def remove_special_characters_and_numbers(text):\n",
        "    pattern = re.compile(r'[^А-Яа-я\\s]')\n",
        "    return re.sub(pattern, '', text)\n",
        "\n",
        "# Применяем функцию к столбцу 'plot' в DataFrame\n",
        "work_df['norm_plot'] = work_df['plot'].apply(lambda x: remove_special_characters_and_numbers(str(x)))"
      ],
      "metadata": {
        "id": "sW_APceDNP0a"
      },
      "execution_count": null,
      "outputs": []
    },
    {
      "cell_type": "code",
      "source": [
        "import matplotlib.pyplot as plt\n",
        "from wordcloud import WordCloud"
      ],
      "metadata": {
        "id": "v3YKk62nNVHa"
      },
      "execution_count": null,
      "outputs": []
    },
    {
      "cell_type": "code",
      "source": [
        "work_df[\"norm_text\"] = norm_text"
      ],
      "metadata": {
        "id": "DFZGqQAQNXfr"
      },
      "execution_count": null,
      "outputs": []
    },
    {
      "cell_type": "code",
      "source": [
        "work_df"
      ],
      "metadata": {
        "id": "8xYMDWaKNaHi"
      },
      "execution_count": null,
      "outputs": []
    },
    {
      "cell_type": "code",
      "source": [
        "cat23 = work_df['norm_text'].values\n",
        "cat23 = ' '.join(cat23)\n",
        "cat23"
      ],
      "metadata": {
        "id": "tBhQIEyANcC6"
      },
      "execution_count": null,
      "outputs": []
    },
    {
      "cell_type": "code",
      "source": [
        "fig = plt.figure()\n",
        "fig.patch.set_facecolor('white')\n",
        "plt.subplots_adjust(wspace=0.3, hspace=0.2)\n",
        "\n",
        "wordcloud = WordCloud(colormap='Accent', background_color='white', contour_width=10).generate(cat23)\n",
        "\n",
        "# Save the word cloud as an image file\n",
        "wordcloud.to_file(\"wordcloud.png\")\n",
        "\n",
        "# Load the saved image file\n",
        "wordcloud_img = plt.imread(\"wordcloud.png\")\n",
        "\n",
        "# Display the word cloud image\n",
        "plt.imshow(wordcloud_img)\n",
        "plt.axis(\"off\")\n",
        "plt.title('WordCloud', fontdict={'fontsize': 7, 'color': 'grey'}, y=0.93)\n",
        "plt.show()\n"
      ],
      "metadata": {
        "id": "YHHmcdqINeyr"
      },
      "execution_count": null,
      "outputs": []
    },
    {
      "cell_type": "code",
      "source": [
        "test_text = work_df[work_df[\"genre\"]==\"криминальная драма\"]['norm_text'].values\n",
        "test_text = ' '.join(test_text)\n",
        "test_text"
      ],
      "metadata": {
        "id": "VuId5vG6Nniz"
      },
      "execution_count": null,
      "outputs": []
    },
    {
      "cell_type": "code",
      "source": [
        "test_text = re.sub(r'\\b\\w{1,4}\\b', '', test_text)"
      ],
      "metadata": {
        "id": "SNWRXUN6Ntj7"
      },
      "execution_count": null,
      "outputs": []
    },
    {
      "cell_type": "code",
      "source": [
        "fig = plt.figure()\n",
        "fig.patch.set_facecolor('white')\n",
        "plt.subplots_adjust(wspace=0.3, hspace=0.2)\n",
        "\n",
        "wordcloud = WordCloud(colormap='Accent', background_color='white', contour_width=10).generate(test_text)\n",
        "plt.tick_params(labelsize=10)\n",
        "plt.imshow(wordcloud)\n",
        "plt.axis(\"off\")\n",
        "plt.title('WordCloud',fontdict={'fontsize':7,'color':'grey'},y=0.93)\n",
        "plt.tick_params(labelsize=10)"
      ],
      "metadata": {
        "id": "eJ5meZpFN5tg"
      },
      "execution_count": null,
      "outputs": []
    },
    {
      "cell_type": "code",
      "source": [
        "# Подключаем синтаксической анализатор и его части.\n",
        "import ufal.udpipe\n",
        "from ufal.udpipe import Model, Pipeline, ProcessingError\n",
        "\n",
        "# Для отрисовки деревьев нам потребуются вот эти библиотеки.\n",
        "\n",
        "from collections import defaultdict\n",
        "from tqdm.auto import tqdm\n",
        "import random"
      ],
      "metadata": {
        "id": "CDFlDPDgN8sr"
      },
      "execution_count": null,
      "outputs": []
    },
    {
      "cell_type": "code",
      "source": [
        "#загружаем модель\n",
        "model = Model.load(\"russian-syntagrus-ud-2.5-191206.udpipe\")"
      ],
      "metadata": {
        "id": "7ORYmOM3OAQk"
      },
      "execution_count": null,
      "outputs": []
    },
    {
      "cell_type": "code",
      "source": [
        "# Токенизатор со снятием омонимии.\n",
        "tokenizer = model.newTokenizer(model.DEFAULT)\n",
        "# Объект для отображения результатов разбора.\n",
        "conlluOutput = ufal.udpipe.OutputFormat.newOutputFormat(\"conllu\")\n",
        "# Объект предложения, в которое будет осуществляться разбор.\n",
        "sentence = ufal.udpipe.Sentence()\n",
        "# Объект для ошибок, возникающих в ходе разбора.\n",
        "error = ufal.udpipe.ProcessingError()"
      ],
      "metadata": {
        "id": "nmo9udXqODcz"
      },
      "execution_count": null,
      "outputs": []
    },
    {
      "cell_type": "code",
      "source": [
        "work_df"
      ],
      "metadata": {
        "id": "3VBZrtbGOHxb"
      },
      "execution_count": null,
      "outputs": []
    },
    {
      "cell_type": "code",
      "source": [
        "work_df[\"plot\"][0]"
      ],
      "metadata": {
        "id": "kO6kA0u8OMPF"
      },
      "execution_count": null,
      "outputs": []
    },
    {
      "cell_type": "code",
      "source": [
        "tokenizer.setText(work_df['plot'][0])"
      ],
      "metadata": {
        "id": "MW81E6v0OQoL"
      },
      "execution_count": null,
      "outputs": []
    },
    {
      "cell_type": "code",
      "source": [
        "tokenizer.nextSentence(sentence, error)\n",
        "model.tag(sentence, model.DEFAULT)\n",
        "model.parse(sentence, model.DEFAULT)\n",
        "print(conlluOutput.writeSentence(sentence))"
      ],
      "metadata": {
        "id": "M4_cjc9rOS_z"
      },
      "execution_count": null,
      "outputs": []
    },
    {
      "cell_type": "code",
      "source": [
        "df_sentence = pd.DataFrame(columns=['head','lemma','form','upostag','feats','deprel','misc'])"
      ],
      "metadata": {
        "id": "uitjnYPEOU2b"
      },
      "execution_count": null,
      "outputs": []
    },
    {
      "cell_type": "code",
      "source": [
        "for i, word in enumerate(sentence.words):\n",
        "  df_sentence.loc[len(df_sentence)] = [word.head, word.lemma, word.form, word.upostag, word.feats, word.deprel, word.misc]\n",
        "    #print(i, \"->\", word.head, word.lemma, \"[\", word.form, \"]\", word.upostag, word.feats, word.deprel, word.misc)"
      ],
      "metadata": {
        "id": "jMUnrNIYOY7r"
      },
      "execution_count": null,
      "outputs": []
    },
    {
      "cell_type": "code",
      "source": [
        "df_sentence"
      ],
      "metadata": {
        "id": "TFN6MOYsOb0k"
      },
      "execution_count": null,
      "outputs": []
    },
    {
      "cell_type": "code",
      "source": [
        "def find_child_Ng(sentence, parent):\n",
        "    \"\"\" Функция поиска всех потомков вершины с номером parent, являющихся\n",
        "    существительными в родительном падеже.\n",
        "    \"\"\"\n",
        "    children = []\n",
        "    for i, word in enumerate(sentence.words):\n",
        "        if word.head == parent and word.upostag == \"NOUN\":\n",
        "            children.append(i)\n",
        "    return children\n",
        "\n",
        "def find_NNg(sentence, combinations):\n",
        "    \"\"\" Функция поиска сочетаний \"существительное + существительное в родительном падеже\".\n",
        "    \"\"\"\n",
        "    for i, word in enumerate(sentence.words):\n",
        "        if word.upostag == \"VERB\":\n",
        "            children = find_child_Ng(sentence, i)\n",
        "            if children != []:\n",
        "                #print(word.lemma, [sentence.words[k].form for k in children])\n",
        "                for child in children:\n",
        "                    combinations[word.lemma][sentence.words[child].form] += 1"
      ],
      "metadata": {
        "id": "Wu_kapK-Ol1k"
      },
      "execution_count": null,
      "outputs": []
    },
    {
      "cell_type": "code",
      "source": [
        "combinations = defaultdict(lambda:defaultdict(int))\n",
        "\n",
        "for text in tqdm(work_df['plot']):\n",
        "    tokenizer.setText(str(text)) # Установить текст.\n",
        "    while tokenizer.nextSentence(sentence, error): # Полчаем следующее предложение.\n",
        "        model.tag(sentence, model.DEFAULT) # Токенизация.\n",
        "        model.parse(sentence, model.DEFAULT) # Синтаксический анализ.\n",
        "        find_NNg(sentence, combinations) # Поиск сочетаний.\n",
        "  0%|          | 0/1000 [00:00<?, ?it/s]"
      ],
      "metadata": {
        "id": "tYSpDas1OnBM"
      },
      "execution_count": null,
      "outputs": []
    },
    {
      "cell_type": "code",
      "source": [
        "df_nn=pd.DataFrame(columns=['parent','children','freq'])\n",
        "for parent, childs in combinations.items():\n",
        "    for child, freq in childs.items():\n",
        "        if freq > 5:\n",
        "            df_nn.loc[len(df_nn)] = [parent, child,freq]"
      ],
      "metadata": {
        "id": "OGe5jEOfOp6s"
      },
      "execution_count": null,
      "outputs": []
    },
    {
      "cell_type": "code",
      "source": [
        "df_nn.sort_values(by='freq',ascending=False).head(20)"
      ],
      "metadata": {
        "id": "MhKAsUWOOuZT"
      },
      "execution_count": null,
      "outputs": []
    },
    {
      "cell_type": "code",
      "source": [
        "russian_stopwords = stopwords.words(\"russian\")\n",
        "vectorizer_tfidf = TfidfVectorizer(max_features=500, min_df=20, max_df=0.7, stop_words=russian_stopwords)\n",
        "text_tfidf = vectorizer_tfidf.fit_transform(norm_text)\n",
        "text_tfidf = pd.DataFrame(text_tfidf.toarray(),columns=vectorizer_tfidf.get_feature_names_out())\n",
        "text_tfidf.head()"
      ],
      "metadata": {
        "id": "0klXI7UqO0E8"
      },
      "execution_count": null,
      "outputs": []
    },
    {
      "cell_type": "code",
      "source": [
        "!pip install umap-learn\n",
        "\n",
        "#понижение размерности\n",
        "from sklearn.decomposition import PCA\n",
        "from sklearn.manifold import TSNE"
      ],
      "metadata": {
        "id": "FfieaHifO0zV"
      },
      "execution_count": null,
      "outputs": []
    },
    {
      "cell_type": "code",
      "source": [
        "def show_fig(new_shape):\n",
        "\n",
        "    fig = go.Figure(go.Scatter3d(x=new_shape[:, 0],\n",
        "                        y=new_shape[:, 1],\n",
        "                        z=new_shape[:, 2],\n",
        "                        marker=dict(opacity=0.9,\n",
        "                                    reversescale=True,\n",
        "                                    colorscale='Blues',\n",
        "                                    size=5),\n",
        "                        line=dict (width=0.02),\n",
        "                        mode='markers',\n",
        "                                 text=work_df['title']))\n",
        "    fig.update_layout(\n",
        "        scene = dict(\n",
        "            xaxis = dict(nticks=4),\n",
        "                         yaxis = dict(nticks=4),\n",
        "                         zaxis = dict(nticks=4),),\n",
        "        width=700,\n",
        "        margin=dict(r=20, l=10, b=10, t=10))\n",
        "    fig.show()"
      ],
      "metadata": {
        "id": "PbqAlQyuO40l"
      },
      "execution_count": null,
      "outputs": []
    },
    {
      "cell_type": "code",
      "source": [
        "pca=PCA(n_components=3)\n",
        "reduced_pca = pca.fit_transform(text_tfidf)\n",
        "show_fig(reduced_pca)"
      ],
      "metadata": {
        "id": "5SkYIHiLO9Mr"
      },
      "execution_count": null,
      "outputs": []
    },
    {
      "cell_type": "code",
      "source": [
        "tsne=TSNE(n_components=3)\n",
        "reduced_tsne = tsne.fit_transform(text_tfidf)\n",
        "show_fig(reduced_tsne)"
      ],
      "metadata": {
        "id": "lJUWVU52PAiL"
      },
      "execution_count": null,
      "outputs": []
    },
    {
      "cell_type": "code",
      "source": [
        "import umap\n",
        "umap_emb = umap.UMAP(n_components=3)\n",
        "reduced_umap = umap_emb.fit_transform(text_tfidf)\n",
        "show_fig(reduced_umap)"
      ],
      "metadata": {
        "id": "2PMpAYklPCNb"
      },
      "execution_count": null,
      "outputs": []
    },
    {
      "cell_type": "code",
      "source": [
        "from sklearn.decomposition import LatentDirichletAllocation\n",
        "LDA = LatentDirichletAllocation(n_components=5, random_state=42)\n",
        "LDA.fit(text_tfidf)\n",
        "for i,topic in enumerate(LDA.components_):\n",
        "    print(f'5 слов для темы #{i}:')\n",
        "    print([vectorizer_tfidf.get_feature_names_out()[i] for i in topic.argsort()[-10:]])\n",
        "    print('\\n')"
      ],
      "metadata": {
        "id": "tpQGY-pUPElL"
      },
      "execution_count": null,
      "outputs": []
    },
    {
      "cell_type": "code",
      "source": [
        "text_clean= []\n",
        "for row in norm_text:\n",
        "        text_clean.append(row.split())\n",
        "\n",
        "from gensim.models import Phrases\n",
        "bigram = Phrases(text_clean)\n",
        "trigram = Phrases(bigram[text_clean])\n",
        "\n",
        "for idx in range(len(text_clean)):\n",
        "    for token in bigram[text_clean[idx]]:\n",
        "        if '_' in token:\n",
        "\n",
        "            text_clean[idx].append(token)\n",
        "    for token in trigram[text_clean[idx]]:\n",
        "        if '_' in token:\n",
        "          text_clean[idx].append(token)"
      ],
      "metadata": {
        "id": "5NLyTsxmPI0c"
      },
      "execution_count": null,
      "outputs": []
    },
    {
      "cell_type": "code",
      "source": [
        "from gensim.corpora.dictionary import Dictionary\n",
        "from numpy import array\n",
        "dictionary = Dictionary(text_clean)\n",
        "dictionary.filter_extremes(no_below=10, no_above=0.1)\n",
        "corpus = [dictionary.doc2bow(doc) for doc in text_clean]\n",
        "print('Количество уникальных токенов: %d' % len(dictionary))\n",
        "print('Количество документов: %d' % len(corpus))"
      ],
      "metadata": {
        "id": "Av5JOmW1PLP8"
      },
      "execution_count": null,
      "outputs": []
    },
    {
      "cell_type": "code",
      "source": [
        "from gensim.models.ldamulticore import LdaMulticore\n",
        "model=LdaMulticore(corpus=corpus,id2word=dictionary, num_topics=2)\n",
        "model.show_topics()"
      ],
      "metadata": {
        "id": "otGIkkpiPOKb"
      },
      "execution_count": null,
      "outputs": []
    },
    {
      "cell_type": "code",
      "source": [
        "import pyLDAvis\n",
        "import pyLDAvis.gensim_models as gensimvis\n",
        "import gensim\n",
        "pyLDAvis.enable_notebook()\n",
        "data = gensimvis.prepare(model, corpus, dictionary)\n",
        "pyLDAvis.display(data)"
      ],
      "metadata": {
        "id": "HzWAvo-jPRQs"
      },
      "execution_count": null,
      "outputs": []
    }
  ]
}