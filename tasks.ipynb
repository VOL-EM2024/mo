{
  "nbformat": 4,
  "nbformat_minor": 0,
  "metadata": {
    "colab": {
      "provenance": [],
      "include_colab_link": true
    },
    "kernelspec": {
      "name": "python3",
      "display_name": "Python 3"
    },
    "language_info": {
      "name": "python"
    }
  },
  "cells": [
    {
      "cell_type": "markdown",
      "metadata": {
        "id": "view-in-github",
        "colab_type": "text"
      },
      "source": [
        "<a href=\"https://colab.research.google.com/github/VOL-EM2024/mo/blob/main/tasks.ipynb\" target=\"_parent\"><img src=\"https://colab.research.google.com/assets/colab-badge.svg\" alt=\"Open In Colab\"/></a>"
      ]
    },
    {
      "cell_type": "markdown",
      "source": [
        "## Набор данных"
      ],
      "metadata": {
        "id": "AI4f_zuYkrDX"
      }
    },
    {
      "cell_type": "code",
      "source": [
        "import pandas as pd\n",
        "from sklearn.preprocessing import OneHotEncoder\n",
        "import statsmodels.api as sm\n",
        "from statsmodels.tools import add_constant\n",
        "from sklearn.linear_model import LogisticRegression\n",
        "from sklearn.model_selection import cross_validate\n",
        "from sklearn.model_selection import train_test_split\n",
        "from sklearn.preprocessing import StandardScaler\n",
        "from sklearn.preprocessing import MinMaxScaler"
      ],
      "metadata": {
        "id": "tMeW13RDkwYj"
      },
      "execution_count": 40,
      "outputs": []
    },
    {
      "cell_type": "code",
      "execution_count": 41,
      "metadata": {
        "colab": {
          "base_uri": "https://localhost:8080/",
          "height": 206
        },
        "id": "km5xfTODkoAu",
        "outputId": "cfec2d47-e2da-4023-adf2-f7ec885b5a09"
      },
      "outputs": [
        {
          "output_type": "execute_result",
          "data": {
            "text/plain": [
              "       Size    Weight  Sweetness  Crunchiness  Juiciness  Ripeness   Acidity  \\\n",
              "0 -2.055776 -3.355323   3.554302     0.904297   2.368481  0.393884 -0.083338   \n",
              "1  0.322861 -5.367711   3.757703     1.314357   1.851937  1.386120 -2.202142   \n",
              "2  0.775450 -1.211851  -3.905037     1.223717   1.621898  3.552186 -1.151269   \n",
              "3 -1.699521 -1.512800  -0.802359     2.709897   3.056421 -4.136872 -0.721606   \n",
              "4  1.356587  0.447687  -1.530451     0.037369  -1.506976  2.684936 -3.532915   \n",
              "\n",
              "  Quality  \n",
              "0    good  \n",
              "1    good  \n",
              "2     bad  \n",
              "3    good  \n",
              "4    good  "
            ],
            "text/html": [
              "\n",
              "  <div id=\"df-a82ec27d-62ff-4175-a353-19c69d72b867\" class=\"colab-df-container\">\n",
              "    <div>\n",
              "<style scoped>\n",
              "    .dataframe tbody tr th:only-of-type {\n",
              "        vertical-align: middle;\n",
              "    }\n",
              "\n",
              "    .dataframe tbody tr th {\n",
              "        vertical-align: top;\n",
              "    }\n",
              "\n",
              "    .dataframe thead th {\n",
              "        text-align: right;\n",
              "    }\n",
              "</style>\n",
              "<table border=\"1\" class=\"dataframe\">\n",
              "  <thead>\n",
              "    <tr style=\"text-align: right;\">\n",
              "      <th></th>\n",
              "      <th>Size</th>\n",
              "      <th>Weight</th>\n",
              "      <th>Sweetness</th>\n",
              "      <th>Crunchiness</th>\n",
              "      <th>Juiciness</th>\n",
              "      <th>Ripeness</th>\n",
              "      <th>Acidity</th>\n",
              "      <th>Quality</th>\n",
              "    </tr>\n",
              "  </thead>\n",
              "  <tbody>\n",
              "    <tr>\n",
              "      <th>0</th>\n",
              "      <td>-2.055776</td>\n",
              "      <td>-3.355323</td>\n",
              "      <td>3.554302</td>\n",
              "      <td>0.904297</td>\n",
              "      <td>2.368481</td>\n",
              "      <td>0.393884</td>\n",
              "      <td>-0.083338</td>\n",
              "      <td>good</td>\n",
              "    </tr>\n",
              "    <tr>\n",
              "      <th>1</th>\n",
              "      <td>0.322861</td>\n",
              "      <td>-5.367711</td>\n",
              "      <td>3.757703</td>\n",
              "      <td>1.314357</td>\n",
              "      <td>1.851937</td>\n",
              "      <td>1.386120</td>\n",
              "      <td>-2.202142</td>\n",
              "      <td>good</td>\n",
              "    </tr>\n",
              "    <tr>\n",
              "      <th>2</th>\n",
              "      <td>0.775450</td>\n",
              "      <td>-1.211851</td>\n",
              "      <td>-3.905037</td>\n",
              "      <td>1.223717</td>\n",
              "      <td>1.621898</td>\n",
              "      <td>3.552186</td>\n",
              "      <td>-1.151269</td>\n",
              "      <td>bad</td>\n",
              "    </tr>\n",
              "    <tr>\n",
              "      <th>3</th>\n",
              "      <td>-1.699521</td>\n",
              "      <td>-1.512800</td>\n",
              "      <td>-0.802359</td>\n",
              "      <td>2.709897</td>\n",
              "      <td>3.056421</td>\n",
              "      <td>-4.136872</td>\n",
              "      <td>-0.721606</td>\n",
              "      <td>good</td>\n",
              "    </tr>\n",
              "    <tr>\n",
              "      <th>4</th>\n",
              "      <td>1.356587</td>\n",
              "      <td>0.447687</td>\n",
              "      <td>-1.530451</td>\n",
              "      <td>0.037369</td>\n",
              "      <td>-1.506976</td>\n",
              "      <td>2.684936</td>\n",
              "      <td>-3.532915</td>\n",
              "      <td>good</td>\n",
              "    </tr>\n",
              "  </tbody>\n",
              "</table>\n",
              "</div>\n",
              "    <div class=\"colab-df-buttons\">\n",
              "\n",
              "  <div class=\"colab-df-container\">\n",
              "    <button class=\"colab-df-convert\" onclick=\"convertToInteractive('df-a82ec27d-62ff-4175-a353-19c69d72b867')\"\n",
              "            title=\"Convert this dataframe to an interactive table.\"\n",
              "            style=\"display:none;\">\n",
              "\n",
              "  <svg xmlns=\"http://www.w3.org/2000/svg\" height=\"24px\" viewBox=\"0 -960 960 960\">\n",
              "    <path d=\"M120-120v-720h720v720H120Zm60-500h600v-160H180v160Zm220 220h160v-160H400v160Zm0 220h160v-160H400v160ZM180-400h160v-160H180v160Zm440 0h160v-160H620v160ZM180-180h160v-160H180v160Zm440 0h160v-160H620v160Z\"/>\n",
              "  </svg>\n",
              "    </button>\n",
              "\n",
              "  <style>\n",
              "    .colab-df-container {\n",
              "      display:flex;\n",
              "      gap: 12px;\n",
              "    }\n",
              "\n",
              "    .colab-df-convert {\n",
              "      background-color: #E8F0FE;\n",
              "      border: none;\n",
              "      border-radius: 50%;\n",
              "      cursor: pointer;\n",
              "      display: none;\n",
              "      fill: #1967D2;\n",
              "      height: 32px;\n",
              "      padding: 0 0 0 0;\n",
              "      width: 32px;\n",
              "    }\n",
              "\n",
              "    .colab-df-convert:hover {\n",
              "      background-color: #E2EBFA;\n",
              "      box-shadow: 0px 1px 2px rgba(60, 64, 67, 0.3), 0px 1px 3px 1px rgba(60, 64, 67, 0.15);\n",
              "      fill: #174EA6;\n",
              "    }\n",
              "\n",
              "    .colab-df-buttons div {\n",
              "      margin-bottom: 4px;\n",
              "    }\n",
              "\n",
              "    [theme=dark] .colab-df-convert {\n",
              "      background-color: #3B4455;\n",
              "      fill: #D2E3FC;\n",
              "    }\n",
              "\n",
              "    [theme=dark] .colab-df-convert:hover {\n",
              "      background-color: #434B5C;\n",
              "      box-shadow: 0px 1px 3px 1px rgba(0, 0, 0, 0.15);\n",
              "      filter: drop-shadow(0px 1px 2px rgba(0, 0, 0, 0.3));\n",
              "      fill: #FFFFFF;\n",
              "    }\n",
              "  </style>\n",
              "\n",
              "    <script>\n",
              "      const buttonEl =\n",
              "        document.querySelector('#df-a82ec27d-62ff-4175-a353-19c69d72b867 button.colab-df-convert');\n",
              "      buttonEl.style.display =\n",
              "        google.colab.kernel.accessAllowed ? 'block' : 'none';\n",
              "\n",
              "      async function convertToInteractive(key) {\n",
              "        const element = document.querySelector('#df-a82ec27d-62ff-4175-a353-19c69d72b867');\n",
              "        const dataTable =\n",
              "          await google.colab.kernel.invokeFunction('convertToInteractive',\n",
              "                                                    [key], {});\n",
              "        if (!dataTable) return;\n",
              "\n",
              "        const docLinkHtml = 'Like what you see? Visit the ' +\n",
              "          '<a target=\"_blank\" href=https://colab.research.google.com/notebooks/data_table.ipynb>data table notebook</a>'\n",
              "          + ' to learn more about interactive tables.';\n",
              "        element.innerHTML = '';\n",
              "        dataTable['output_type'] = 'display_data';\n",
              "        await google.colab.output.renderOutput(dataTable, element);\n",
              "        const docLink = document.createElement('div');\n",
              "        docLink.innerHTML = docLinkHtml;\n",
              "        element.appendChild(docLink);\n",
              "      }\n",
              "    </script>\n",
              "  </div>\n",
              "\n",
              "\n",
              "<div id=\"df-62f95a50-00e2-4a7f-9e72-9b2d84123966\">\n",
              "  <button class=\"colab-df-quickchart\" onclick=\"quickchart('df-62f95a50-00e2-4a7f-9e72-9b2d84123966')\"\n",
              "            title=\"Suggest charts\"\n",
              "            style=\"display:none;\">\n",
              "\n",
              "<svg xmlns=\"http://www.w3.org/2000/svg\" height=\"24px\"viewBox=\"0 0 24 24\"\n",
              "     width=\"24px\">\n",
              "    <g>\n",
              "        <path d=\"M19 3H5c-1.1 0-2 .9-2 2v14c0 1.1.9 2 2 2h14c1.1 0 2-.9 2-2V5c0-1.1-.9-2-2-2zM9 17H7v-7h2v7zm4 0h-2V7h2v10zm4 0h-2v-4h2v4z\"/>\n",
              "    </g>\n",
              "</svg>\n",
              "  </button>\n",
              "\n",
              "<style>\n",
              "  .colab-df-quickchart {\n",
              "      --bg-color: #E8F0FE;\n",
              "      --fill-color: #1967D2;\n",
              "      --hover-bg-color: #E2EBFA;\n",
              "      --hover-fill-color: #174EA6;\n",
              "      --disabled-fill-color: #AAA;\n",
              "      --disabled-bg-color: #DDD;\n",
              "  }\n",
              "\n",
              "  [theme=dark] .colab-df-quickchart {\n",
              "      --bg-color: #3B4455;\n",
              "      --fill-color: #D2E3FC;\n",
              "      --hover-bg-color: #434B5C;\n",
              "      --hover-fill-color: #FFFFFF;\n",
              "      --disabled-bg-color: #3B4455;\n",
              "      --disabled-fill-color: #666;\n",
              "  }\n",
              "\n",
              "  .colab-df-quickchart {\n",
              "    background-color: var(--bg-color);\n",
              "    border: none;\n",
              "    border-radius: 50%;\n",
              "    cursor: pointer;\n",
              "    display: none;\n",
              "    fill: var(--fill-color);\n",
              "    height: 32px;\n",
              "    padding: 0;\n",
              "    width: 32px;\n",
              "  }\n",
              "\n",
              "  .colab-df-quickchart:hover {\n",
              "    background-color: var(--hover-bg-color);\n",
              "    box-shadow: 0 1px 2px rgba(60, 64, 67, 0.3), 0 1px 3px 1px rgba(60, 64, 67, 0.15);\n",
              "    fill: var(--button-hover-fill-color);\n",
              "  }\n",
              "\n",
              "  .colab-df-quickchart-complete:disabled,\n",
              "  .colab-df-quickchart-complete:disabled:hover {\n",
              "    background-color: var(--disabled-bg-color);\n",
              "    fill: var(--disabled-fill-color);\n",
              "    box-shadow: none;\n",
              "  }\n",
              "\n",
              "  .colab-df-spinner {\n",
              "    border: 2px solid var(--fill-color);\n",
              "    border-color: transparent;\n",
              "    border-bottom-color: var(--fill-color);\n",
              "    animation:\n",
              "      spin 1s steps(1) infinite;\n",
              "  }\n",
              "\n",
              "  @keyframes spin {\n",
              "    0% {\n",
              "      border-color: transparent;\n",
              "      border-bottom-color: var(--fill-color);\n",
              "      border-left-color: var(--fill-color);\n",
              "    }\n",
              "    20% {\n",
              "      border-color: transparent;\n",
              "      border-left-color: var(--fill-color);\n",
              "      border-top-color: var(--fill-color);\n",
              "    }\n",
              "    30% {\n",
              "      border-color: transparent;\n",
              "      border-left-color: var(--fill-color);\n",
              "      border-top-color: var(--fill-color);\n",
              "      border-right-color: var(--fill-color);\n",
              "    }\n",
              "    40% {\n",
              "      border-color: transparent;\n",
              "      border-right-color: var(--fill-color);\n",
              "      border-top-color: var(--fill-color);\n",
              "    }\n",
              "    60% {\n",
              "      border-color: transparent;\n",
              "      border-right-color: var(--fill-color);\n",
              "    }\n",
              "    80% {\n",
              "      border-color: transparent;\n",
              "      border-right-color: var(--fill-color);\n",
              "      border-bottom-color: var(--fill-color);\n",
              "    }\n",
              "    90% {\n",
              "      border-color: transparent;\n",
              "      border-bottom-color: var(--fill-color);\n",
              "    }\n",
              "  }\n",
              "</style>\n",
              "\n",
              "  <script>\n",
              "    async function quickchart(key) {\n",
              "      const quickchartButtonEl =\n",
              "        document.querySelector('#' + key + ' button');\n",
              "      quickchartButtonEl.disabled = true;  // To prevent multiple clicks.\n",
              "      quickchartButtonEl.classList.add('colab-df-spinner');\n",
              "      try {\n",
              "        const charts = await google.colab.kernel.invokeFunction(\n",
              "            'suggestCharts', [key], {});\n",
              "      } catch (error) {\n",
              "        console.error('Error during call to suggestCharts:', error);\n",
              "      }\n",
              "      quickchartButtonEl.classList.remove('colab-df-spinner');\n",
              "      quickchartButtonEl.classList.add('colab-df-quickchart-complete');\n",
              "    }\n",
              "    (() => {\n",
              "      let quickchartButtonEl =\n",
              "        document.querySelector('#df-62f95a50-00e2-4a7f-9e72-9b2d84123966 button');\n",
              "      quickchartButtonEl.style.display =\n",
              "        google.colab.kernel.accessAllowed ? 'block' : 'none';\n",
              "    })();\n",
              "  </script>\n",
              "</div>\n",
              "    </div>\n",
              "  </div>\n"
            ]
          },
          "metadata": {},
          "execution_count": 41
        }
      ],
      "source": [
        "#обучающая выборка\n",
        "df_train=pd.read_csv('/content/train.csv')\n",
        "df_train.head()"
      ]
    },
    {
      "cell_type": "markdown",
      "source": [
        "* Size: Размер фрукта\n",
        "* Weight: Масса фрукта\n",
        "* Sweetness: Степень сладости фрукта\n",
        "* Crunchiness: Текстура, указывающая на хрусткость фрукта\n",
        "* Juiciness: Уровень сочности фрукта\n",
        "* Ripeness: Стадия спелости плода\n",
        "* Acidity: Уровень кислотности плода\n",
        "* Quality: Общее качество плода"
      ],
      "metadata": {
        "id": "pkBRgRtnpElH"
      }
    },
    {
      "cell_type": "code",
      "source": [
        "#тестовая выборка\n",
        "test_features = pd.read_csv('/content/test_features.csv')\n",
        "test_features.head()"
      ],
      "metadata": {
        "id": "LE8FO9M0pMdU"
      },
      "execution_count": null,
      "outputs": []
    },
    {
      "cell_type": "markdown",
      "source": [
        "## Задания"
      ],
      "metadata": {
        "id": "jgkvR_vfrTrJ"
      }
    },
    {
      "cell_type": "code",
      "source": [
        "# 1 - провести небольшой анализ - графически, статистически и хоть как-нибудь\n",
        "#оценить зависимость любых двух признаков и результирующей Quality - сделать выводы"
      ],
      "metadata": {
        "id": "FYqgnQV8rVeF"
      },
      "execution_count": 42,
      "outputs": []
    },
    {
      "cell_type": "code",
      "source": [
        "import numpy as np\n",
        "import pandas as pd\n",
        "import seaborn as sns\n",
        "import matplotlib.pyplot as plt # Вычисление корреляционной матрицы\n",
        "corr_matrix = df_train.corr() # Визуализация корреляции\n",
        "plt.figure(figsize=(8, 6))\n",
        "sns.heatmap(corr_matrix, annot=True)\n"
      ],
      "metadata": {
        "id": "xrNrPqkKdSwa",
        "outputId": "9ab59665-a972-4fdb-dcf5-2a8912226737",
        "colab": {
          "base_uri": "https://localhost:8080/",
          "height": 670
        }
      },
      "execution_count": 43,
      "outputs": [
        {
          "output_type": "stream",
          "name": "stderr",
          "text": [
            "<ipython-input-43-b127f687ad81>:5: FutureWarning: The default value of numeric_only in DataFrame.corr is deprecated. In a future version, it will default to False. Select only valid columns or specify the value of numeric_only to silence this warning.\n",
            "  corr_matrix = df_train.corr() # Визуализация корреляции\n"
          ]
        },
        {
          "output_type": "execute_result",
          "data": {
            "text/plain": [
              "<Axes: >"
            ]
          },
          "metadata": {},
          "execution_count": 43
        },
        {
          "output_type": "display_data",
          "data": {
            "text/plain": [
              "<Figure size 800x600 with 2 Axes>"
            ],
            "image/png": "[encoded data removed]"
          },
          "metadata": {}
        }
      ]
    },
    {
      "cell_type": "code",
      "source": [
        "#num_columns = df_train.select_dtypes(include=['float64', 'int64']).columns # выбираем числвоые колонки\n",
        "#cat_columns = df_train.select_dtypes(include=['category']).columns # выбираем категориальные колонки"
      ],
      "metadata": {
        "id": "UM6XTonjcYlU"
      },
      "execution_count": 44,
      "outputs": []
    },
    {
      "cell_type": "code",
      "source": [
        "plt.figure(figsize=(15, 15))\n",
        "for i, column in enumerate(num_columns, 1): plt.subplot(4, 3, i)\n",
        "sns.histplot(df_train[column], kde=True)\n",
        "plt.title(column)\n",
        "plt.tight_layout()\n",
        "plt.show()"
      ],
      "metadata": {
        "id": "szLK_YxBcge8",
        "outputId": "4dca4157-c253-41b9-9cf0-979dfed59683",
        "colab": {
          "base_uri": "https://localhost:8080/",
          "height": 893
        }
      },
      "execution_count": 45,
      "outputs": [
        {
          "output_type": "display_data",
          "data": {
            "text/plain": [
              "<Figure size 1500x1500 with 7 Axes>"
            ],
            "image/png": "[encoded data removed]"
          },
          "metadata": {}
        }
      ]
    },
    {
      "cell_type": "code",
      "source": [
        "# 2 - закодировать значения столбца Quality, где bad - 0, good - 1"
      ],
      "metadata": {
        "id": "YaLt3y9mrn_j"
      },
      "execution_count": 46,
      "outputs": []
    },
    {
      "cell_type": "code",
      "source": [
        "plt.figure(figsize = (10, 5))\n",
        "sns.countplot(data = df_train, x='Quality')\n",
        "plt.title('Quality distribution')\n",
        "plt.show()"
      ],
      "metadata": {
        "id": "SC2awSp_gu8T",
        "outputId": "caaf0cdd-1f52-40d8-e191-cdbbecb241f0",
        "colab": {
          "base_uri": "https://localhost:8080/",
          "height": 487
        }
      },
      "execution_count": 47,
      "outputs": [
        {
          "output_type": "display_data",
          "data": {
            "text/plain": [
              "<Figure size 1000x500 with 1 Axes>"
            ],
            "image/png": "[encoded data removed]"
          },
          "metadata": {}
        }
      ]
    },
    {
      "cell_type": "code",
      "source": [
        "#предобработка данных\n",
        "\n",
        "#map для Sex\n",
        "df_train['Quality']=df_train['Quality'].map({'good':1,'bad':0})\n"
      ],
      "metadata": {
        "id": "9Tkah-nYg_Kw"
      },
      "execution_count": 48,
      "outputs": []
    },
    {
      "cell_type": "code",
      "source": [
        "plt.figure(figsize = (10, 5))\n",
        "sns.countplot(data = df_train, x='Quality')\n",
        "plt.title('Quality distribution')\n",
        "plt.show()"
      ],
      "metadata": {
        "id": "2hX_4NFqhWI5",
        "outputId": "5fe4f4a5-155f-48f1-cb53-07b8a6cb3770",
        "colab": {
          "base_uri": "https://localhost:8080/",
          "height": 487
        }
      },
      "execution_count": 49,
      "outputs": [
        {
          "output_type": "display_data",
          "data": {
            "text/plain": [
              "<Figure size 1000x500 with 1 Axes>"
            ],
            "image/png": "[encoded data removed]"
          },
          "metadata": {}
        }
      ]
    },
    {
      "cell_type": "code",
      "source": [
        "# 3 - построить модель логистической регрессии со всеми признаками с помощью statsmodels\n",
        "# какие признаки оказались значимы?\n",
        "# какие признаки при их увеличении увеличивают вероятность того, что перед нами хорошее яблоко?"
      ],
      "metadata": {
        "id": "fHEGEpwfr10G"
      },
      "execution_count": 50,
      "outputs": []
    },
    {
      "cell_type": "code",
      "source": [
        "#делим на X и Y\n",
        "Y = df_train['Quality']\n",
        "X = df_train.drop(['Quality'],axis=1)"
      ],
      "metadata": {
        "id": "2ebBZfW5iV8b"
      },
      "execution_count": 51,
      "outputs": []
    },
    {
      "cell_type": "code",
      "source": [
        "log_reg = sm.Logit(Y, add_constant(X)).fit()\n",
        "print(log_reg.summary2())"
      ],
      "metadata": {
        "id": "bUEdQkP1iaob",
        "outputId": "bfe87e43-fa29-46a6-a4d6-63b8c1c8c271",
        "colab": {
          "base_uri": "https://localhost:8080/"
        }
      },
      "execution_count": 52,
      "outputs": [
        {
          "output_type": "stream",
          "name": "stdout",
          "text": [
            "Optimization terminated successfully.\n",
            "         Current function value: 0.514139\n",
            "         Iterations 6\n",
            "                          Results: Logit\n",
            "==================================================================\n",
            "Model:              Logit            Method:           MLE        \n",
            "Dependent Variable: Quality          Pseudo R-squared: 0.258      \n",
            "Date:               2024-02-12 09:02 AIC:              3614.9759  \n",
            "No. Observations:   3500             BIC:              3664.2601  \n",
            "Df Model:           7                Log-Likelihood:   -1799.5    \n",
            "Df Residuals:       3492             LL-Null:          -2425.8    \n",
            "Converged:          1.0000           LLR p-value:      2.7967e-266\n",
            "No. Iterations:     6.0000           Scale:            1.0000     \n",
            "-------------------------------------------------------------------\n",
            "               Coef.   Std.Err.     z      P>|z|    [0.025   0.975]\n",
            "-------------------------------------------------------------------\n",
            "const          0.6576    0.0661    9.9529  0.0000   0.5281   0.7871\n",
            "Size           0.6432    0.0302   21.2788  0.0000   0.5839   0.7024\n",
            "Weight         0.2636    0.0301    8.7621  0.0000   0.2046   0.3226\n",
            "Sweetness      0.5714    0.0291   19.6345  0.0000   0.5143   0.6284\n",
            "Crunchiness    0.0360    0.0325    1.1072  0.2682  -0.0277   0.0996\n",
            "Juiciness      0.4411    0.0258   17.0869  0.0000   0.3905   0.4917\n",
            "Ripeness      -0.1391    0.0264   -5.2773  0.0000  -0.1908  -0.0874\n",
            "Acidity       -0.2967    0.0229  -12.9671  0.0000  -0.3415  -0.2518\n",
            "==================================================================\n",
            "\n"
          ]
        }
      ]
    },
    {
      "cell_type": "code",
      "source": [
        "#создание модели с помощью scikit-learn\n",
        "clf = LogisticRegression()"
      ],
      "metadata": {
        "id": "dRib2GM3lHSs"
      },
      "execution_count": 53,
      "outputs": []
    },
    {
      "cell_type": "code",
      "source": [
        "# 4 - попробуйте составить однофакторные модели с каждым признаком в отдельности\n",
        "# какие признаки оказались значимы?"
      ],
      "metadata": {
        "id": "mL02th3hsS2s"
      },
      "execution_count": 54,
      "outputs": []
    },
    {
      "cell_type": "code",
      "source": [
        "#гиперпараметры\n",
        "C_values = [0.001, 0.01, 0.1, 10, 100, 1000]\n",
        "solvers = ['lbfgs', 'liblinear', 'newton-cg', 'newton-cholesky', 'sag', 'saga']"
      ],
      "metadata": {
        "id": "Or7wYq5Smgoa"
      },
      "execution_count": 55,
      "outputs": []
    },
    {
      "cell_type": "code",
      "source": [
        "# 5 - постройте модель логистической регрессии с помощью sklearn (на любом наборе признаков)\n",
        "# попробуйте с помощью кросс-валидации (метрика - точность) и перебора признаков определить оптимальные параметры для вашей модели"
      ],
      "metadata": {
        "id": "trLWRJTtmnwZ"
      },
      "execution_count": 64,
      "outputs": []
    },
    {
      "cell_type": "code",
      "source": [
        "#кросс-валидация, метрика - точность\n",
        "scores = cross_validate(clf, X, Y, cv=10,scoring=('accuracy'))"
      ],
      "metadata": {
        "id": "UX2dT_zlmsdf"
      },
      "execution_count": 65,
      "outputs": []
    },
    {
      "cell_type": "code",
      "source": [
        "scores"
      ],
      "metadata": {
        "id": "nsyp9tgDmyAp",
        "outputId": "23b66dfc-07af-4765-c3e5-5bf2cf37be4f",
        "colab": {
          "base_uri": "https://localhost:8080/"
        }
      },
      "execution_count": 66,
      "outputs": [
        {
          "output_type": "execute_result",
          "data": {
            "text/plain": [
              "{'fit_time': array([0.04106045, 0.04102468, 0.03980637, 0.04402781, 0.07872176,\n",
              "        0.06404281, 0.0632031 , 0.02627087, 0.02504444, 0.02431083]),\n",
              " 'score_time': array([0.00386834, 0.01055169, 0.00926948, 0.01907277, 0.00344253,\n",
              "        0.01432729, 0.00897217, 0.0036335 , 0.00366783, 0.00366282]),\n",
              " 'test_score': array([0.76      , 0.68857143, 0.77714286, 0.75714286, 0.72      ,\n",
              "        0.73428571, 0.79714286, 0.76      , 0.76      , 0.74285714])}"
            ]
          },
          "metadata": {},
          "execution_count": 66
        }
      ]
    },
    {
      "cell_type": "code",
      "source": [
        "scores['test_score'].mean().round(2)"
      ],
      "metadata": {
        "id": "ApzhnCe3m5xy",
        "outputId": "4035b2c1-f8f8-4efc-dc53-30a456a22678",
        "colab": {
          "base_uri": "https://localhost:8080/"
        }
      },
      "execution_count": 67,
      "outputs": [
        {
          "output_type": "execute_result",
          "data": {
            "text/plain": [
              "0.75"
            ]
          },
          "metadata": {},
          "execution_count": 67
        }
      ]
    },
    {
      "cell_type": "code",
      "source": [
        "#тюнинг модели - подбор наилучших параметров\n",
        "for c in C_values:\n",
        "  for s in solvers:\n",
        "    clf = LogisticRegression(penalty='l2',C=c,solver=s,max_iter=10000)\n",
        "    scores = cross_validate(clf, X, Y, cv=10,scoring=('accuracy'))\n",
        "    print(f'{c},{s} - ',scores['test_score'].mean().round(2))"
      ],
      "metadata": {
        "id": "YXP_HN1knK9Z",
        "outputId": "bfcc13a5-9991-4ac4-ab01-1a0b2accb8b7",
        "colab": {
          "base_uri": "https://localhost:8080/"
        }
      },
      "execution_count": 68,
      "outputs": [
        {
          "output_type": "stream",
          "name": "stdout",
          "text": [
            "0.001,lbfgs -  0.74\n",
            "0.001,liblinear -  0.73\n",
            "0.001,newton-cg -  0.74\n",
            "0.001,newton-cholesky -  0.74\n",
            "0.001,sag -  0.74\n",
            "0.001,saga -  0.74\n",
            "0.01,lbfgs -  0.75\n",
            "0.01,liblinear -  0.75\n",
            "0.01,newton-cg -  0.75\n",
            "0.01,newton-cholesky -  0.75\n",
            "0.01,sag -  0.75\n",
            "0.01,saga -  0.75\n",
            "0.1,lbfgs -  0.75\n",
            "0.1,liblinear -  0.75\n",
            "0.1,newton-cg -  0.75\n",
            "0.1,newton-cholesky -  0.75\n",
            "0.1,sag -  0.75\n",
            "0.1,saga -  0.75\n",
            "10,lbfgs -  0.75\n",
            "10,liblinear -  0.75\n",
            "10,newton-cg -  0.75\n",
            "10,newton-cholesky -  0.75\n",
            "10,sag -  0.75\n",
            "10,saga -  0.75\n",
            "100,lbfgs -  0.75\n",
            "100,liblinear -  0.75\n",
            "100,newton-cg -  0.75\n",
            "100,newton-cholesky -  0.75\n",
            "100,sag -  0.75\n",
            "100,saga -  0.75\n",
            "1000,lbfgs -  0.75\n",
            "1000,liblinear -  0.75\n",
            "1000,newton-cg -  0.75\n",
            "1000,newton-cholesky -  0.75\n",
            "1000,sag -  0.75\n",
            "1000,saga -  0.75\n"
          ]
        }
      ]
    },
    {
      "cell_type": "code",
      "source": [
        "clf_final = LogisticRegression(penalty='l2',C=0.01,solver='lbfgs',max_iter=10000)"
      ],
      "metadata": {
        "id": "MUkrxpVRnQna"
      },
      "execution_count": 69,
      "outputs": []
    },
    {
      "cell_type": "code",
      "source": [
        "X_train, X_test, y_train, y_test = train_test_split(X, Y, test_size=0.2, random_state=0)\n",
        "clf_final.fit(X_train,y_train)"
      ],
      "metadata": {
        "id": "CYfVxJIJnXkQ",
        "outputId": "7274d777-a306-434d-f4ef-7930f68351db",
        "colab": {
          "base_uri": "https://localhost:8080/",
          "height": 75
        }
      },
      "execution_count": 70,
      "outputs": [
        {
          "output_type": "execute_result",
          "data": {
            "text/plain": [
              "LogisticRegression(C=0.01, max_iter=10000)"
            ],
            "text/html": [
              "<style>#sk-container-id-2 {color: black;background-color: white;}#sk-container-id-2 pre{padding: 0;}#sk-container-id-2 div.sk-toggleable {background-color: white;}#sk-container-id-2 label.sk-toggleable__label {cursor: pointer;display: block;width: 100%;margin-bottom: 0;padding: 0.3em;box-sizing: border-box;text-align: center;}#sk-container-id-2 label.sk-toggleable__label-arrow:before {content: \"▸\";float: left;margin-right: 0.25em;color: #696969;}#sk-container-id-2 label.sk-toggleable__label-arrow:hover:before {color: black;}#sk-container-id-2 div.sk-estimator:hover label.sk-toggleable__label-arrow:before {color: black;}#sk-container-id-2 div.sk-toggleable__content {max-height: 0;max-width: 0;overflow: hidden;text-align: left;background-color: #f0f8ff;}#sk-container-id-2 div.sk-toggleable__content pre {margin: 0.2em;color: black;border-radius: 0.25em;background-color: #f0f8ff;}#sk-container-id-2 input.sk-toggleable__control:checked~div.sk-toggleable__content {max-height: 200px;max-width: 100%;overflow: auto;}#sk-container-id-2 input.sk-toggleable__control:checked~label.sk-toggleable__label-arrow:before {content: \"▾\";}#sk-container-id-2 div.sk-estimator input.sk-toggleable__control:checked~label.sk-toggleable__label {background-color: #d4ebff;}#sk-container-id-2 div.sk-label input.sk-toggleable__control:checked~label.sk-toggleable__label {background-color: #d4ebff;}#sk-container-id-2 input.sk-hidden--visually {border: 0;clip: rect(1px 1px 1px 1px);clip: rect(1px, 1px, 1px, 1px);height: 1px;margin: -1px;overflow: hidden;padding: 0;position: absolute;width: 1px;}#sk-container-id-2 div.sk-estimator {font-family: monospace;background-color: #f0f8ff;border: 1px dotted black;border-radius: 0.25em;box-sizing: border-box;margin-bottom: 0.5em;}#sk-container-id-2 div.sk-estimator:hover {background-color: #d4ebff;}#sk-container-id-2 div.sk-parallel-item::after {content: \"\";width: 100%;border-bottom: 1px solid gray;flex-grow: 1;}#sk-container-id-2 div.sk-label:hover label.sk-toggleable__label {background-color: #d4ebff;}#sk-container-id-2 div.sk-serial::before {content: \"\";position: absolute;border-left: 1px solid gray;box-sizing: border-box;top: 0;bottom: 0;left: 50%;z-index: 0;}#sk-container-id-2 div.sk-serial {display: flex;flex-direction: column;align-items: center;background-color: white;padding-right: 0.2em;padding-left: 0.2em;position: relative;}#sk-container-id-2 div.sk-item {position: relative;z-index: 1;}#sk-container-id-2 div.sk-parallel {display: flex;align-items: stretch;justify-content: center;background-color: white;position: relative;}#sk-container-id-2 div.sk-item::before, #sk-container-id-2 div.sk-parallel-item::before {content: \"\";position: absolute;border-left: 1px solid gray;box-sizing: border-box;top: 0;bottom: 0;left: 50%;z-index: -1;}#sk-container-id-2 div.sk-parallel-item {display: flex;flex-direction: column;z-index: 1;position: relative;background-color: white;}#sk-container-id-2 div.sk-parallel-item:first-child::after {align-self: flex-end;width: 50%;}#sk-container-id-2 div.sk-parallel-item:last-child::after {align-self: flex-start;width: 50%;}#sk-container-id-2 div.sk-parallel-item:only-child::after {width: 0;}#sk-container-id-2 div.sk-dashed-wrapped {border: 1px dashed gray;margin: 0 0.4em 0.5em 0.4em;box-sizing: border-box;padding-bottom: 0.4em;background-color: white;}#sk-container-id-2 div.sk-label label {font-family: monospace;font-weight: bold;display: inline-block;line-height: 1.2em;}#sk-container-id-2 div.sk-label-container {text-align: center;}#sk-container-id-2 div.sk-container {/* jupyter's `normalize.less` sets `[hidden] { display: none; }` but bootstrap.min.css set `[hidden] { display: none !important; }` so we also need the `!important` here to be able to override the default hidden behavior on the sphinx rendered scikit-learn.org. See: https://github.com/scikit-learn/scikit-learn/issues/21755 */display: inline-block !important;position: relative;}#sk-container-id-2 div.sk-text-repr-fallback {display: none;}</style><div id=\"sk-container-id-2\" class=\"sk-top-container\"><div class=\"sk-text-repr-fallback\"><pre>LogisticRegression(C=0.01, max_iter=10000)</pre><b>In a Jupyter environment, please rerun this cell to show the HTML representation or trust the notebook. <br />On GitHub, the HTML representation is unable to render, please try loading this page with nbviewer.org.</b></div><div class=\"sk-container\" hidden><div class=\"sk-item\"><div class=\"sk-estimator sk-toggleable\"><input class=\"sk-toggleable__control sk-hidden--visually\" id=\"sk-estimator-id-2\" type=\"checkbox\" checked><label for=\"sk-estimator-id-2\" class=\"sk-toggleable__label sk-toggleable__label-arrow\">LogisticRegression</label><div class=\"sk-toggleable__content\"><pre>LogisticRegression(C=0.01, max_iter=10000)</pre></div></div></div></div></div>"
            ]
          },
          "metadata": {},
          "execution_count": 70
        }
      ]
    },
    {
      "cell_type": "code",
      "source": [
        "#коэффициенты при признаках\n",
        "coefs=pd.DataFrame()\n",
        "coefs['coef']=clf_final.coef_[0]\n",
        "coefs['column']=X.columns\n",
        "print('Свободный член:',clf_final.intercept_)\n",
        "coefs"
      ],
      "metadata": {
        "id": "gpvspdb1ndFp",
        "outputId": "6eb8bc62-548a-4920-abbf-0434671c34cf",
        "colab": {
          "base_uri": "https://localhost:8080/",
          "height": 286
        }
      },
      "execution_count": 71,
      "outputs": [
        {
          "output_type": "stream",
          "name": "stdout",
          "text": [
            "Свободный член: [0.55559933]\n"
          ]
        },
        {
          "output_type": "execute_result",
          "data": {
            "text/plain": [
              "       coef       column\n",
              "0  0.524630         Size\n",
              "1  0.216968       Weight\n",
              "2  0.474853    Sweetness\n",
              "3  0.027061  Crunchiness\n",
              "4  0.370404    Juiciness\n",
              "5 -0.130905     Ripeness\n",
              "6 -0.229892      Acidity"
            ],
            "text/html": [
              "\n",
              "  <div id=\"df-96ab6721-00b1-4da1-8369-26aa74473046\" class=\"colab-df-container\">\n",
              "    <div>\n",
              "<style scoped>\n",
              "    .dataframe tbody tr th:only-of-type {\n",
              "        vertical-align: middle;\n",
              "    }\n",
              "\n",
              "    .dataframe tbody tr th {\n",
              "        vertical-align: top;\n",
              "    }\n",
              "\n",
              "    .dataframe thead th {\n",
              "        text-align: right;\n",
              "    }\n",
              "</style>\n",
              "<table border=\"1\" class=\"dataframe\">\n",
              "  <thead>\n",
              "    <tr style=\"text-align: right;\">\n",
              "      <th></th>\n",
              "      <th>coef</th>\n",
              "      <th>column</th>\n",
              "    </tr>\n",
              "  </thead>\n",
              "  <tbody>\n",
              "    <tr>\n",
              "      <th>0</th>\n",
              "      <td>0.524630</td>\n",
              "      <td>Size</td>\n",
              "    </tr>\n",
              "    <tr>\n",
              "      <th>1</th>\n",
              "      <td>0.216968</td>\n",
              "      <td>Weight</td>\n",
              "    </tr>\n",
              "    <tr>\n",
              "      <th>2</th>\n",
              "      <td>0.474853</td>\n",
              "      <td>Sweetness</td>\n",
              "    </tr>\n",
              "    <tr>\n",
              "      <th>3</th>\n",
              "      <td>0.027061</td>\n",
              "      <td>Crunchiness</td>\n",
              "    </tr>\n",
              "    <tr>\n",
              "      <th>4</th>\n",
              "      <td>0.370404</td>\n",
              "      <td>Juiciness</td>\n",
              "    </tr>\n",
              "    <tr>\n",
              "      <th>5</th>\n",
              "      <td>-0.130905</td>\n",
              "      <td>Ripeness</td>\n",
              "    </tr>\n",
              "    <tr>\n",
              "      <th>6</th>\n",
              "      <td>-0.229892</td>\n",
              "      <td>Acidity</td>\n",
              "    </tr>\n",
              "  </tbody>\n",
              "</table>\n",
              "</div>\n",
              "    <div class=\"colab-df-buttons\">\n",
              "\n",
              "  <div class=\"colab-df-container\">\n",
              "    <button class=\"colab-df-convert\" onclick=\"convertToInteractive('df-96ab6721-00b1-4da1-8369-26aa74473046')\"\n",
              "            title=\"Convert this dataframe to an interactive table.\"\n",
              "            style=\"display:none;\">\n",
              "\n",
              "  <svg xmlns=\"http://www.w3.org/2000/svg\" height=\"24px\" viewBox=\"0 -960 960 960\">\n",
              "    <path d=\"M120-120v-720h720v720H120Zm60-500h600v-160H180v160Zm220 220h160v-160H400v160Zm0 220h160v-160H400v160ZM180-400h160v-160H180v160Zm440 0h160v-160H620v160ZM180-180h160v-160H180v160Zm440 0h160v-160H620v160Z\"/>\n",
              "  </svg>\n",
              "    </button>\n",
              "\n",
              "  <style>\n",
              "    .colab-df-container {\n",
              "      display:flex;\n",
              "      gap: 12px;\n",
              "    }\n",
              "\n",
              "    .colab-df-convert {\n",
              "      background-color: #E8F0FE;\n",
              "      border: none;\n",
              "      border-radius: 50%;\n",
              "      cursor: pointer;\n",
              "      display: none;\n",
              "      fill: #1967D2;\n",
              "      height: 32px;\n",
              "      padding: 0 0 0 0;\n",
              "      width: 32px;\n",
              "    }\n",
              "\n",
              "    .colab-df-convert:hover {\n",
              "      background-color: #E2EBFA;\n",
              "      box-shadow: 0px 1px 2px rgba(60, 64, 67, 0.3), 0px 1px 3px 1px rgba(60, 64, 67, 0.15);\n",
              "      fill: #174EA6;\n",
              "    }\n",
              "\n",
              "    .colab-df-buttons div {\n",
              "      margin-bottom: 4px;\n",
              "    }\n",
              "\n",
              "    [theme=dark] .colab-df-convert {\n",
              "      background-color: #3B4455;\n",
              "      fill: #D2E3FC;\n",
              "    }\n",
              "\n",
              "    [theme=dark] .colab-df-convert:hover {\n",
              "      background-color: #434B5C;\n",
              "      box-shadow: 0px 1px 3px 1px rgba(0, 0, 0, 0.15);\n",
              "      filter: drop-shadow(0px 1px 2px rgba(0, 0, 0, 0.3));\n",
              "      fill: #FFFFFF;\n",
              "    }\n",
              "  </style>\n",
              "\n",
              "    <script>\n",
              "      const buttonEl =\n",
              "        document.querySelector('#df-96ab6721-00b1-4da1-8369-26aa74473046 button.colab-df-convert');\n",
              "      buttonEl.style.display =\n",
              "        google.colab.kernel.accessAllowed ? 'block' : 'none';\n",
              "\n",
              "      async function convertToInteractive(key) {\n",
              "        const element = document.querySelector('#df-96ab6721-00b1-4da1-8369-26aa74473046');\n",
              "        const dataTable =\n",
              "          await google.colab.kernel.invokeFunction('convertToInteractive',\n",
              "                                                    [key], {});\n",
              "        if (!dataTable) return;\n",
              "\n",
              "        const docLinkHtml = 'Like what you see? Visit the ' +\n",
              "          '<a target=\"_blank\" href=https://colab.research.google.com/notebooks/data_table.ipynb>data table notebook</a>'\n",
              "          + ' to learn more about interactive tables.';\n",
              "        element.innerHTML = '';\n",
              "        dataTable['output_type'] = 'display_data';\n",
              "        await google.colab.output.renderOutput(dataTable, element);\n",
              "        const docLink = document.createElement('div');\n",
              "        docLink.innerHTML = docLinkHtml;\n",
              "        element.appendChild(docLink);\n",
              "      }\n",
              "    </script>\n",
              "  </div>\n",
              "\n",
              "\n",
              "<div id=\"df-4b02c648-690f-4edf-a8c3-47065af06cc7\">\n",
              "  <button class=\"colab-df-quickchart\" onclick=\"quickchart('df-4b02c648-690f-4edf-a8c3-47065af06cc7')\"\n",
              "            title=\"Suggest charts\"\n",
              "            style=\"display:none;\">\n",
              "\n",
              "<svg xmlns=\"http://www.w3.org/2000/svg\" height=\"24px\"viewBox=\"0 0 24 24\"\n",
              "     width=\"24px\">\n",
              "    <g>\n",
              "        <path d=\"M19 3H5c-1.1 0-2 .9-2 2v14c0 1.1.9 2 2 2h14c1.1 0 2-.9 2-2V5c0-1.1-.9-2-2-2zM9 17H7v-7h2v7zm4 0h-2V7h2v10zm4 0h-2v-4h2v4z\"/>\n",
              "    </g>\n",
              "</svg>\n",
              "  </button>\n",
              "\n",
              "<style>\n",
              "  .colab-df-quickchart {\n",
              "      --bg-color: #E8F0FE;\n",
              "      --fill-color: #1967D2;\n",
              "      --hover-bg-color: #E2EBFA;\n",
              "      --hover-fill-color: #174EA6;\n",
              "      --disabled-fill-color: #AAA;\n",
              "      --disabled-bg-color: #DDD;\n",
              "  }\n",
              "\n",
              "  [theme=dark] .colab-df-quickchart {\n",
              "      --bg-color: #3B4455;\n",
              "      --fill-color: #D2E3FC;\n",
              "      --hover-bg-color: #434B5C;\n",
              "      --hover-fill-color: #FFFFFF;\n",
              "      --disabled-bg-color: #3B4455;\n",
              "      --disabled-fill-color: #666;\n",
              "  }\n",
              "\n",
              "  .colab-df-quickchart {\n",
              "    background-color: var(--bg-color);\n",
              "    border: none;\n",
              "    border-radius: 50%;\n",
              "    cursor: pointer;\n",
              "    display: none;\n",
              "    fill: var(--fill-color);\n",
              "    height: 32px;\n",
              "    padding: 0;\n",
              "    width: 32px;\n",
              "  }\n",
              "\n",
              "  .colab-df-quickchart:hover {\n",
              "    background-color: var(--hover-bg-color);\n",
              "    box-shadow: 0 1px 2px rgba(60, 64, 67, 0.3), 0 1px 3px 1px rgba(60, 64, 67, 0.15);\n",
              "    fill: var(--button-hover-fill-color);\n",
              "  }\n",
              "\n",
              "  .colab-df-quickchart-complete:disabled,\n",
              "  .colab-df-quickchart-complete:disabled:hover {\n",
              "    background-color: var(--disabled-bg-color);\n",
              "    fill: var(--disabled-fill-color);\n",
              "    box-shadow: none;\n",
              "  }\n",
              "\n",
              "  .colab-df-spinner {\n",
              "    border: 2px solid var(--fill-color);\n",
              "    border-color: transparent;\n",
              "    border-bottom-color: var(--fill-color);\n",
              "    animation:\n",
              "      spin 1s steps(1) infinite;\n",
              "  }\n",
              "\n",
              "  @keyframes spin {\n",
              "    0% {\n",
              "      border-color: transparent;\n",
              "      border-bottom-color: var(--fill-color);\n",
              "      border-left-color: var(--fill-color);\n",
              "    }\n",
              "    20% {\n",
              "      border-color: transparent;\n",
              "      border-left-color: var(--fill-color);\n",
              "      border-top-color: var(--fill-color);\n",
              "    }\n",
              "    30% {\n",
              "      border-color: transparent;\n",
              "      border-left-color: var(--fill-color);\n",
              "      border-top-color: var(--fill-color);\n",
              "      border-right-color: var(--fill-color);\n",
              "    }\n",
              "    40% {\n",
              "      border-color: transparent;\n",
              "      border-right-color: var(--fill-color);\n",
              "      border-top-color: var(--fill-color);\n",
              "    }\n",
              "    60% {\n",
              "      border-color: transparent;\n",
              "      border-right-color: var(--fill-color);\n",
              "    }\n",
              "    80% {\n",
              "      border-color: transparent;\n",
              "      border-right-color: var(--fill-color);\n",
              "      border-bottom-color: var(--fill-color);\n",
              "    }\n",
              "    90% {\n",
              "      border-color: transparent;\n",
              "      border-bottom-color: var(--fill-color);\n",
              "    }\n",
              "  }\n",
              "</style>\n",
              "\n",
              "  <script>\n",
              "    async function quickchart(key) {\n",
              "      const quickchartButtonEl =\n",
              "        document.querySelector('#' + key + ' button');\n",
              "      quickchartButtonEl.disabled = true;  // To prevent multiple clicks.\n",
              "      quickchartButtonEl.classList.add('colab-df-spinner');\n",
              "      try {\n",
              "        const charts = await google.colab.kernel.invokeFunction(\n",
              "            'suggestCharts', [key], {});\n",
              "      } catch (error) {\n",
              "        console.error('Error during call to suggestCharts:', error);\n",
              "      }\n",
              "      quickchartButtonEl.classList.remove('colab-df-spinner');\n",
              "      quickchartButtonEl.classList.add('colab-df-quickchart-complete');\n",
              "    }\n",
              "    (() => {\n",
              "      let quickchartButtonEl =\n",
              "        document.querySelector('#df-4b02c648-690f-4edf-a8c3-47065af06cc7 button');\n",
              "      quickchartButtonEl.style.display =\n",
              "        google.colab.kernel.accessAllowed ? 'block' : 'none';\n",
              "    })();\n",
              "  </script>\n",
              "</div>\n",
              "    </div>\n",
              "  </div>\n"
            ]
          },
          "metadata": {},
          "execution_count": 71
        }
      ]
    },
    {
      "cell_type": "code",
      "source": [
        "#предсказание\n",
        "y_pred = clf_final.predict(X_test)\n",
        "\n",
        "for i in range(10):\n",
        "  print(f'Модель - {y_pred[i]},Истинная метка - {y_test.values[i]}')"
      ],
      "metadata": {
        "id": "Fw1rynYLsnE5",
        "outputId": "efcfde6c-11bb-4434-c287-2d0a66345c8a",
        "colab": {
          "base_uri": "https://localhost:8080/"
        }
      },
      "execution_count": 72,
      "outputs": [
        {
          "output_type": "stream",
          "name": "stdout",
          "text": [
            "Модель - 0,Истинная метка - 0\n",
            "Модель - 1,Истинная метка - 1\n",
            "Модель - 0,Истинная метка - 0\n",
            "Модель - 1,Истинная метка - 1\n",
            "Модель - 0,Истинная метка - 0\n",
            "Модель - 0,Истинная метка - 1\n",
            "Модель - 1,Истинная метка - 1\n",
            "Модель - 0,Истинная метка - 0\n",
            "Модель - 1,Истинная метка - 1\n",
            "Модель - 1,Истинная метка - 1\n"
          ]
        }
      ]
    },
    {
      "cell_type": "code",
      "source": [
        "y_pred_proba = clf_final.predict_proba(X_test)\n",
        "#predict_proba(X_test)[:,1]\n",
        "y_pred_proba[:,1]"
      ],
      "metadata": {
        "id": "AT4EEpwZoeVp",
        "outputId": "291deb24-46be-4581-e932-d6ae245841f4",
        "colab": {
          "base_uri": "https://localhost:8080/"
        }
      },
      "execution_count": 73,
      "outputs": [
        {
          "output_type": "execute_result",
          "data": {
            "text/plain": [
              "array([0.12255988, 0.73842672, 0.03000795, 0.77010029, 0.16160446,\n",
              "       0.4935932 , 0.72384814, 0.0747201 , 0.92916607, 0.59006626,\n",
              "       0.59791758, 0.60290699, 0.31062409, 0.41267697, 0.57955617,\n",
              "       0.92795632, 0.36885903, 0.16307303, 0.4219789 , 0.66656981,\n",
              "       0.15546155, 0.09947342, 0.36951943, 0.67498724, 0.03051757,\n",
              "       0.82949747, 0.72995322, 0.60545562, 0.66040811, 0.75254318,\n",
              "       0.46427367, 0.1523817 , 0.27568938, 0.76673513, 0.35442694,\n",
              "       0.72988736, 0.07785278, 0.08070973, 0.30491432, 0.75558417,\n",
              "       0.72326706, 0.59828795, 0.08712488, 0.13899983, 0.12300899,\n",
              "       0.60385061, 0.36286271, 0.51497817, 0.47614006, 0.81799484,\n",
              "       0.38283777, 0.60301977, 0.55590184, 0.0534885 , 0.20071194,\n",
              "       0.60829546, 0.10513044, 0.19404686, 0.70666451, 0.47520854,\n",
              "       0.44258943, 0.57616655, 0.77328356, 0.06950722, 0.31183139,\n",
              "       0.86708953, 0.29861208, 0.56301132, 0.18608152, 0.26483279,\n",
              "       0.85844323, 0.39692892, 0.19709308, 0.85146669, 0.64675464,\n",
              "       0.73706805, 0.6198249 , 0.38286921, 0.18204757, 0.71740548,\n",
              "       0.06214861, 0.27987263, 0.96675148, 0.5903627 , 0.76054469,\n",
              "       0.91623805, 0.8637261 , 0.94262468, 0.38466348, 0.46164159,\n",
              "       0.21483474, 0.79748031, 0.03113216, 0.05088299, 0.10122715,\n",
              "       0.76580377, 0.33868323, 0.51235185, 0.0678897 , 0.52972896,\n",
              "       0.93277926, 0.37448105, 0.04066467, 0.45903288, 0.71689051,\n",
              "       0.49540646, 0.26188585, 0.33963419, 0.38761081, 0.39721725,\n",
              "       0.41537423, 0.29201031, 0.90838469, 0.16356506, 0.82379823,\n",
              "       0.86250619, 0.5419849 , 0.75222388, 0.76607128, 0.27473916,\n",
              "       0.61695537, 0.72236959, 0.27974539, 0.72700168, 0.29164062,\n",
              "       0.51110825, 0.27196036, 0.51444539, 0.83490986, 0.92178006,\n",
              "       0.74437464, 0.76058011, 0.48768316, 0.28194589, 0.59190855,\n",
              "       0.89756268, 0.69581261, 0.59356375, 0.90832287, 0.48507702,\n",
              "       0.43825374, 0.66063358, 0.80453343, 0.43190465, 0.94167112,\n",
              "       0.50292159, 0.56860621, 0.04261585, 0.86402292, 0.38682089,\n",
              "       0.65182844, 0.15442428, 0.21710842, 0.15468643, 0.87844937,\n",
              "       0.20153576, 0.79601538, 0.87362001, 0.39811279, 0.21376684,\n",
              "       0.39644767, 0.54196563, 0.7934013 , 0.72985959, 0.72117058,\n",
              "       0.50146047, 0.91614263, 0.90679535, 0.91079188, 0.67099565,\n",
              "       0.43928414, 0.05067606, 0.61876539, 0.78744883, 0.76726565,\n",
              "       0.06450407, 0.26514542, 0.30800127, 0.64731845, 0.65360996,\n",
              "       0.33428361, 0.83952392, 0.57455613, 0.7639642 , 0.23202225,\n",
              "       0.36015295, 0.65513338, 0.24354155, 0.55980213, 0.13032977,\n",
              "       0.76649062, 0.88717766, 0.60102795, 0.30270782, 0.19851973,\n",
              "       0.35679302, 0.52893865, 0.73062216, 0.84807513, 0.76940424,\n",
              "       0.59050059, 0.20963666, 0.43593021, 0.77992795, 0.60550259,\n",
              "       0.66262011, 0.84871884, 0.59986215, 0.0403032 , 0.5531993 ,\n",
              "       0.22142834, 0.47372334, 0.26407309, 0.76273305, 0.44866557,\n",
              "       0.42443863, 0.49433983, 0.16797808, 0.58280914, 0.31496417,\n",
              "       0.69222464, 0.61816905, 0.68396089, 0.29745265, 0.79329027,\n",
              "       0.28014691, 0.09814666, 0.21865516, 0.69048045, 0.39581212,\n",
              "       0.44977062, 0.12723767, 0.94804221, 0.63962439, 0.18957392,\n",
              "       0.69673717, 0.75867808, 0.23092079, 0.50317134, 0.13493696,\n",
              "       0.8497274 , 0.66314822, 0.61987957, 0.04606344, 0.61804209,\n",
              "       0.699959  , 0.75360572, 0.1856299 , 0.06175412, 0.32097333,\n",
              "       0.11340348, 0.83396054, 0.77150263, 0.87570365, 0.09167191,\n",
              "       0.59645997, 0.02589635, 0.19407501, 0.6936093 , 0.46780559,\n",
              "       0.8266097 , 0.13402803, 0.38546508, 0.49270367, 0.61564703,\n",
              "       0.6352452 , 0.14287099, 0.25229219, 0.09402814, 0.81274686,\n",
              "       0.70755821, 0.56835017, 0.39459369, 0.19312836, 0.75497533,\n",
              "       0.64799862, 0.40394788, 0.41484938, 0.63210036, 0.20774195,\n",
              "       0.649907  , 0.22951949, 0.27569107, 0.63534426, 0.84671187,\n",
              "       0.85499593, 0.04907885, 0.12323787, 0.33105868, 0.62863007,\n",
              "       0.16382872, 0.38106862, 0.34223176, 0.8451294 , 0.36807988,\n",
              "       0.34138619, 0.36299514, 0.90725696, 0.45592773, 0.6755719 ,\n",
              "       0.1942377 , 0.05448063, 0.16706536, 0.77653418, 0.14333109,\n",
              "       0.02977894, 0.58188106, 0.83942106, 0.33453715, 0.30097971,\n",
              "       0.79102674, 0.42195173, 0.52819113, 0.57806792, 0.79493296,\n",
              "       0.9898768 , 0.40063094, 0.20100952, 0.14824222, 0.03514507,\n",
              "       0.34061106, 0.47469426, 0.61864922, 0.59421251, 0.60536374,\n",
              "       0.23259529, 0.29064874, 0.50175347, 0.14552535, 0.27421793,\n",
              "       0.6702561 , 0.22938796, 0.64488829, 0.51059239, 0.52775909,\n",
              "       0.40331508, 0.66211417, 0.61542972, 0.67699655, 0.36751825,\n",
              "       0.47501807, 0.07852402, 0.29106757, 0.62391082, 0.87348966,\n",
              "       0.16683882, 0.55002813, 0.08362815, 0.45663228, 0.775846  ,\n",
              "       0.36936403, 0.59092131, 0.08669897, 0.37019375, 0.35607784,\n",
              "       0.88077248, 0.27905384, 0.17291328, 0.2647787 , 0.84173508,\n",
              "       0.63039676, 0.35023698, 0.27328294, 0.87486466, 0.84283943,\n",
              "       0.20298812, 0.15995483, 0.24632698, 0.26522569, 0.09786526,\n",
              "       0.5472289 , 0.1921789 , 0.49372651, 0.44646857, 0.28051913,\n",
              "       0.3675795 , 0.4507822 , 0.75917679, 0.42461588, 0.75919991,\n",
              "       0.37873747, 0.46024076, 0.19834141, 0.50101176, 0.30667347,\n",
              "       0.7554279 , 0.82975758, 0.56873001, 0.63736812, 0.39142929,\n",
              "       0.66305146, 0.3718901 , 0.79429724, 0.67855595, 0.91238546,\n",
              "       0.04474339, 0.75967242, 0.04354543, 0.91355545, 0.15124285,\n",
              "       0.30018579, 0.21013358, 0.58906164, 0.54066756, 0.36577931,\n",
              "       0.90342973, 0.6649325 , 0.30987534, 0.33345919, 0.76960517,\n",
              "       0.08972278, 0.94844923, 0.81874054, 0.04879338, 0.87437662,\n",
              "       0.28861058, 0.26223746, 0.29254221, 0.49847927, 0.36407831,\n",
              "       0.48411322, 0.22914201, 0.42355178, 0.92575893, 0.50522686,\n",
              "       0.63373722, 0.76033418, 0.32822662, 0.41365667, 0.64581213,\n",
              "       0.62239543, 0.75906949, 0.54457023, 0.65422507, 0.71671666,\n",
              "       0.48739703, 0.38179961, 0.79287388, 0.81608085, 0.38500428,\n",
              "       0.32916898, 0.91470409, 0.61571333, 0.31858588, 0.52638749,\n",
              "       0.39738168, 0.48158258, 0.09784164, 0.80073091, 0.13927951,\n",
              "       0.05802827, 0.86924573, 0.3459412 , 0.79490502, 0.61591951,\n",
              "       0.55136371, 0.86096348, 0.57964124, 0.80425163, 0.57686103,\n",
              "       0.47569724, 0.39030667, 0.31389069, 0.81164943, 0.82204389,\n",
              "       0.69656552, 0.59667222, 0.33116913, 0.23179145, 0.57588445,\n",
              "       0.70785844, 0.30456003, 0.40667599, 0.44209056, 0.1875171 ,\n",
              "       0.82519988, 0.44993955, 0.21227458, 0.72468519, 0.54784869,\n",
              "       0.88919916, 0.017396  , 0.65964208, 0.75012862, 0.53663127,\n",
              "       0.32974462, 0.76489735, 0.40877459, 0.18446949, 0.72690496,\n",
              "       0.35962891, 0.32829255, 0.65832264, 0.79179075, 0.21864168,\n",
              "       0.90879829, 0.81367573, 0.28003735, 0.70547329, 0.56168632,\n",
              "       0.80208797, 0.4817105 , 0.39430425, 0.88960339, 0.63723707,\n",
              "       0.11905258, 0.3346671 , 0.49969204, 0.84841505, 0.55109939,\n",
              "       0.776723  , 0.90445809, 0.78583302, 0.38986608, 0.69367757,\n",
              "       0.01249888, 0.14838839, 0.19196343, 0.49440744, 0.79084631,\n",
              "       0.95545068, 0.90102254, 0.763071  , 0.58639473, 0.83470793,\n",
              "       0.148656  , 0.32056369, 0.13883634, 0.74726922, 0.68324454,\n",
              "       0.83264679, 0.08420619, 0.2845578 , 0.08385627, 0.48873968,\n",
              "       0.82707886, 0.8643104 , 0.96430329, 0.16040141, 0.91674515,\n",
              "       0.42088255, 0.18490373, 0.25056756, 0.09499952, 0.31182561,\n",
              "       0.3706786 , 0.55957807, 0.24839497, 0.68574919, 0.58194112,\n",
              "       0.72728914, 0.20316307, 0.31589837, 0.17892905, 0.29450154,\n",
              "       0.70835748, 0.42992465, 0.51208597, 0.78115313, 0.76375497,\n",
              "       0.49883237, 0.90931635, 0.45809793, 0.39806479, 0.76837276,\n",
              "       0.51275172, 0.20030675, 0.3147329 , 0.76013326, 0.84031318,\n",
              "       0.89958693, 0.75028818, 0.31309685, 0.77541088, 0.06843642,\n",
              "       0.52900915, 0.74450547, 0.1829608 , 0.5876523 , 0.65545816,\n",
              "       0.64492003, 0.06071561, 0.7481977 , 0.57369072, 0.87421987,\n",
              "       0.05966036, 0.13831714, 0.66144231, 0.08506211, 0.11675964,\n",
              "       0.52521427, 0.79273812, 0.84151029, 0.40615585, 0.88876467,\n",
              "       0.3478185 , 0.70415052, 0.47578381, 0.61983223, 0.07135556,\n",
              "       0.6590439 , 0.65318789, 0.26177013, 0.37406232, 0.1294488 ,\n",
              "       0.08549801, 0.51215083, 0.34068539, 0.17489782, 0.87312026,\n",
              "       0.1899922 , 0.42293483, 0.87431327, 0.55901604, 0.7169844 ,\n",
              "       0.66097485, 0.36806527, 0.23486881, 0.37576252, 0.09741321,\n",
              "       0.75104411, 0.44640189, 0.66039516, 0.68536085, 0.35238559,\n",
              "       0.22892107, 0.26322452, 0.72001372, 0.38511641, 0.89862923,\n",
              "       0.55831777, 0.27291878, 0.70006217, 0.19717856, 0.13471525,\n",
              "       0.27895196, 0.36083456, 0.61992427, 0.22461522, 0.26200161,\n",
              "       0.67429972, 0.53854806, 0.29259979, 0.39282365, 0.72671941,\n",
              "       0.5233927 , 0.47939514, 0.03715498, 0.22035299, 0.5088463 ,\n",
              "       0.40521636, 0.65138014, 0.38173192, 0.74334887, 0.782655  ,\n",
              "       0.93808331, 0.4022722 , 0.05322034, 0.81923328, 0.27021499,\n",
              "       0.66468133, 0.12200181, 0.85099288, 0.34100473, 0.04112953,\n",
              "       0.45159922, 0.16922126, 0.38548962, 0.29728853, 0.32710978,\n",
              "       0.21800837, 0.61849065, 0.20824669, 0.6433689 , 0.39022319,\n",
              "       0.81842378, 0.13365886, 0.62387951, 0.60869644, 0.37361774,\n",
              "       0.81591226, 0.8248763 , 0.09252524, 0.82074436, 0.34640556,\n",
              "       0.26305572, 0.6409912 , 0.58200073, 0.74627878, 0.89162482,\n",
              "       0.8665443 , 0.49928875, 0.75285101, 0.21944119, 0.38108473,\n",
              "       0.14913388, 0.19382317, 0.45763948, 0.90153387, 0.61707451])"
            ]
          },
          "metadata": {},
          "execution_count": 73
        }
      ]
    },
    {
      "cell_type": "code",
      "source": [
        "# для тестового набора данных с помощью вашей модели предскажите значение Quality\n",
        "# результат прогноза преобразуйте обратно в good/bad"
      ],
      "metadata": {
        "id": "-DdxFD82s7j2"
      },
      "execution_count": null,
      "outputs": []
    },
    {
      "cell_type": "code",
      "source": [
        "# сохраните записку в ВашаФамилия.ipynb\n",
        "# результат прогноза для тестовой выборки просылаем в формате csv,\n",
        "# где лежит только один столбец result, название файла - ВашаФамилия.csv"
      ],
      "metadata": {
        "id": "SdKgNSJAtY-r"
      },
      "execution_count": null,
      "outputs": []
    },
    {
      "cell_type": "markdown",
      "source": [
        "Лучшая работа (3 балла) - выполнены все задания + лучшее значение метрики accuracy на тестовом наборе данных"
      ],
      "metadata": {
        "id": "Mq9IhrzSeX0W"
      }
    },
    {
      "cell_type": "markdown",
      "source": [
        "Форма для отправки ответов - https://forms.gle/GZkY8CoMWE4FcPK48"
      ],
      "metadata": {
        "id": "VpqojH7Ittpj"
      }
    }
  ]
}